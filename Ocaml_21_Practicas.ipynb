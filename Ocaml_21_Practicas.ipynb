{
 "cells": [
  {
   "cell_type": "markdown",
   "id": "d3b1b5d4-1ebd-468c-b33d-2680261dba5a",
   "metadata": {},
   "source": [
    "# 1.Practica 1  "
   ]
  },
  {
   "cell_type": "code",
   "execution_count": 1,
   "id": "c5e6ed20-2f92-4c26-bdfc-7b3efa6a8687",
   "metadata": {},
   "outputs": [
    {
     "data": {
      "text/plain": [
       "- : unit = ()\n"
      ]
     },
     "execution_count": 1,
     "metadata": {},
     "output_type": "execute_result"
    }
   ],
   "source": [
    "();;\n",
    "(* unit = ()  *)\n",
    "(* Es el tipo de dato más sencillo. Similar al void en C *)\n"
   ]
  },
  {
   "cell_type": "code",
   "execution_count": 2,
   "id": "b8a8e0cd-a31e-4a01-8f94-a33bf4e2d518",
   "metadata": {},
   "outputs": [
    {
     "data": {
      "text/plain": [
       "- : int = 66\n"
      ]
     },
     "execution_count": 2,
     "metadata": {},
     "output_type": "execute_result"
    },
    {
     "data": {
      "text/plain": [
       "- : char = 'C'\n"
      ]
     },
     "execution_count": 2,
     "metadata": {},
     "output_type": "execute_result"
    }
   ],
   "source": [
    "Char.code 'B';;\n",
    "(* : int = 66 *)\n",
    "\n",
    "Char.chr 67;;\n",
    "(* : char = 'C' *)"
   ]
  },
  {
   "cell_type": "code",
   "execution_count": 4,
   "id": "070e44da-0399-4feb-8712-09a7e397e620",
   "metadata": {},
   "outputs": [
    {
     "data": {
      "text/plain": [
       "- : char = 'C'\n"
      ]
     },
     "execution_count": 4,
     "metadata": {},
     "output_type": "execute_result"
    },
    {
     "data": {
      "text/plain": [
       "- : char = 'm'\n"
      ]
     },
     "execution_count": 4,
     "metadata": {},
     "output_type": "execute_result"
    }
   ],
   "source": [
    "'\\067';;\n",
    "(* : char = 'C' *)\n",
    "\n",
    "Char.chr (Char.code 'a' - Char.code 'A' + Char.code 'M');;\n",
    "(* : char = 'm' *)\n",
    "\n",
    "(*Char.uppercase 'm';;*)\n",
    "(* Alert deprecated Stdlib.Char.uppercase use Stdlib.Char.uppercase_ascii instead  *)\n",
    "(*: char = 'M' *)\n",
    "\n",
    "(*Char.lowercase 'O';;*)\n",
    "(* Alert deprecated Stdlib.Char.lowercase use Stdlib.Char.lowercase_ascii instead  *)\n",
    "(*: char = 'o' *)"
   ]
  },
  {
   "cell_type": "markdown",
   "id": "9bfea7ea-2d4d-465e-8cf2-e26f212fbd95",
   "metadata": {},
   "source": [
    "# 2. Practica 2 "
   ]
  },
  {
   "cell_type": "code",
   "execution_count": 5,
   "id": "d3a82d39-3f42-4693-920a-a281a961f2c1",
   "metadata": {},
   "outputs": [
    {
     "data": {
      "text/plain": [
       "val e : float = 2.71826823719229749\n"
      ]
     },
     "execution_count": 5,
     "metadata": {},
     "output_type": "execute_result"
    },
    {
     "data": {
      "text/plain": [
       "val long_e : string = \"2.71826823719\"\n"
      ]
     },
     "execution_count": 5,
     "metadata": {},
     "output_type": "execute_result"
    }
   ],
   "source": [
    "let e = (1. +. 1./.100000.)**100000.;;\n",
    "\n",
    "let long_e = string_of_float(e);;\n",
    "\n",
    "let () = Printf.printf \"%s\\n\" long_e;;"
   ]
  },
  {
   "cell_type": "code",
   "execution_count": 7,
   "id": "a2ec9fcd-3e8f-43d0-9b13-a1cb5773af53",
   "metadata": {},
   "outputs": [
    {
     "data": {
      "text/plain": [
       "val fact : int -> int = <fun>\n"
      ]
     },
     "execution_count": 7,
     "metadata": {},
     "output_type": "execute_result"
    },
    {
     "data": {
      "text/plain": [
       "- : int = 6\n"
      ]
     },
     "execution_count": 7,
     "metadata": {},
     "output_type": "execute_result"
    }
   ],
   "source": [
    "let rec fact = function\n",
    "0 -> 1 | n -> n * fact (n - 1);;\n",
    "\n",
    "\n",
    "let () = \n",
    "  let len = (Array.length Sys.argv) in \n",
    "  if(len = 2) then (Printf.printf \"%d\\n\" (fact(int_of_string(Sys.argv.(1)))))\n",
    "  else Printf.printf \"Missing Parameter\\n\";;\n",
    "  \n",
    "fact 3;;  "
   ]
  },
  {
   "cell_type": "code",
   "execution_count": 8,
   "id": "a443cb6c-950a-4998-8a06-63f7f70093c4",
   "metadata": {},
   "outputs": [
    {
     "data": {
      "text/plain": [
       "val pi : float = 3.14159265358979312\n"
      ]
     },
     "execution_count": 8,
     "metadata": {},
     "output_type": "execute_result"
    },
    {
     "data": {
      "text/plain": [
       "val long_pi : string = \"3.14159265359\"\n"
      ]
     },
     "execution_count": 8,
     "metadata": {},
     "output_type": "execute_result"
    }
   ],
   "source": [
    "let pi = 4. *. atan(1.);;\n",
    "let long_pi = string_of_float(pi);;\n",
    "let () = Printf.printf \"%s\\n\" long_pi;;"
   ]
  },
  {
   "cell_type": "markdown",
   "id": "436c80dc-5f71-4100-b79f-9184be47b138",
   "metadata": {},
   "source": [
    "# 3. Practica 3"
   ]
  },
  {
   "cell_type": "code",
   "execution_count": 9,
   "id": "38affbdf-ed81-4514-b4e5-b524bc45f2d9",
   "metadata": {},
   "outputs": [
    {
     "data": {
      "text/plain": [
       "- : float = 13.0111970546791511\n"
      ]
     },
     "execution_count": 9,
     "metadata": {},
     "output_type": "execute_result"
    },
    {
     "data": {
      "text/plain": [
       "- : float = 20.\n"
      ]
     },
     "execution_count": 9,
     "metadata": {},
     "output_type": "execute_result"
    },
    {
     "data": {
      "text/plain": [
       "- : float -> float = <fun>\n"
      ]
     },
     "execution_count": 9,
     "metadata": {},
     "output_type": "execute_result"
    },
    {
     "data": {
      "text/plain": [
       "- : float -> float = <fun>\n"
      ]
     },
     "execution_count": 9,
     "metadata": {},
     "output_type": "execute_result"
    },
    {
     "data": {
      "text/plain": [
       "val abs : int -> int = <fun>\n"
      ]
     },
     "execution_count": 9,
     "metadata": {},
     "output_type": "execute_result"
    },
    {
     "data": {
      "text/plain": [
       "val par : int -> bool = <fun>\n"
      ]
     },
     "execution_count": 9,
     "metadata": {},
     "output_type": "execute_result"
    },
    {
     "data": {
      "text/plain": [
       "val saluda : string -> unit = <fun>\n"
      ]
     },
     "execution_count": 9,
     "metadata": {},
     "output_type": "execute_result"
    },
    {
     "data": {
      "text/plain": [
       "val f : int -> unit = <fun>\n"
      ]
     },
     "execution_count": 9,
     "metadata": {},
     "output_type": "execute_result"
    },
    {
     "data": {
      "text/plain": [
       "val f : int -> unit = <fun>\n"
      ]
     },
     "execution_count": 9,
     "metadata": {},
     "output_type": "execute_result"
    }
   ],
   "source": [
    "(* let e1 =\n",
    "let pi = 2. *. asin 1. in pi *. (pi +. 1.);;\n",
    "*)\n",
    "\n",
    "(function pi -> pi *. (pi +. 1.)) (2. *. asin 1.) ;;\n",
    "\n",
    "\n",
    "(* let e2 =\n",
    "let lg2 = log 2. in\n",
    "let log2 = function x -> log x /. lg2\n",
    "in log2 (float (1024 * 1024));;\n",
    " *)\n",
    "\n",
    "\n",
    "(*Inner  (function log2 -> log2(float(1024*1024)))(function x -> log x /. lg2)   *)\n",
    "\n",
    "(*Ext*) \n",
    "(function lg2 -> (function log2 -> log2(float(1024*1024)))(function x -> log x /. lg2)) (log 2.) ;;\n",
    "\n",
    "\n",
    " (* let e3 =\n",
    "let pi_2 = 4. *. asin 1. in\n",
    "function r -> pi_2 *. r;;\n",
    " *)\n",
    "\n",
    " (function pi_2 -> (function r -> pi_2 *. r)) (4. *. asin 1.);;\n",
    "\n",
    "\n",
    "\n",
    " (* let e4 =\n",
    "let sqr = function x -> x *. x in\n",
    "let pi = 2. *. asin 1. in\n",
    "function r -> pi *. sqr r;;\n",
    " *)\n",
    "\n",
    "\n",
    " (*Inner\n",
    " (function pi -> (function r -> pi *. sqr r)) (2. *. asin 1.);;\n",
    "*)\n",
    "\n",
    " (* Ext *)\n",
    "\n",
    " (function sqr -> (function pi -> (function r -> pi *. sqr r)) (2. *. asin 1.)) (function x -> x *. x);;\n",
    "\n",
    "\n",
    " (* let abs n = if n >= 0 then n else - n;;\n",
    " *)\n",
    "\n",
    " let abs n =  (function true -> n | false -> -n) (n>=0) ;;\n",
    "\n",
    "\n",
    " (* let par n = if n mod 2 = 0 then true else false;;\n",
    " *)\n",
    "\n",
    " let par n = (function true -> true | false -> false) (n mod 2 == 0);;\n",
    "\n",
    "\n",
    "(* let saluda s = if s = \"Hola\" then print_endline \"Hola!\" else ();;\n",
    " *)\n",
    "\n",
    " let saluda s = (function true -> print_endline \"Hola!\" | false -> ()) (s = \"Hola\");;\n",
    "\n",
    "\n",
    " (* let f n = if n mod 2 = 0 then \"es par\" else \"es impar\";;\n",
    " *)\n",
    "\n",
    " let f n = (function true -> print_endline \"es par\" | false -> print_endline \"es impar\") (n mod 2 == 0);;\n",
    "\n",
    "\n",
    " \n",
    " let f n = (function true -> print_endline \"múltiplo de 2\" | false ->  (function true -> print_endline \"múltiplo de 3\" | false -> print_endline \"impar\") (n mod 3 == 0))  (n mod 2 == 0);;\n"
   ]
  },
  {
   "cell_type": "code",
   "execution_count": 1,
   "id": "9dd53304-863d-4e33-8996-e116a801d9ee",
   "metadata": {},
   "outputs": [
    {
     "data": {
      "text/plain": [
       "val is_prime : int -> bool = <fun>\n"
      ]
     },
     "execution_count": 1,
     "metadata": {},
     "output_type": "execute_result"
    },
    {
     "data": {
      "text/plain": [
       "val is_prime2 : int -> bool = <fun>\n"
      ]
     },
     "execution_count": 1,
     "metadata": {},
     "output_type": "execute_result"
    },
    {
     "data": {
      "text/plain": [
       "val next_prime : int -> int = <fun>\n"
      ]
     },
     "execution_count": 1,
     "metadata": {},
     "output_type": "execute_result"
    },
    {
     "data": {
      "text/plain": [
       "val last_prime_to : int -> int = <fun>\n"
      ]
     },
     "execution_count": 1,
     "metadata": {},
     "output_type": "execute_result"
    }
   ],
   "source": [
    "let is_prime n =\n",
    "  let rec check_from i =\n",
    "  i >= n ||\n",
    "  (n mod i <> 0 && check_from (i+1))\n",
    "  in check_from 2;;\n",
    "  \n",
    "\n",
    "     let is_prime2 n = (* Eratosthenes *)\n",
    "      let n = abs n in\n",
    "      let rec is_not_divisor d =\n",
    "        d * d > n || (n mod d <> 0 && is_not_divisor (d + 1)) in\n",
    "      n > 1 && is_not_divisor 2;;   \n",
    "\n",
    "\n",
    "\n",
    "let rec next_prime n = \n",
    "  if is_prime2 (n+1) then n+1\n",
    "  else next_prime(n+1)              \n",
    "\n",
    "let rec last_prime_to n = \n",
    "  if is_prime2 (n) then n  \n",
    "  else last_prime_to(n-1)              \n",
    "   \n",
    "\n",
    "(*   let rec next_prime n = \n",
    "    if is_prime (n+1) then n+1\n",
    "    else next_prime(n+1)              \n",
    "  \n",
    "  let rec last_prime_to n = \n",
    "    if is_prime (n) then n  \n",
    "    else last_prime_to(n-1)              \n",
    "     *)\n",
    "\n",
    "let () = \n",
    "  let len = (Array.length Sys.argv) in  \n",
    "  if((len = 2)&&(int_of_string(Sys.argv.(1))>1)) then\n",
    "    (*  Printf.printf \"Next ->%d\\n\" (next_prime(int_of_string(Sys.argv.(1)))); *)\n",
    "    Printf.printf \"Last ->%d\\n\" (last_prime_to(int_of_string(Sys.argv.(1))))\n",
    "  else \n",
    "     Printf.printf \"Missing/Invalid Parameter\\n\" "
   ]
  },
  {
   "cell_type": "markdown",
   "id": "da6b3327-5484-4cdd-8e58-89099e508b31",
   "metadata": {},
   "source": [
    "# 4. Practica 4"
   ]
  },
  {
   "cell_type": "code",
   "execution_count": 11,
   "id": "b931186b-fcac-414b-8f22-8e66c4b006c8",
   "metadata": {},
   "outputs": [
    {
     "data": {
      "text/plain": [
       "val mcd : int * int -> int = <fun>\n"
      ]
     },
     "execution_count": 11,
     "metadata": {},
     "output_type": "execute_result"
    }
   ],
   "source": [
    "let rec mcd (x,y)  = (*Preconditions: x>=0  y>=0*) \n",
    "    if x==0 then y\n",
    "    else if y==0 then x\n",
    "    else mcd (y,(x mod y));; (* mcd(x,y) = mcd(y,x) *)"
   ]
  },
  {
   "cell_type": "code",
   "execution_count": 12,
   "id": "56731288-4370-4087-b9a1-2c44a70e9816",
   "metadata": {},
   "outputs": [
    {
     "data": {
      "text/plain": [
       "val power : int -> int -> int = <fun>\n"
      ]
     },
     "execution_count": 12,
     "metadata": {},
     "output_type": "execute_result"
    },
    {
     "data": {
      "text/plain": [
       "val power' : int -> int -> int = <fun>\n"
      ]
     },
     "execution_count": 12,
     "metadata": {},
     "output_type": "execute_result"
    },
    {
     "data": {
      "text/plain": [
       "val powerf : float -> int -> float = <fun>\n"
      ]
     },
     "execution_count": 12,
     "metadata": {},
     "output_type": "execute_result"
    }
   ],
   "source": [
    "let rec power x y = (*Precondition: y>=0*)\n",
    "  if y=0 then 1\n",
    "  else x * power x (y-1);;\n",
    "\n",
    "\n",
    "let rec power' x y = (*Precondition: y>=0*)\n",
    "    if y = 0 then 1\n",
    "    else if (y mod 2 = 0) then\n",
    "      let j = power' x (y / 2) in  j * j\n",
    "    else \n",
    "      let j = power' x (y / 2) in x * j * j ;; \n",
    "      \n",
    "\n",
    " let rec powerf x y =   (*Precondition: y>=0*)\n",
    "    if y=0 then 1. \n",
    "    else if (y mod 2 = 0) then\n",
    "      let j = powerf x (y/2) in  j *. j\n",
    "    else \n",
    "      let j = powerf x (y/2) in x *. j *. j ;; "
   ]
  },
  {
   "cell_type": "markdown",
   "id": "78ad4cb9-6426-4f09-8bc1-3fd53a4b0154",
   "metadata": {},
   "source": [
    "# 5. Practica 5 Collatz"
   ]
  },
  {
   "cell_type": "markdown",
   "id": "2ae51254-569a-493f-988e-b23af9fccb9d",
   "metadata": {},
   "source": [
    "Considere la funcion f de N→N,  que podr ́ıa aproximarse en OCaml con la siguientedefinici ́on paraf: int -> intlet f n = if n mod 2 = 0 then n / 2 else 3 * n + 1Seg ́un  la  Conjetura  de  Collatz1,  si  partimos  de  cualquier  n ́umero  positivo  y  vamosaplicando repetidamente esta funci ́on, seguiremos un camino que llegar ́a inexorablementeal 1.  Por ejemplo, partiendo del 13, tendr ́ıamos el siguiente camino:13,40,20,10,5,16,8,4,2,1Llamaremos  “ ́orbita”  de  un  n ́umero  al  camino  que  se  sigue  de  esta  manera  desde  esen ́umero hasta el 1 (ambos incluidos).  Por ejemplo, la que hemos escrito m ́as arriba es la ́orbita del 13."
   ]
  },
  {
   "cell_type": "code",
   "execution_count": 2,
   "id": "4a4d0217-7b8d-4be2-bcc8-f66e8367cc19",
   "metadata": {},
   "outputs": [
    {
     "data": {
      "text/plain": [
       "val f : int -> int = <fun>\n"
      ]
     },
     "execution_count": 2,
     "metadata": {},
     "output_type": "execute_result"
    },
    {
     "data": {
      "text/plain": [
       "val orbit : int -> unit = <fun>\n"
      ]
     },
     "execution_count": 2,
     "metadata": {},
     "output_type": "execute_result"
    },
    {
     "data": {
      "text/plain": [
       "val length : int -> int = <fun>\n"
      ]
     },
     "execution_count": 2,
     "metadata": {},
     "output_type": "execute_result"
    },
    {
     "data": {
      "text/plain": [
       "val top : int -> int = <fun>\n"
      ]
     },
     "execution_count": 2,
     "metadata": {},
     "output_type": "execute_result"
    },
    {
     "data": {
      "text/plain": [
       "val length'n'top : int -> int * int = <fun>\n"
      ]
     },
     "execution_count": 2,
     "metadata": {},
     "output_type": "execute_result"
    }
   ],
   "source": [
    "let f n = if n mod 2 = 0 then n / 2 else 3 * n + 1\n",
    "\n",
    "let rec orbit n = (* Precondition n > 0 *)\n",
    "    if n = 1 then \n",
    "      Printf.printf \"%d\\n\" 1\n",
    "    else \n",
    "      (Printf.printf \"%d, \" n ; \n",
    "      orbit (f n));;\n",
    " \n",
    "let rec length n =  (* Precondition n > 0 *)  (* Meter  a orbit nunha lista e despois trballar con ela *)\n",
    "    if n = 1 then 0\n",
    "    else 1 + length (f n);;\n",
    "\n",
    " \n",
    "let rec top n =  (* Precondition n > 0 *) \n",
    "  if n = 1 then 1 \n",
    "  else max n (top (f n));;\n",
    "    \n",
    " let rec length'n'top n = \n",
    "  if n = 1 then (0,1)\n",
    "  else let l,t = length'n'top (f n)\n",
    "       in (l+1,max n t);; "
   ]
  },
  {
   "cell_type": "code",
   "execution_count": 4,
   "id": "b4395ab8-6a7d-4fae-94fd-4328281f0504",
   "metadata": {},
   "outputs": [
    {
     "data": {
      "text/plain": [
       "- : unit = ()\n"
      ]
     },
     "execution_count": 4,
     "metadata": {},
     "output_type": "execute_result"
    }
   ],
   "source": [
    "orbit 13;;(*13, 40, 20, 10, 5, 16, 8, 4, 2, 1*)"
   ]
  },
  {
   "cell_type": "markdown",
   "id": "c0bd93a0-a708-436e-8f7e-29b484a58e4a",
   "metadata": {},
   "source": [
    "Ejercicio  opcional.  Defina  una  funcion longest in: int -> int -> inttal  que longest in m n devuelva el menor valor del intervalo [m, n] cuya  orbita tenga longitud maximal en ese intervalo.  Ası, por ejemplo, longestin 86 87 deberıa ser 86.  (A nada esta definicion al archivo collatz.ml)\n",
    "\n",
    ".Defina una funci ́onhighestin: int -> int -> int tal que highestin m ndevuelvael  menor  valor  del  intervalo  [m, n]  cuya   ́orbita  tenga  altura  maximal  en  ese  intervalo.As ́ı,  por ejemplo,highestin 86 87deber ́ıa ser87.  (A ̃nada esta definici ́on al archivocollatz.ml).2\n"
   ]
  },
  {
   "cell_type": "code",
   "execution_count": 5,
   "id": "e67beb65-cea5-48b6-bae7-56e0f40fe2ed",
   "metadata": {},
   "outputs": [
    {
     "data": {
      "text/plain": [
       "val longest_in : int -> int -> int = <fun>\n"
      ]
     },
     "execution_count": 5,
     "metadata": {},
     "output_type": "execute_result"
    },
    {
     "data": {
      "text/plain": [
       "val highest_in : int -> int -> int = <fun>\n"
      ]
     },
     "execution_count": 5,
     "metadata": {},
     "output_type": "execute_result"
    }
   ],
   "source": [
    "let rec longest_in m n = (* m>0 n>0*)(*Usando length*) (*Podese optimizar para que non faga o doble*)\n",
    "  if m==n then m \n",
    "  else if length m >= length n then longest_in m (n-1)\n",
    "  else  longest_in (m+1) n;;   \n",
    "\n",
    " \n",
    "let rec highest_in m n = \n",
    "  if m==n then m \n",
    "  else if top m >= top n then highest_in m (n-1)\n",
    "  else  highest_in (m+1) n;; "
   ]
  },
  {
   "cell_type": "code",
   "execution_count": 6,
   "id": "f842daf2-6837-47fc-bc0b-38af1e16ad46",
   "metadata": {},
   "outputs": [
    {
     "data": {
      "text/plain": [
       "- : int = 871\n"
      ]
     },
     "execution_count": 6,
     "metadata": {},
     "output_type": "execute_result"
    }
   ],
   "source": [
    "longest_in 1 1000;;"
   ]
  },
  {
   "cell_type": "code",
   "execution_count": 7,
   "id": "6b284c7a-8652-47a0-a826-7cf3f27891fa",
   "metadata": {},
   "outputs": [
    {
     "data": {
      "text/plain": [
       "- : int = 703\n"
      ]
     },
     "execution_count": 7,
     "metadata": {},
     "output_type": "execute_result"
    }
   ],
   "source": [
    "highest_in 1 1000;;"
   ]
  },
  {
   "cell_type": "markdown",
   "id": "1f183b79-5113-44d5-874f-9797483d3c20",
   "metadata": {},
   "source": [
    "# 7. Practica 7"
   ]
  },
  {
   "cell_type": "code",
   "execution_count": 8,
   "id": "7e7585f3-d100-4a52-aaf5-4c0f0242d567",
   "metadata": {},
   "outputs": [
    {
     "data": {
      "text/plain": [
       "val hd : 'a list -> 'a = <fun>\n"
      ]
     },
     "execution_count": 8,
     "metadata": {},
     "output_type": "execute_result"
    }
   ],
   "source": [
    "let rec hd = function (*DONE*)\n",
    "  [] -> raise(Failure \"hd\")\n",
    "| h::_ -> h;;"
   ]
  },
  {
   "cell_type": "code",
   "execution_count": 9,
   "id": "7457a925-06b3-4eea-aeb7-ba5c1c366142",
   "metadata": {},
   "outputs": [
    {
     "data": {
      "text/plain": [
       "val tl : 'a list -> 'a list = <fun>\n"
      ]
     },
     "execution_count": 9,
     "metadata": {},
     "output_type": "execute_result"
    }
   ],
   "source": [
    "let rec tl = function (*DONE*)\n",
    "  [] -> raise(Failure \"tl\")\n",
    "| h::t -> t;;"
   ]
  },
  {
   "cell_type": "code",
   "execution_count": 10,
   "id": "fdfe8054-cfd5-410b-942d-25f66526d235",
   "metadata": {},
   "outputs": [
    {
     "data": {
      "text/plain": [
       "val length : 'a list -> int = <fun>\n"
      ]
     },
     "execution_count": 10,
     "metadata": {},
     "output_type": "execute_result"
    }
   ],
   "source": [
    "let length l =  (* DONE *)\n",
    "  let rec aux l count = match l with \n",
    "    [] -> count \n",
    "  | h::t -> aux t (count+1)\n",
    "\n",
    "  in aux l 0;;"
   ]
  },
  {
   "cell_type": "code",
   "execution_count": 11,
   "id": "e5e88c70-eb3d-447a-9b67-396752e9db25",
   "metadata": {},
   "outputs": [
    {
     "data": {
      "text/plain": [
       "val compare_lengths : 'a list -> 'b list -> int = <fun>\n"
      ]
     },
     "execution_count": 11,
     "metadata": {},
     "output_type": "execute_result"
    }
   ],
   "source": [
    "let rec compare_lengths l1 l2  = match l1,l2 with (* DONE *)\n",
    "    [],[] -> 0\n",
    "  | [],_ -> -1 \n",
    "  |  _,[] -> 1\n",
    "  |  _::t,_::t1 -> compare_lengths t t1;;"
   ]
  },
  {
   "cell_type": "code",
   "execution_count": 12,
   "id": "80bb8305-44d6-4c2a-9341-6a6bd2dc0f36",
   "metadata": {},
   "outputs": [
    {
     "data": {
      "text/plain": [
       "val nth : 'a list -> int -> 'a = <fun>\n"
      ]
     },
     "execution_count": 12,
     "metadata": {},
     "output_type": "execute_result"
    }
   ],
   "source": [
    "let rec nth l n = match l,n with  (* DONE *)\n",
    "  [],_ ->  raise(Failure \"nth\") \n",
    "| h::t,0 -> h \n",
    "| _::t,n -> nth t (n-1);;"
   ]
  },
  {
   "cell_type": "code",
   "execution_count": 13,
   "id": "83e4320d-9ff0-4103-95ca-8445381492ff",
   "metadata": {},
   "outputs": [
    {
     "data": {
      "text/plain": [
       "val append : 'a list -> 'a list -> 'a list = <fun>\n"
      ]
     },
     "execution_count": 13,
     "metadata": {},
     "output_type": "execute_result"
    }
   ],
   "source": [
    "let rec append l1 l2  = match l1 with  \n",
    "  [] -> l2 \n",
    "| h::t -> h :: append t l2;; "
   ]
  },
  {
   "cell_type": "code",
   "execution_count": 14,
   "id": "131af292-6cf3-4e3c-89e2-7c3f831535cd",
   "metadata": {},
   "outputs": [
    {
     "data": {
      "text/plain": [
       "val find : ('a -> bool) -> 'a list -> 'a = <fun>\n"
      ]
     },
     "execution_count": 14,
     "metadata": {},
     "output_type": "execute_result"
    }
   ],
   "source": [
    "let rec find f l = match l with  \n",
    "   [] -> raise Not_found\n",
    " | h::t -> if f h then h else find f t;;"
   ]
  },
  {
   "cell_type": "code",
   "execution_count": 15,
   "id": "bf95f079-eda3-450a-831e-44d2e23f2885",
   "metadata": {},
   "outputs": [
    {
     "data": {
      "text/plain": [
       "val for_all : ('a -> bool) -> 'a list -> bool = <fun>\n"
      ]
     },
     "execution_count": 15,
     "metadata": {},
     "output_type": "execute_result"
    }
   ],
   "source": [
    "(*for_all f [a1; ...; an] checks if all elements of the list satisfy the predicate f.\n",
    "That is, it returns (f a1) && (f a2) && ... && (f an) for a non-empty list and true if the list is empty.*)\n",
    "\n",
    "let rec for_all f l = match l with \n",
    "  [] -> true\n",
    "| h::t -> if f h then for_all f t else false;;"
   ]
  },
  {
   "cell_type": "code",
   "execution_count": 16,
   "id": "b267f222-909c-4a66-8ce5-47e0fcd8b39f",
   "metadata": {},
   "outputs": [
    {
     "data": {
      "text/plain": [
       "val exists : ('a -> bool) -> 'a list -> bool = <fun>\n"
      ]
     },
     "execution_count": 16,
     "metadata": {},
     "output_type": "execute_result"
    }
   ],
   "source": [
    "let rec exists f l = match l with \n",
    "  [] -> false\n",
    "| h::t -> if f h then true else exists f t;;"
   ]
  },
  {
   "cell_type": "code",
   "execution_count": 17,
   "id": "3f641048-a4da-44da-9c57-bc87db61b9ac",
   "metadata": {},
   "outputs": [
    {
     "data": {
      "text/plain": [
       "val mem : 'a -> 'a list -> bool = <fun>\n"
      ]
     },
     "execution_count": 17,
     "metadata": {},
     "output_type": "execute_result"
    }
   ],
   "source": [
    "let rec mem n l = match l with \n",
    "  [] -> false\n",
    "| h::t -> if h == n  then true else mem n t;;"
   ]
  },
  {
   "cell_type": "code",
   "execution_count": 23,
   "id": "f3ea9903-a024-4d82-b2fd-fa269701b51b",
   "metadata": {},
   "outputs": [
    {
     "data": {
      "text/plain": [
       "val filter : ('a -> bool) -> 'a list -> 'a list = <fun>\n"
      ]
     },
     "execution_count": 23,
     "metadata": {},
     "output_type": "execute_result"
    }
   ],
   "source": [
    "let filter f l =  (* Recursiva Terminal *)\n",
    "  let rec aux l1 l2 = match l1 with \n",
    "    [] -> rev l2   \n",
    "    | h::t ->  if f h then aux t (h::l2) else \n",
    "                aux t l2 \n",
    "  in aux l [];;"
   ]
  },
  {
   "cell_type": "code",
   "execution_count": 25,
   "id": "aa5d114f-101e-48d6-9779-18a8234f5499",
   "metadata": {},
   "outputs": [
    {
     "data": {
      "text/plain": [
       "val find_all : ('a -> bool) -> 'a list -> 'a list = <fun>\n"
      ]
     },
     "execution_count": 25,
     "metadata": {},
     "output_type": "execute_result"
    }
   ],
   "source": [
    "let find_all f l =  (* Recursiva Terminal *)\n",
    "  let rec aux l1 l2 = match l1 with \n",
    "   [] -> rev l2  \n",
    "    | h::t ->  if f h then aux t (h::l2) else \n",
    "              aux t l2 \n",
    "  in aux l [];; "
   ]
  },
  {
   "cell_type": "code",
   "execution_count": 24,
   "id": "5dc93c00-4020-4a49-b8fc-69993a6fc3cf",
   "metadata": {},
   "outputs": [
    {
     "data": {
      "text/plain": [
       "val partition : ('a -> bool) -> 'a list -> 'a list * 'a list = <fun>\n"
      ]
     },
     "execution_count": 24,
     "metadata": {},
     "output_type": "execute_result"
    }
   ],
   "source": [
    "(*  List.partition (function n -> n>0) [-3;-2;-1;0;1;2;3];;\n",
    "- : int list * int list = ([1; 2; 3], [-3; -2; -1; 0]) *)\n",
    "\n",
    "(* let partition f l = filter f l, filter (function x -> not (f x)) l ;; *)\n",
    "\n",
    "let partition f l =  (* Recursiva Terminal *)\n",
    "  let rec aux l1 l2 l3 = match l1 with \n",
    "    [] -> (rev l2,rev l3) \n",
    "    | h::t ->  if f h then aux t (h::l2) l3 else \n",
    "                aux t l2 (h::l3) \n",
    "  in aux l [] [];; "
   ]
  },
  {
   "cell_type": "code",
   "execution_count": 21,
   "id": "cbcbc1e2-2f8e-4414-99d0-ed64c4c13d39",
   "metadata": {},
   "outputs": [
    {
     "data": {
      "text/plain": [
       "val split : ('a * 'b) list -> 'a list * 'b list = <fun>\n"
      ]
     },
     "execution_count": 21,
     "metadata": {},
     "output_type": "execute_result"
    }
   ],
   "source": [
    "(* \n",
    "Transform a list of pairs into a pair of lists: split [(a1,b1); ...; (an,bn)] is ([a1; ...; an], [b1; ...; bn]). Not tail-recursive.\n",
    " *)\n",
    "\n",
    "let rec split l = match l with \n",
    "  [] -> ([],[])\n",
    "| (h1,h2)::t -> let (l1,l2) = split t\n",
    "in (h1::l1,h2::l2);;"
   ]
  },
  {
   "cell_type": "code",
   "execution_count": 22,
   "id": "b1c37e21-3f0c-4e09-8e84-29feca148680",
   "metadata": {},
   "outputs": [
    {
     "data": {
      "text/plain": [
       "val rev_append : 'a list -> 'a list -> 'a list = <fun>\n"
      ]
     },
     "execution_count": 22,
     "metadata": {},
     "output_type": "execute_result"
    },
    {
     "data": {
      "text/plain": [
       "val rev : 'a list -> 'a list = <fun>\n"
      ]
     },
     "execution_count": 22,
     "metadata": {},
     "output_type": "execute_result"
    }
   ],
   "source": [
    "let rec  rev_append l1 l2 = match l1 with (* DONE *)\n",
    "  [] -> l2\n",
    "| h::t -> rev_append t (h::l2);; \n",
    "\n",
    "\n",
    "let rev l = rev_append l [];; (* DONE *)"
   ]
  },
  {
   "cell_type": "code",
   "execution_count": 26,
   "id": "7a598400-f8b8-4a50-98b9-694ea5f990c2",
   "metadata": {},
   "outputs": [
    {
     "data": {
      "text/plain": [
       "val init : int -> (int -> 'a) -> 'a list = <fun>\n"
      ]
     },
     "execution_count": 26,
     "metadata": {},
     "output_type": "execute_result"
    }
   ],
   "source": [
    "let init n f =  (* Empezas anadindo ao reves *) (* DONE *)\n",
    "  if n<0 then raise (Invalid_argument \"init\")\n",
    "  else let rec aux i = if i>=n then [] else rev_append [f i] (aux (i+1))     \n",
    "  in aux 0;;"
   ]
  },
  {
   "cell_type": "code",
   "execution_count": 27,
   "id": "cbc288da-2629-4872-9184-8f81b512a6c0",
   "metadata": {},
   "outputs": [
    {
     "data": {
      "text/plain": [
       "val concat : 'a list list -> 'a list = <fun>\n"
      ]
     },
     "execution_count": 27,
     "metadata": {},
     "output_type": "execute_result"
    }
   ],
   "source": [
    "(* Concatenate a list of lists. The elements of the argument are all concatenated together (in the same order) to give the result. Not tail-recursive (length of the argument + length of the longest sub-list). *)\n",
    "\n",
    "(* List.concat [[1;2;3];[4;5;6]];;\n",
    "- : int list = [1; 2; 3; 4; 5; 6] *)\n",
    "let rec concat l = match l with\n",
    "  [] -> []\n",
    "| h::t -> h @ (concat t);;"
   ]
  },
  {
   "cell_type": "code",
   "execution_count": 28,
   "id": "008e0c3b-7bc9-4c49-a8bf-185f566c272e",
   "metadata": {},
   "outputs": [
    {
     "data": {
      "text/plain": [
       "val flatten : 'a list list -> 'a list = <fun>\n"
      ]
     },
     "execution_count": 28,
     "metadata": {},
     "output_type": "execute_result"
    }
   ],
   "source": [
    "let rec flatten l = match l with\n",
    "  [] -> []\n",
    "| h::t -> h @ (flatten t);;"
   ]
  },
  {
   "cell_type": "code",
   "execution_count": 29,
   "id": "b1375669-e2a3-40e4-8b63-f84988eff3de",
   "metadata": {},
   "outputs": [
    {
     "data": {
      "text/plain": [
       "val map : ('a -> 'b) -> 'a list -> 'b list = <fun>\n"
      ]
     },
     "execution_count": 29,
     "metadata": {},
     "output_type": "execute_result"
    }
   ],
   "source": [
    "(* List.map (function n -> n>0) [1;2;3;4;5];;\n",
    "- : bool list = [true; true; true; true; true] *)\n",
    "\n",
    "let rec map f l = match l with \n",
    "  [] -> []\n",
    "| h::t -> (f h)::(map f t);;"
   ]
  },
  {
   "cell_type": "code",
   "execution_count": 30,
   "id": "824eda1b-9521-4fcd-9877-ee27c993f49e",
   "metadata": {},
   "outputs": [
    {
     "data": {
      "text/plain": [
       "val rev_map : ('a -> 'b) -> 'a list -> 'b list = <fun>\n"
      ]
     },
     "execution_count": 30,
     "metadata": {},
     "output_type": "execute_result"
    }
   ],
   "source": [
    "let rev_map f l = (* DONE *) (* Integrar revappend *)\n",
    "  let rec  rev_aux f l1 l2 = match l1 with (* DONE *)\n",
    "  [] -> l2\n",
    "  | h::t -> rev_aux f t ((f h)::l2)\n",
    "in rev_aux f l [];;"
   ]
  },
  {
   "cell_type": "code",
   "execution_count": 31,
   "id": "7837bdbc-e91d-43b6-8701-6410ed9397fc",
   "metadata": {},
   "outputs": [
    {
     "data": {
      "text/plain": [
       "val map2 : ('a -> 'b -> 'c) -> 'a list -> 'b list -> 'c list = <fun>\n"
      ]
     },
     "execution_count": 31,
     "metadata": {},
     "output_type": "execute_result"
    }
   ],
   "source": [
    "(* val map2 : ('a -> 'b -> 'c) -> 'a list -> 'b list -> 'c list\n",
    "\n",
    "map2 f [a1; ...; an] [b1; ...; bn] is [f a1 b1; ...; f an bn].\n",
    "\n",
    "    Raises Invalid_argument if the two lists are determined to have different lengths. Not tail-recursive.\n",
    "\n",
    " *)\n",
    "\n",
    " let rec map2 f l1 l2 = match l1,l2 with \n",
    "  [],[] -> []\n",
    "| [],_ ->   raise (Invalid_argument \"map2\")\n",
    "| _,[] ->   raise (Invalid_argument \"map2\")\n",
    "| h1::t1,h2::t2 -> (f h1 h2)  :: (map2 f t1 t2);;"
   ]
  },
  {
   "cell_type": "code",
   "execution_count": 32,
   "id": "19bf344d-9540-45eb-b77f-6489023edbc6",
   "metadata": {},
   "outputs": [
    {
     "data": {
      "text/plain": [
       "val fold_left : ('a -> 'b -> 'a) -> 'a -> 'b list -> 'a = <fun>\n"
      ]
     },
     "execution_count": 32,
     "metadata": {},
     "output_type": "execute_result"
    }
   ],
   "source": [
    "(* let rec fold_left op e l = match l with \n",
    "  [] -> e \n",
    "| h::t -> fold_left op (op e h) t;;  *)\n",
    "\n",
    "\n",
    "let rec fold_left op e l = match l with \n",
    "  [] -> e \n",
    "| h::t -> fold_left op (op e h) t;;"
   ]
  },
  {
   "cell_type": "code",
   "execution_count": 33,
   "id": "aa7756ad-3bce-44b7-af55-54584049ca90",
   "metadata": {},
   "outputs": [
    {
     "data": {
      "text/plain": [
       "val fold_right : ('a -> 'b -> 'b) -> 'a list -> 'b -> 'b = <fun>\n"
      ]
     },
     "execution_count": 33,
     "metadata": {},
     "output_type": "execute_result"
    }
   ],
   "source": [
    "let rec fold_right op l e = match l with\n",
    "  [] -> e \n",
    "| h::t ->  op h (fold_right op t e);;"
   ]
  },
  {
   "cell_type": "code",
   "execution_count": 34,
   "id": "c26173e7-1e8c-494f-a263-8959ff085c35",
   "metadata": {},
   "outputs": [
    {
     "data": {
      "text/plain": [
       "val combine : 'a list -> 'b list -> ('a * 'b) list = <fun>\n"
      ]
     },
     "execution_count": 34,
     "metadata": {},
     "output_type": "execute_result"
    }
   ],
   "source": [
    "(* val combine : 'a list -> 'b list -> ('a * 'b) list\n",
    "\n",
    "Transform a pair of lists into a list of pairs: combine [a1; ...; an] [b1; ...; bn] is [(a1,b1); ...; (an,bn)].\n",
    "\n",
    "    Raises Invalid_argument if the two lists have different lengths. Not tail-recursive.\n",
    "\n",
    " *)\n",
    "\n",
    "\n",
    "let rec combine l1 l2  = match l1,l2 with (* DONE *)\n",
    "    [],[] -> []\n",
    "  | [],_ -> raise (Invalid_argument \"List.combine\")\n",
    "  |  _,[] -> raise (Invalid_argument \"List.combine\")\n",
    "  |  h::t,h1::t1 -> (h,h1)::combine t t1;;"
   ]
  },
  {
   "cell_type": "markdown",
   "id": "d218f59d-b6c6-4077-80ef-e65d114bb4eb",
   "metadata": {},
   "source": [
    "# 9. Practica 9"
   ]
  },
  {
   "cell_type": "code",
   "execution_count": 36,
   "id": "7140e014-34a6-40a3-854c-5b2fe98f141c",
   "metadata": {},
   "outputs": [
    {
     "data": {
      "text/plain": [
       "val to0from : int -> int list = <fun>\n"
      ]
     },
     "execution_count": 36,
     "metadata": {},
     "output_type": "execute_result"
    },
    {
     "data": {
      "text/plain": [
       "- : int list = [10; 9; 8; 7; 6; 5; 4; 3; 2; 1; 0]\n"
      ]
     },
     "execution_count": 36,
     "metadata": {},
     "output_type": "execute_result"
    }
   ],
   "source": [
    "(* let rec to0from n =\n",
    "if n < 0 then []\n",
    "else n :: to0from (n-1);; *)\n",
    "\n",
    "let to0from n = \n",
    "  let rec aux l a = if n<0 || a==n+1 then l \n",
    "  else aux (a::l) (a+1)\n",
    "  in aux [] 0 ;; \n",
    "  \n",
    "to0from 10;;  "
   ]
  },
  {
   "cell_type": "code",
   "execution_count": 37,
   "id": "b0008506-7098-497e-9f24-74534865527b",
   "metadata": {},
   "outputs": [
    {
     "data": {
      "text/plain": [
       "val fromto : int -> int -> int list = <fun>\n"
      ]
     },
     "execution_count": 37,
     "metadata": {},
     "output_type": "execute_result"
    },
    {
     "data": {
      "text/plain": [
       "- : int list = [10; 11; 12; 13; 14; 15; 16; 17; 18; 19; 20]\n"
      ]
     },
     "execution_count": 37,
     "metadata": {},
     "output_type": "execute_result"
    }
   ],
   "source": [
    "(*  \n",
    "let rec fromto m n =\n",
    "if m > n then []\n",
    "else m :: fromto (m+1) n;;*)\n",
    "\n",
    "\n",
    "let fromto m n =\n",
    "  let rec aux a b l = if a>b then l \n",
    "  else aux a (b-1) (b::l)\n",
    "in aux m n [];;\n",
    "\n",
    "fromto 10 20;;"
   ]
  },
  {
   "cell_type": "code",
   "execution_count": 38,
   "id": "d268617e-211e-463d-830c-1da38271e87a",
   "metadata": {},
   "outputs": [
    {
     "data": {
      "text/plain": [
       "val from1to : int -> int list = <fun>\n"
      ]
     },
     "execution_count": 38,
     "metadata": {},
     "output_type": "execute_result"
    },
    {
     "data": {
      "text/plain": [
       "- : int list = [1; 2; 3; 4; 5; 6; 7; 8; 9; 10]\n"
      ]
     },
     "execution_count": 38,
     "metadata": {},
     "output_type": "execute_result"
    }
   ],
   "source": [
    "(* let rec from1to n =\n",
    "if n < 1 then []\n",
    "else from1to (n-1) @ [n];; *)\n",
    "\n",
    "let from1to n = \n",
    "  let rec aux l a = if a<1 then l \n",
    "  else aux (a::l) (a-1)\n",
    "  in aux [] n ;;\n",
    "  \n",
    "from1to 10;;  "
   ]
  },
  {
   "cell_type": "code",
   "execution_count": 39,
   "id": "55954441-2e7f-4ac6-b251-d6bbe6c18293",
   "metadata": {},
   "outputs": [
    {
     "data": {
      "text/plain": [
       "val map : ('a -> 'b) -> 'a list -> 'b list = <fun>\n"
      ]
     },
     "execution_count": 39,
     "metadata": {},
     "output_type": "execute_result"
    }
   ],
   "source": [
    "let map f l = List.rev_map f (List.rev l);;"
   ]
  },
  {
   "cell_type": "code",
   "execution_count": 40,
   "id": "3b71843e-9048-4730-b4be-0979a795a5ba",
   "metadata": {},
   "outputs": [
    {
     "data": {
      "text/plain": [
       "val power : int -> int -> int = <fun>\n"
      ]
     },
     "execution_count": 40,
     "metadata": {},
     "output_type": "execute_result"
    }
   ],
   "source": [
    "(* let power x y =\n",
    "let rec innerpower x y =\n",
    "if y = 0 then 1\n",
    "else x * innerpower x (y-1)\n",
    "in\n",
    "if y >= 0 then innerpower x y\n",
    "else invalid_arg \"power\";; *)  \n",
    "\n",
    "\n",
    "let power x y =\n",
    "  let rec innerpower x y z =\n",
    "    if y = 0 then z \n",
    "    else innerpower x (y-1) z*x\n",
    "  in\n",
    "    if y >= 0 then innerpower x y 1\n",
    "    else invalid_arg \"power\";;"
   ]
  },
  {
   "cell_type": "code",
   "execution_count": 42,
   "id": "a4d1caf1-2323-4d8a-a879-b6206291cada",
   "metadata": {},
   "outputs": [
    {
     "data": {
      "text/plain": [
       "val incseg : int list -> int list = <fun>\n"
      ]
     },
     "execution_count": 42,
     "metadata": {},
     "output_type": "execute_result"
    },
    {
     "data": {
      "text/plain": [
       "- : int list = [1; 3; 5; 9]\n"
      ]
     },
     "execution_count": 42,
     "metadata": {},
     "output_type": "execute_result"
    }
   ],
   "source": [
    "(* let incseg l =\n",
    "List.fold_right (fun x t -> x::List.map ((+) x) t) l [];; *)\n",
    "(* incseg [1;2;2;4];;\n",
    "- : int list = [1; 3; 5; 9] *) (* Con fold right vai sumando e substituindo os elementos da lista por ese resultado *)\n",
    "(*Na lista suma a cada elemento o seu anterior *)\n",
    "\n",
    "let incseg l = \n",
    "  let rec aux l n laux = match l with \n",
    "    [] -> List.rev laux\n",
    "  | h::t -> aux t (n+h) (n+h::laux)\n",
    "  in aux l 0 [];;\n",
    "  \n",
    "incseg [1;2;2;4];;  "
   ]
  },
  {
   "cell_type": "code",
   "execution_count": 44,
   "id": "bde23dc3-af72-4363-833c-4468ab409487",
   "metadata": {},
   "outputs": [
    {
     "data": {
      "text/plain": [
       "val remove : 'a -> 'a list -> 'a list = <fun>\n"
      ]
     },
     "execution_count": 44,
     "metadata": {},
     "output_type": "execute_result"
    },
    {
     "data": {
      "text/plain": [
       "- : int list = [3; 4; 7; 4; 3]\n"
      ]
     },
     "execution_count": 44,
     "metadata": {},
     "output_type": "execute_result"
    }
   ],
   "source": [
    "(* let rec remove x = function\n",
    "[] -> []\n",
    "| h::t -> if x = h then t\n",
    "else h :: remove x t;; *)\n",
    "\n",
    "let remove x l =  \n",
    "  let rec aux x l laux = match l with \n",
    "    [] -> List.rev laux \n",
    "  | h::t -> if h = x then List.rev_append laux t  else aux x t (h::laux)\n",
    "  in aux x l [];;\n",
    "  \n",
    "remove 1 [3;4;7;1;4;3];;  "
   ]
  },
  {
   "cell_type": "code",
   "execution_count": null,
   "id": "9a48a05d-d1ba-4cc4-88fe-177a8d97a23c",
   "metadata": {},
   "outputs": [],
   "source": [
    "(* Una función divide: ’a list -> ’a list * ’a list, de forma que\n",
    "devuelva un par de listas (l1,l2), donde l1 contiene los elementos\n",
    "ocupan posición impar y l2 los que ocupan posición par. En ambos\n",
    "elementos de l1 y l2 deben mantener el mismo orden relativo que tienen\n",
    "original l. Ası́, por ejemplo, divide [’a’;’e’;’i’;’o’;’u’] deberı́a\n",
    "([’a’;’i’;’u’],[’e’;’o’]). *)\n",
    "\n",
    "let divide l = (* ver ejercicio 7.2 *)\n",
    "  let rec aux l1 l2 l3 x = match l1 with \n",
    "    [] -> (List.rev l2,List.rev l3)\n",
    "  | h::t -> if x mod 2 == 0 then aux t (h::l2) l3 (x+1) else\n",
    "            aux t l2 (h::l3) (x+1)\n",
    "  in aux l [] [] 0;;"
   ]
  },
  {
   "cell_type": "code",
   "execution_count": 47,
   "id": "9ad8523a-9619-4e59-8668-9d62da1ea80c",
   "metadata": {},
   "outputs": [
    {
     "data": {
      "text/plain": [
       "val compress : 'a list -> 'a list = <fun>\n"
      ]
     },
     "execution_count": 47,
     "metadata": {},
     "output_type": "execute_result"
    },
    {
     "data": {
      "text/plain": [
       "- : int list = [3; 4; 7; 1; 4; 3]\n"
      ]
     },
     "execution_count": 47,
     "metadata": {},
     "output_type": "execute_result"
    }
   ],
   "source": [
    "(* let rec compress = function  Si hai dous seguidos iguales deixase un solo\n",
    "| h1::h2::t -> if h1 = h2 then compress (h2::t)\n",
    "else h1 :: compress (h2::t)\n",
    "| l -> l;; *)\n",
    "\n",
    "\n",
    "let compress l = \n",
    "    let rec aux l laux = match l with \n",
    "      [] -> List.rev laux \n",
    "    | h::h1::t ->  if h = h1 then aux t (h::laux) \n",
    "                   else aux (h1::t) (h::laux)    \n",
    "    | h::t -> aux t (h::laux)\n",
    "    \n",
    "  in aux l [];;\n",
    "\n",
    "compress [3;3;4;7;7;1;4;3];;"
   ]
  },
  {
   "cell_type": "markdown",
   "id": "a92414c9-284b-418e-8e88-6b1f80ec7204",
   "metadata": {},
   "source": [
    "## P9. Factorial"
   ]
  },
  {
   "cell_type": "code",
   "execution_count": 48,
   "id": "ffd1a472-b1f7-40da-99df-a476d97dd34b",
   "metadata": {},
   "outputs": [
    {
     "data": {
      "text/plain": [
       "val fact_aux : int -> int = <fun>\n"
      ]
     },
     "execution_count": 48,
     "metadata": {},
     "output_type": "execute_result"
    },
    {
     "data": {
      "text/plain": [
       "val fact : int -> unit = <fun>\n"
      ]
     },
     "execution_count": 48,
     "metadata": {},
     "output_type": "execute_result"
    }
   ],
   "source": [
    "let rec fact_aux = function\n",
    "0 -> 1 | n -> n * fact_aux (n - 1)\n",
    "\n",
    "let fact n = \n",
    "  if n < 0 then print_endline \"fact: argumento invalido\" else  Printf.printf \"%d\\n\" (fact_aux n)\n",
    "\n",
    "(* Redefinir para que dea invalid argument cando recibe negativo ou o de int of string ...  e interceptamolos con try with  *)\n",
    "\n",
    "let () = \n",
    "  let len = (Array.length Sys.argv) in \n",
    "  if(len = 2) then\n",
    "    \n",
    "    try \n",
    "      (fact(int_of_string(Sys.argv.(1)))) \n",
    "    with \n",
    "      Failure _ ->  print_endline \"fact: argumento invalido\" \n",
    "\n",
    "\n",
    "  else Printf.printf \"fact: Missing Parameter\\n\"\n"
   ]
  },
  {
   "cell_type": "markdown",
   "id": "99d9b6df-73ea-4c18-aba3-8de9d7f98db9",
   "metadata": {},
   "source": [
    "# Practica 10"
   ]
  },
  {
   "cell_type": "markdown",
   "id": "ea21ae5f-dd30-42de-9574-63fdfbaa321f",
   "metadata": {},
   "source": [
    "## QSORT"
   ]
  },
  {
   "cell_type": "code",
   "execution_count": 49,
   "id": "428d3e6e-ed16-440f-9fbc-722c9601642d",
   "metadata": {},
   "outputs": [
    {
     "data": {
      "text/plain": [
       "val qsort1 : ('a -> 'a -> bool) -> 'a list -> 'a list = <fun>\n"
      ]
     },
     "execution_count": 49,
     "metadata": {},
     "output_type": "execute_result"
    }
   ],
   "source": [
    "let rec qsort1 ord = function        \n",
    "    [] -> []                              \n",
    "  | h::t -> let after, before = List.partition (ord h) t in\n",
    "            qsort1 ord before @ h :: qsort1 ord after;;\n",
    "  \n",
    "\n",
    "\n",
    "  (* ------> ¿En qu ́e casos no ser ́a bueno el rendimiento de esta implementaci ́on? *)\n",
    "\n",
    "        (* El rendimiento disminuira conforme aumenta el tamano de la lista a ordenar, pudiendo llegar al caso de StackOverflow al superar cierto tamano.  *)\n",
    "\n",
    "        (* TODO: Como tomamos como pivote sempre o primeiro elemento, un dos peores casos é aquel no que desde o principio o array xa esta ordenado.  *)\n"
   ]
  },
  {
   "cell_type": "code",
   "execution_count": 50,
   "id": "56b9237a-1c0d-4473-9011-abe905485998",
   "metadata": {},
   "outputs": [
    {
     "data": {
      "text/plain": [
       "val qsort2 : ('a -> 'a -> bool) -> 'a list -> 'a list = <fun>\n"
      ]
     },
     "execution_count": 50,
     "metadata": {},
     "output_type": "execute_result"
    }
   ],
   "source": [
    "let rec qsort2 ord =\n",
    "        let append' l1 l2 = List.rev_append (List.rev l1) l2 in\n",
    "        function\n",
    "            [] -> []\n",
    "          | h::t -> let after, before = List.partition (ord h) t in\n",
    "                    append' (qsort2 ord before) (h :: qsort2 ord after);;\n",
    "       \n",
    "\n",
    "  (*------> ¿Tiene qsort2 alguna ventaja sobre qsort1? *)\n",
    "\n",
    "      (* Xa non temos o problema da recursividade non terminal de '@', polo que con qsort2 podemos ordenar listas moito mais grandes sin problemas con Stack_Overflow *)\n",
    "\n",
    "  (* ------> ¿ Permite qsort2 ordenar listas que non podrian ser ordenadas con qsort1? *)\n",
    "\n",
    "      (* Si, por exemplo podemos ordenar unha lista aleatoria de 500_000 elementos con qsort2, pero en qsort1 obtemos Stack_Overflow *)\n"
   ]
  },
  {
   "cell_type": "code",
   "execution_count": 51,
   "id": "7b7ee426-5d6b-4c52-a22e-f5f23c6c42f1",
   "metadata": {},
   "outputs": [],
   "source": [
    "(* ------> ¿Tiene qsort2 alguna desventaja sobre qsort1? Compruebe si qsort2 es más lento que\n",
    "    qsort1. Si es ası́, explique por qué y estime la penalización, en porcentaje de tiempo usado,\n",
    "    de qsort2 respecto a qsort1.\n",
    "  *) \n",
    "      (* crono (qsort1 (>=)) l ;;   Para lista con 100_000\n",
    "        - : float = 0.27394799999999986\n",
    "      *)   \n",
    "\n",
    "      (* crono (qsort2 (>=)) l ;;                                              \n",
    "        - : float = 0.29911100000000035\n",
    "      *) \n",
    "\n",
    "      (* (0.29911100000000035 -. 0.27394799999999986) /. 0.27394799999999986 *. 100. ;;\n",
    "       Penalizacion -> : float = 9.18531984172197 % *) \n",
    "\n",
    "      (* Qsort2 é  9%~10% mais lento que qsort1, xa que ao usar a implementacion de Append basada en rev_append, temos que invertir a lista antes de insertar, mentras que na non terminal non.  *)\n",
    "  \n",
    "\n"
   ]
  },
  {
   "cell_type": "markdown",
   "id": "00dc68d3-d1e6-4c1f-aefa-160381c7d8e6",
   "metadata": {},
   "source": [
    "## MSORT"
   ]
  },
  {
   "cell_type": "code",
   "execution_count": 52,
   "id": "a0c8fa5c-7876-49fa-8a4c-b0d0e329d2e1",
   "metadata": {},
   "outputs": [
    {
     "data": {
      "text/plain": [
       "val divide : 'a list -> 'a list * 'a list = <fun>\n"
      ]
     },
     "execution_count": 52,
     "metadata": {},
     "output_type": "execute_result"
    }
   ],
   "source": [
    "(* Exercicio 2: *)      \n",
    "\n",
    "let rec divide l = match l with\n",
    "h1::h2::t -> let t1, t2 = divide t in (h1::t1, h2::t2)\n",
    "| _ -> l, [];;\n",
    "\n",
    "\n",
    "(* let rec merge = function\n",
    "[], l | l, [] -> l\n",
    "| h1::t1, h2::t2 -> if h1 <= h2 then h1 :: merge (t1, h2::t2)\n",
    "             else h2 :: merge (h1::t1, t2);;\n",
    "let rec msort1 l = match l with\n",
    "[] | _::[] -> l\n",
    "| _ -> let l1, l2 = divide l in\n",
    "merge (msort1 l1, msort1 l2);; *)\n",
    "\n",
    "       "
   ]
  },
  {
   "cell_type": "code",
   "execution_count": 53,
   "id": "fdd690ae-d2b6-4c22-8e9a-ecdc619fbaa1",
   "metadata": {},
   "outputs": [
    {
     "data": {
      "text/plain": [
       "val merge : ('a -> 'a -> bool) -> 'a list * 'a list -> 'a list = <fun>\n"
      ]
     },
     "execution_count": 53,
     "metadata": {},
     "output_type": "execute_result"
    }
   ],
   "source": [
    "(* Redefinicions *)\n",
    "\n",
    "(* Merge : (’a -> ’a -> bool) -> ’a list * ’a list -> ’a list *)\n",
    "\n",
    "let rec merge f = function  \n",
    "[], l | l, [] -> l\n",
    "| h1::t1, h2::t2 -> if f h1 h2 then h1 :: merge f (t1, h2::t2)\n",
    "             else h2 :: merge f (h1::t1, t2);;\n",
    "\n"
   ]
  },
  {
   "cell_type": "code",
   "execution_count": 54,
   "id": "811ea0e5-28f4-4a27-a722-3a39ee50e419",
   "metadata": {},
   "outputs": [
    {
     "data": {
      "text/plain": [
       "val msort1 : ('a -> 'a -> bool) -> 'a list -> 'a list = <fun>\n"
      ]
     },
     "execution_count": 54,
     "metadata": {},
     "output_type": "execute_result"
    }
   ],
   "source": [
    "(* msort1 : (’a -> ’a -> bool) -> ’a list -> ’a list *)\n",
    "\n",
    "let rec msort1 f l = match l with\n",
    "[] | _::[] -> l\n",
    "| _ -> let l1, l2 = divide l in\n",
    "merge f (msort1 f l1, msort1 f l2);;\n"
   ]
  },
  {
   "cell_type": "code",
   "execution_count": 55,
   "id": "a60906a3-c616-424d-98c2-658cc0119f3c",
   "metadata": {},
   "outputs": [],
   "source": [
    "(* ¿Puede provocar algu ́n problema la no terminalidad de divide o merge? \n",
    "En caso afirmativo, defina un valor l2 : int list que sea un ejemplo de ello. \n",
    "En caso negativo, defina l2 como la lista vac ́ıa. *)      \n",
    "\n",
    "(* En Divide e Merge si pode causar problemas, xa que con listas moi grandes temos overflow. *)\n"
   ]
  },
  {
   "cell_type": "code",
   "execution_count": 56,
   "id": "c6f7acf3-f0ae-4323-91a1-b5b9f43de876",
   "metadata": {},
   "outputs": [
    {
     "data": {
      "text/plain": [
       "val divide' : 'a list -> 'a list * 'a list = <fun>\n"
      ]
     },
     "execution_count": 56,
     "metadata": {},
     "output_type": "execute_result"
    }
   ],
   "source": [
    "(* Defina de modo recursivo terminal funciones divide’ y merge’ que cumplan el mismo cometido que divide y merge, respectivamente.\n",
    "Realice una implementaci ́on, msort2, de la ordenacio ́n por fusi ́on utilizando divide’ y merge’.\n",
    "Compare el rendimiento en tiempo de ejecucio ́n de msort2 con el de msort1 y con el de qsort2. *)\n",
    "\n",
    "\n",
    "let divide' l =  (* Inserccion Par -> Derecha , Impar -> Izquierda*)\n",
    "let rec aux l left right pos = match l with \n",
    "[] -> (List.rev_append right [],List.rev_append left [])\n",
    "| h::t -> if pos mod 2 == 0 then aux t left (h::right) (pos+1) else aux t (h::left) right (pos+1)\n",
    "in aux l [] [] 0;;"
   ]
  },
  {
   "cell_type": "code",
   "execution_count": 57,
   "id": "0a3b9bcc-68d5-4eba-b77f-8597a4cb1a6e",
   "metadata": {},
   "outputs": [
    {
     "data": {
      "text/plain": [
       "val merge' : ('a -> 'a -> bool) -> 'a list * 'a list -> 'a list = <fun>\n"
      ]
     },
     "execution_count": 57,
     "metadata": {},
     "output_type": "execute_result"
    }
   ],
   "source": [
    "let merge' f (l,l1) = \n",
    "let rec aux f l l1 laux = match l,l1 with\n",
    "[],a | a,[] -> List.rev_append laux  a \n",
    "| h1::t1,h2::t2 -> if f h1 h2 then aux f t1 (h2::t2) (h1::laux)\n",
    "               else aux f (h1::t1) t2 (h2::laux)\n",
    "in aux f l l1 [];; "
   ]
  },
  {
   "cell_type": "code",
   "execution_count": 58,
   "id": "9e7d5f21-216f-47bc-b901-8deeeb528b45",
   "metadata": {},
   "outputs": [
    {
     "data": {
      "text/plain": [
       "val msort2 : ('a -> 'a -> bool) -> 'a list -> 'a list = <fun>\n"
      ]
     },
     "execution_count": 58,
     "metadata": {},
     "output_type": "execute_result"
    }
   ],
   "source": [
    "let rec msort2 f l = match l with\n",
    "[] | _::[] -> l\n",
    "| _ -> let l1, l2 = divide' l in\n",
    "merge' f (msort2 f l1, msort2 f l2);;"
   ]
  },
  {
   "cell_type": "code",
   "execution_count": 59,
   "id": "28975293-8cd7-4776-a34e-b4dd3eaffe90",
   "metadata": {},
   "outputs": [],
   "source": [
    "(* Comparacion *) \n",
    "(* let l = List.init 50_000 (function _ -> Random.int 1_000_000);; *)\n",
    "\n",
    "(* msort2 é mais lento que msort1, xa que msort2 esta basado en rev_append, tendo que invertir as listas e consumindo asi mais tempo *)\n",
    "\n",
    "(* Os tempos de msort2 e qsort2 son similares (mais lentos que msort1 e qsort1) xa que ambas implementacions usan o rev_append, o que incrementa o seu tempo de execucion. *)\n",
    "\n",
    "(* crono (msort2 (<=)) l;;\n",
    "- : float = 0.12550599999999967*)\n",
    "\n",
    "(* crono (msort1 (<=)) l;;\n",
    "- : float = 0.089605999999999852 *)\n",
    "\n",
    "(* crono (qsort2 (<=)) l;;\n",
    "- : float = 0.11471500000000034 *)"
   ]
  },
  {
   "cell_type": "markdown",
   "id": "1f38865d-bb06-42b7-b413-788915fde242",
   "metadata": {},
   "source": [
    "# 11. Practica 11"
   ]
  },
  {
   "cell_type": "code",
   "execution_count": 62,
   "id": "3670f27e-4d4c-46b5-9d81-6f3fbe2b4cc0",
   "metadata": {},
   "outputs": [
    {
     "data": {
      "text/plain": [
       "val chck_in_board : int -> int -> int * int -> bool = <fun>\n"
      ]
     },
     "execution_count": 62,
     "metadata": {},
     "output_type": "execute_result"
    },
    {
     "data": {
      "text/plain": [
       "val chck_compatible : int -> int -> int * int -> int * int -> bool = <fun>\n"
      ]
     },
     "execution_count": 62,
     "metadata": {},
     "output_type": "execute_result"
    },
    {
     "data": {
      "text/plain": [
       "val lista_desp : int * int -> (int * int) list = <fun>\n"
      ]
     },
     "execution_count": 62,
     "metadata": {},
     "output_type": "execute_result"
    },
    {
     "data": {
      "text/plain": [
       "val knight : int -> int -> int * int -> int * int -> (int * int) list = <fun>\n"
      ]
     },
     "execution_count": 62,
     "metadata": {},
     "output_type": "execute_result"
    },
    {
     "data": {
      "text/plain": [
       "val tour : int -> int -> int * int -> int * int -> (int * int) list = <fun>\n"
      ]
     },
     "execution_count": 62,
     "metadata": {},
     "output_type": "execute_result"
    }
   ],
   "source": [
    "(* tour : int -> int -> (int * int) -> (int * int) -> (int * int) list *)  (* EX -->  tour 3 3 (1,1) (2,2);; *)\n",
    "\n",
    "(* Knight movements: (x+-2,y+-1) (x+-1,y+-2) *)\n",
    "\n",
    "\n",
    "let chck_in_board m n (x,y) = (x>=1) && (x<=m) && (y>=1) && (y<=n);;\n",
    "\n",
    "let chck_compatible m n (xi,yi) (xf,yf) = m>0 && n>0 && (chck_in_board m n (xi,yi)) && (chck_in_board m n (xf,yf));;\n",
    "\n",
    "(*Lista cos desplazamentos que podo facer*)\n",
    "let lista_desp input = match input with \n",
    "    (x,y) -> [(x+2,x+1);(x+2,y-1);(x-2,y+1);(x-2,y-1);(x+1,y+2);(x-1,y+2);(x+1,y-2);(x-1,y-2)];;\n",
    "\n",
    "\n",
    "let knight m n departure arrival = \n",
    "  let rec aux_knight dep_aux l_trail =\n",
    "    if dep_aux = arrival then Some (dep_aux::l_trail)\n",
    "    else \n",
    "      if (chck_in_board m n dep_aux) = false then None \n",
    "      else    \n",
    "        if List.find_opt (function x -> x = dep_aux) l_trail = None \n",
    "        then \n",
    "          let list_availible = \n",
    "            List.map (function x -> aux_knight x (dep_aux::l_trail)) (lista_desp dep_aux)\n",
    "          in \n",
    "            match List.find_opt (function x -> x != None) list_availible\n",
    "            with\n",
    "                None -> None \n",
    "              | Some x -> x \n",
    "              \n",
    "        else None\n",
    "        \n",
    "  in \n",
    "    match aux_knight departure [] with \n",
    "      None -> raise Not_found\n",
    "    | Some x -> x\n",
    ";;\n",
    "\n",
    "(* Solucion pouco eficiente, poderianse evitar recorridos e comprobacions inutiles *)\n",
    "let tour m n (xi,yi) (xf,yf) = \n",
    "  if chck_compatible m n (xi,yi) (xf,yf) then List.rev_append (knight m n (xi,yi) (xf,yf)) []\n",
    "  else raise Not_found;;   (* Primeiro comprobo si os datos son compatibles *)  \n",
    "      \n"
   ]
  },
  {
   "cell_type": "code",
   "execution_count": 61,
   "id": "f7c0098b-faab-48df-ac32-86ab53cf291a",
   "metadata": {},
   "outputs": [
    {
     "data": {
      "text/plain": [
       "- : (int * int) list =\n",
       "[(1, 1); (3, 2); (5, 4); (3, 5); (1, 4); (3, 3); (5, 2); (3, 1); (1, 2);\n",
       " (2, 4); (4, 3); (5, 5)]\n"
      ]
     },
     "execution_count": 61,
     "metadata": {},
     "output_type": "execute_result"
    }
   ],
   "source": [
    "tour 5 5 (1,1) (5,5);;"
   ]
  },
  {
   "cell_type": "markdown",
   "id": "46636675-3894-4051-9316-e58dcefffbb7",
   "metadata": {},
   "source": [
    "# 12. Practica 12"
   ]
  },
  {
   "cell_type": "code",
   "execution_count": 63,
   "id": "f55954ec-369c-4f17-a5f1-0ad9c49fe6d5",
   "metadata": {},
   "outputs": [
    {
     "data": {
      "text/plain": [
       "type 'a bin_tree = Empty | Node of 'a * 'a bin_tree * 'a bin_tree\n"
      ]
     },
     "execution_count": 63,
     "metadata": {},
     "output_type": "execute_result"
    },
    {
     "data": {
      "text/plain": [
       "val fold_tree : ('a -> 'b -> 'b -> 'b) -> 'b -> 'a bin_tree -> 'b = <fun>\n"
      ]
     },
     "execution_count": 63,
     "metadata": {},
     "output_type": "execute_result"
    },
    {
     "data": {
      "text/plain": [
       "val sum : int bin_tree -> int = <fun>\n"
      ]
     },
     "execution_count": 63,
     "metadata": {},
     "output_type": "execute_result"
    },
    {
     "data": {
      "text/plain": [
       "val prod : float bin_tree -> float = <fun>\n"
      ]
     },
     "execution_count": 63,
     "metadata": {},
     "output_type": "execute_result"
    },
    {
     "data": {
      "text/plain": [
       "val size : 'a bin_tree -> int = <fun>\n"
      ]
     },
     "execution_count": 63,
     "metadata": {},
     "output_type": "execute_result"
    },
    {
     "data": {
      "text/plain": [
       "val inorder : 'a bin_tree -> 'a list = <fun>\n"
      ]
     },
     "execution_count": 63,
     "metadata": {},
     "output_type": "execute_result"
    },
    {
     "data": {
      "text/plain": [
       "val mirror : 'a bin_tree -> 'a bin_tree = <fun>\n"
      ]
     },
     "execution_count": 63,
     "metadata": {},
     "output_type": "execute_result"
    }
   ],
   "source": [
    "type 'a bin_tree =\n",
    "    Empty\n",
    "  | Node of 'a * 'a bin_tree * 'a bin_tree;;\n",
    "\n",
    "let rec fold_tree f a = function\n",
    "    Empty -> a\n",
    "  | Node (x, l, r) -> f x (fold_tree f a l) (fold_tree f a r);;\n",
    "\n",
    "(* Implemente sum, prod, size, inorder y mirror usando fold_tree *)\n",
    "\n",
    "let sum tree = fold_tree (fun x l r -> x + l + r) 0 tree;;\n",
    "\n",
    "let prod tree = fold_tree (fun x l r -> x *. l *. r ) 1. tree ;;\n",
    "\n",
    "let size tree = fold_tree (fun _ l r -> 1 + l + r ) 0 tree ;;\n",
    "\n",
    "let inorder tree = fold_tree (fun x l r -> l @ [x] @ r) [] tree;;\n",
    "\n",
    "let mirror tree = fold_tree (fun x l r -> Node (x,r,l)) Empty tree;;"
   ]
  },
  {
   "cell_type": "markdown",
   "id": "38a9aa6a-1a49-4caf-a867-3de08e1e4c3e",
   "metadata": {},
   "source": [
    "# 13.Practica 13"
   ]
  },
  {
   "cell_type": "code",
   "execution_count": 65,
   "id": "b9c182b6-9383-47b3-9f27-3fe18b4533bc",
   "metadata": {},
   "outputs": [
    {
     "data": {
      "text/plain": [
       "type log_exp =\n",
       "    Const of bool\n",
       "  | Var of string\n",
       "  | Neg of log_exp\n",
       "  | Disj of log_exp * log_exp\n",
       "  | Conj of log_exp * log_exp\n",
       "  | Cond of log_exp * log_exp\n",
       "  | BiCond of log_exp * log_exp\n"
      ]
     },
     "execution_count": 65,
     "metadata": {},
     "output_type": "execute_result"
    },
    {
     "data": {
      "text/plain": [
       "type oper = Not\n"
      ]
     },
     "execution_count": 65,
     "metadata": {},
     "output_type": "execute_result"
    },
    {
     "data": {
      "text/plain": [
       "type biOper = Or | And | If | Iff\n"
      ]
     },
     "execution_count": 65,
     "metadata": {},
     "output_type": "execute_result"
    },
    {
     "data": {
      "text/plain": [
       "type prop =\n",
       "    C of bool\n",
       "  | V of string\n",
       "  | Op of oper * prop\n",
       "  | BiOp of biOper * prop * prop\n"
      ]
     },
     "execution_count": 65,
     "metadata": {},
     "output_type": "execute_result"
    },
    {
     "data": {
      "text/plain": [
       "val prop_of_log_exp : log_exp -> prop = <fun>\n"
      ]
     },
     "execution_count": 65,
     "metadata": {},
     "output_type": "execute_result"
    },
    {
     "data": {
      "text/plain": [
       "val log_exp_of_prop : prop -> log_exp = <fun>\n"
      ]
     },
     "execution_count": 65,
     "metadata": {},
     "output_type": "execute_result"
    },
    {
     "data": {
      "text/plain": [
       "val opval : oper -> bool -> bool = <fun>\n"
      ]
     },
     "execution_count": 65,
     "metadata": {},
     "output_type": "execute_result"
    },
    {
     "data": {
      "text/plain": [
       "val biopval : biOper -> bool -> bool -> bool = <fun>\n"
      ]
     },
     "execution_count": 65,
     "metadata": {},
     "output_type": "execute_result"
    },
    {
     "data": {
      "text/plain": [
       "val peval : (string * bool) list -> prop -> bool = <fun>\n"
      ]
     },
     "execution_count": 65,
     "metadata": {},
     "output_type": "execute_result"
    },
    {
     "data": {
      "text/plain": [
       "val is_tau : prop -> bool = <fun>\n"
      ]
     },
     "execution_count": 65,
     "metadata": {},
     "output_type": "execute_result"
    }
   ],
   "source": [
    "type log_exp =\n",
    "    Const of bool\n",
    "  | Var of string\n",
    "  | Neg of log_exp\n",
    "  | Disj of log_exp * log_exp\n",
    "  | Conj of log_exp * log_exp\n",
    "  | Cond of log_exp * log_exp\n",
    "  | BiCond of log_exp * log_exp;;\n",
    "\n",
    "type oper = Not;;\n",
    "\n",
    "type biOper = Or | And | If | Iff;;\n",
    "\n",
    "type prop =\n",
    "  C of bool\n",
    "| V of string\n",
    "| Op of oper * prop\n",
    "| BiOp of biOper * prop * prop;;\n",
    "\n",
    "\n",
    "(* prop_of_log_exp : log_exp -> prop *)\n",
    "\n",
    "let rec prop_of_log_exp = \n",
    "  let p2l = prop_of_log_exp in function\n",
    "  Const x -> C x\n",
    "| Var x -> V x \n",
    "| Neg x -> Op (Not, p2l x)\n",
    "| Disj (x,y) -> BiOp (Or,p2l x,p2l y)\n",
    "| Conj (x,y) -> BiOp (And,p2l x,p2l y)\n",
    "| Cond (x,y) -> BiOp (If,p2l x,p2l y)\n",
    "| BiCond (x,y) -> BiOp (Iff,p2l x,p2l y)\n",
    ";;\n",
    "\n",
    "(* log_exp_of_prop : prop -> log_exp *)\n",
    "\n",
    "let rec log_exp_of_prop = \n",
    "  let l2p = log_exp_of_prop in function \n",
    "  C x -> Const x \n",
    "| V x -> Var x \n",
    "| Op (_, x) -> Neg (l2p x) \n",
    "| BiOp (op,x,y) -> match op with\n",
    "    Or -> Disj (l2p x,l2p y)\n",
    "  | And -> Conj (l2p x,l2p y)\n",
    "  | If -> Cond (l2p x,l2p y)\n",
    "  | Iff -> BiCond (l2p x,l2p y)\n",
    ";;\n",
    "\n",
    "\n",
    "let opval = function \n",
    "  Not -> not\n",
    ";;\n",
    "\n",
    "let biopval = function\n",
    "  Or -> (||)\n",
    "| And -> (&&)\n",
    "| If -> (fun x y -> x || (not y))\n",
    "| Iff -> (fun x y -> (not (x || y)) || (x && y));;\n",
    ";;\n",
    "\n",
    "(* peval : (string * bool) list -> prop -> bool *)\n",
    "\n",
    "let rec peval ctx = function\n",
    "  C x -> x\n",
    "| V x -> List.assoc x ctx\n",
    "| Op (op, x) -> (opval op) (peval ctx x)\n",
    "| BiOp (op,x,y) -> (biopval op) (peval ctx x) (peval ctx y)\n",
    ";;\n",
    "\n",
    "(* Tauto si para calquer falor que poidan tomar \"p\" e \"q\" a \n",
    "expresion da True *)\n",
    "let is_tau prop = \n",
    "  peval [(\"p\",true);(\"q\",false)] prop &&\n",
    "  peval [(\"p\",true);(\"q\",true)] prop &&\n",
    "  peval [(\"p\",false);(\"q\",true)] prop &&\n",
    "  peval [(\"p\",false);(\"q\",false)] prop ;;\n"
   ]
  },
  {
   "cell_type": "code",
   "execution_count": null,
   "id": "49040edf-dc7b-4c0e-8790-ba5f2b96ebf2",
   "metadata": {},
   "outputs": [],
   "source": []
  }
 ],
 "metadata": {
  "kernelspec": {
   "display_name": "OCaml default",
   "language": "OCaml",
   "name": "ocaml-jupyter"
  },
  "language_info": {
   "codemirror_mode": "text/x-ocaml",
   "file_extension": ".ml",
   "mimetype": "text/x-ocaml",
   "name": "OCaml",
   "nbconverter_exporter": null,
   "pygments_lexer": "OCaml",
   "version": "4.12.1"
  }
 },
 "nbformat": 4,
 "nbformat_minor": 5
}
