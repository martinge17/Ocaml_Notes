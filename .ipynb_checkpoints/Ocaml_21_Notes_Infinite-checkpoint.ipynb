{
 "cells": [
  {
   "cell_type": "markdown",
   "id": "edc80be0",
   "metadata": {},
   "source": [
    "# OCAML NOTES 21 by InfiniteDuck"
   ]
  },
  {
   "cell_type": "markdown",
   "id": "2256fa48-8181-4a96-84d0-66201c778039",
   "metadata": {},
   "source": [
    "# 1.Primitive Types"
   ]
  },
  {
   "cell_type": "markdown",
   "id": "0c01a172-c41d-465a-82a4-0892a0e67f66",
   "metadata": {},
   "source": [
    "## 1.1 Integer"
   ]
  },
  {
   "cell_type": "code",
   "execution_count": null,
   "id": "8fe69ce8-06f0-4fe9-a29a-2e795fd692c7",
   "metadata": {},
   "outputs": [],
   "source": [
    "(*Int*) 1;;"
   ]
  },
  {
   "cell_type": "markdown",
   "id": "fc95a70c-0d71-4417-9963-cd00e1157af0",
   "metadata": {},
   "source": [
    "## 1.2 Float"
   ]
  },
  {
   "cell_type": "code",
   "execution_count": null,
   "id": "30d166f6-0e2c-4276-9fcf-99143edb0871",
   "metadata": {},
   "outputs": [],
   "source": [
    "(*Float*) 1. +. 1.;; "
   ]
  },
  {
   "cell_type": "markdown",
   "id": "3ccb98b1-f387-4422-9b1f-df7622b34554",
   "metadata": {},
   "source": [
    "## 1.3 Boolean"
   ]
  },
  {
   "cell_type": "code",
   "execution_count": null,
   "id": "9af10b7b-48f8-434c-ab42-44ebbb20c233",
   "metadata": {},
   "outputs": [],
   "source": [
    "true;;"
   ]
  },
  {
   "cell_type": "code",
   "execution_count": null,
   "id": "cd9685f2-ccd0-488d-b76f-c9e445c0a6e6",
   "metadata": {},
   "outputs": [],
   "source": [
    "false;;"
   ]
  },
  {
   "cell_type": "markdown",
   "id": "32a19c36-1e68-4b86-860c-3ef1ef82ceda",
   "metadata": {},
   "source": [
    "__Ocaml has \"Lazy Evaluation\".__ -> Evaluates a expresion part by part"
   ]
  },
  {
   "cell_type": "code",
   "execution_count": 39,
   "id": "2bad3e20-5598-4635-9730-69840b16a5c6",
   "metadata": {},
   "outputs": [
    {
     "data": {
      "text/plain": [
       "- : bool = true\n"
      ]
     },
     "execution_count": 39,
     "metadata": {},
     "output_type": "execute_result"
    },
    {
     "data": {
      "text/plain": [
       "- : bool = false\n"
      ]
     },
     "execution_count": 39,
     "metadata": {},
     "output_type": "execute_result"
    }
   ],
   "source": [
    "(*Logical AND*) true && true;; (*First evaluates `true &&`, then evaluates the second part,\n",
    "                                as the compiler can't tell what the result will be *)\n",
    "\n",
    "false && true;; (*First evaluates `false &&` and returns false, since the result will be \"False\" no matter what's\n",
    "                  on the other side of the expresion.*)                                "
   ]
  },
  {
   "cell_type": "code",
   "execution_count": 40,
   "id": "e0ae7764-51ba-470f-b6a2-fd0bcf180651",
   "metadata": {},
   "outputs": [
    {
     "data": {
      "text/plain": [
       "- : bool = true\n"
      ]
     },
     "execution_count": 40,
     "metadata": {},
     "output_type": "execute_result"
    }
   ],
   "source": [
    "(*Logical OR*) true || false;; (*Same here*)"
   ]
  },
  {
   "cell_type": "markdown",
   "id": "7d7faa3d",
   "metadata": {},
   "source": [
    "**Disyunciones** \n",
    "\"b1\" || \"b2\" equivale:  if \"b1\" then true else \"b2\"\n",
    "\"b1\" && \"b2\" equivale:  if \"b1\" then \"b2\" else false\n",
    "\n",
    "\n",
    "if \"b\" then \"e1\" else \"e2\" equivale a: (function true -> \"e1\"|false-> \"e2\")\"b\"\n"
   ]
  },
  {
   "cell_type": "markdown",
   "id": "f4590f7f-0ea5-4463-a52c-5a9e5a8be3d2",
   "metadata": {},
   "source": [
    "## 1.3.1 Equality Operators "
   ]
  },
  {
   "cell_type": "markdown",
   "id": "f53a6027-2fe3-49c1-a659-ee862b14f44a",
   "metadata": {},
   "source": [
    "Please check the Ocaml Documentation for more info ocaml.org/api/Stdlib.html"
   ]
  },
  {
   "cell_type": "markdown",
   "id": "8157cc1d-88c0-479f-85bd-7dbd89b303eb",
   "metadata": {},
   "source": [
    "### 1.3.1.1 Structural Equality (= and <>)"
   ]
  },
  {
   "cell_type": "markdown",
   "id": "a8654af4-4ad5-4797-a2c8-3f8298e1c99b",
   "metadata": {},
   "source": [
    "__Until we’ve studied the imperative__ --> __Compares Values__  "
   ]
  },
  {
   "cell_type": "code",
   "execution_count": null,
   "id": "a37bf722-571b-470a-ac45-ee06ecaed701",
   "metadata": {},
   "outputs": [],
   "source": [
    "1 = 1;; (*true*)\n",
    "\n",
    "\"A\"=\"B\";; (*false*)\n",
    "\n",
    "1 <> 2;; (*true*)"
   ]
  },
  {
   "cell_type": "markdown",
   "id": "08e64703-ff83-4bad-811b-95039c41450e",
   "metadata": {},
   "source": [
    "### 1.3.1.1 Physical Equality (== and !=) ! ="
   ]
  },
  {
   "cell_type": "markdown",
   "id": "9829ec6c-1a31-451b-ba91-d3f84e407a35",
   "metadata": {},
   "source": [
    "\"Compares Pointers in Memory\" __only use == if you really know what you're doing__"
   ]
  },
  {
   "cell_type": "code",
   "execution_count": null,
   "id": "214ae2a3-03f4-408b-8a55-3664108bcb82",
   "metadata": {},
   "outputs": [],
   "source": [
    "let a = \"ABC\";;\n",
    "let b = \"ABC\";;\n",
    "\n",
    "a = b;;\n",
    "a == b;;"
   ]
  },
  {
   "cell_type": "markdown",
   "id": "2b044a29-232d-4f11-9896-d6c4642fd9a0",
   "metadata": {},
   "source": [
    "## 1.4 Characters"
   ]
  },
  {
   "cell_type": "code",
   "execution_count": null,
   "id": "f04f46da-37a2-4339-99b8-1701b60922c2",
   "metadata": {},
   "outputs": [],
   "source": [
    "'a';;"
   ]
  },
  {
   "cell_type": "code",
   "execution_count": null,
   "id": "a11409c1-4d5b-4777-b660-62e7257644da",
   "metadata": {},
   "outputs": [],
   "source": [
    "char_of_int;;\n",
    "\n",
    "char_of_int 88;;"
   ]
  },
  {
   "cell_type": "code",
   "execution_count": null,
   "id": "8dd44b5f-278f-4e25-aafe-e63c422aefcb",
   "metadata": {},
   "outputs": [],
   "source": [
    "int_of_char;;\n",
    "\n",
    "int_of_char 'A';;"
   ]
  },
  {
   "cell_type": "markdown",
   "id": "735931d8-42d8-490f-854b-7ab097c6caf7",
   "metadata": {},
   "source": [
    "There is no _char_of_string_"
   ]
  },
  {
   "cell_type": "code",
   "execution_count": null,
   "id": "e3990699-54eb-40e6-aae6-1a69bd551435",
   "metadata": {},
   "outputs": [],
   "source": [
    "\"abc\".[0];;"
   ]
  },
  {
   "cell_type": "markdown",
   "id": "17a7b16b-add6-47a8-931a-85fbad2aec54",
   "metadata": {},
   "source": [
    "## 1.5 String"
   ]
  },
  {
   "cell_type": "code",
   "execution_count": null,
   "id": "b6372e27-133f-4f21-ba69-d39457bc849d",
   "metadata": {},
   "outputs": [],
   "source": [
    "\"Hi!\";;"
   ]
  },
  {
   "cell_type": "code",
   "execution_count": null,
   "id": "36643358-a8f5-487c-b505-8bbc8b233e97",
   "metadata": {},
   "outputs": [],
   "source": [
    "\"abc\" ^ \"def\";; (*String Concat*)"
   ]
  },
  {
   "cell_type": "markdown",
   "id": "e8e9ead4-2275-4bfb-8fad-c3f58152446c",
   "metadata": {},
   "source": [
    "### 1.5.1 Converting to string "
   ]
  },
  {
   "cell_type": "markdown",
   "id": "5d799187-1c46-4e0b-aea1-1f9c1fac4882",
   "metadata": {},
   "source": [
    "For three of the primitive types, there are built-in functions:"
   ]
  },
  {
   "cell_type": "code",
   "execution_count": null,
   "id": "0f6109f2-f888-4492-b2d6-ff63de2dc7cd",
   "metadata": {},
   "outputs": [],
   "source": [
    "string_of_int;; (*int -> string*)\n",
    "\n",
    "string_of_int 123;;\n",
    "\n",
    "(*string_of_int 1.22 --->*) (*Exception: Invalid_argument \"string_of_int\".*)"
   ]
  },
  {
   "cell_type": "code",
   "execution_count": null,
   "id": "13606ad8-aa78-4cd8-a749-4b29ce136fae",
   "metadata": {},
   "outputs": [],
   "source": [
    "int_of_string;; (*string -> int*)\n",
    "\n",
    "int_of_string \"123\";;"
   ]
  },
  {
   "cell_type": "code",
   "execution_count": null,
   "id": "c04caad4-3181-41d2-b970-e0102073395c",
   "metadata": {},
   "outputs": [],
   "source": [
    "string_of_float;; (* float -> string*)\n",
    "\n",
    "string_of_float 1.2;;"
   ]
  },
  {
   "cell_type": "code",
   "execution_count": null,
   "id": "9cfe090d-fd62-415a-8522-ec78b31cd378",
   "metadata": {},
   "outputs": [],
   "source": [
    "float_of_string;; (* string -> float*)\n",
    "\n",
    "float_of_string \"1.223\";;"
   ]
  },
  {
   "cell_type": "code",
   "execution_count": null,
   "id": "f2e1150a-e2f5-4b60-96d1-88219a079f25",
   "metadata": {},
   "outputs": [],
   "source": [
    "string_of_bool;; (*boolean -> string*)\n",
    "\n",
    "string_of_bool true;;"
   ]
  },
  {
   "cell_type": "code",
   "execution_count": null,
   "id": "f28db8d5-9cd2-411c-82fb-4a6afe6ff48e",
   "metadata": {},
   "outputs": [],
   "source": [
    "bool_of_string;;\n",
    "\n",
    "bool_of_string \"true\";;"
   ]
  },
  {
   "cell_type": "markdown",
   "id": "8282eff0-6b75-4439-936b-ffc21a114a56",
   "metadata": {},
   "source": [
    "__Strangely, there is no string_of_char, but the library function String.make can be used to accomplish the same goal__"
   ]
  },
  {
   "cell_type": "code",
   "execution_count": null,
   "id": "f96e319b-d062-4478-8ec5-6a09e5749110",
   "metadata": {},
   "outputs": [],
   "source": [
    "String.make;;\n",
    "\n",
    "String.make 1 'z';;\n",
    "\n",
    "String.make 2 'z';;"
   ]
  },
  {
   "cell_type": "markdown",
   "id": "ace3f523",
   "metadata": {},
   "source": [
    "# 2. Functions and Let Expressions"
   ]
  },
  {
   "cell_type": "markdown",
   "id": "e24a2127-7490-4eb7-a5c4-6ba1e1975ccb",
   "metadata": {},
   "source": [
    "Podemos usar tanto o keyword `function` como `fun`."
   ]
  },
  {
   "cell_type": "markdown",
   "id": "41fa66ae-a633-41f2-8cf9-8b876407ec2e",
   "metadata": {},
   "source": [
    "Values can be given names using `let`."
   ]
  },
  {
   "cell_type": "markdown",
   "id": "77da038b",
   "metadata": {},
   "source": [
    "## 2.1 Definition \n"
   ]
  },
  {
   "cell_type": "code",
   "execution_count": null,
   "id": "5696635d",
   "metadata": {
    "tags": []
   },
   "outputs": [],
   "source": [
    "let sqr x = x*x;; (*First Way*) \n",
    "\n",
    "sqr 2;;"
   ]
  },
  {
   "cell_type": "code",
   "execution_count": null,
   "id": "94808455-ca5c-4ed7-8809-5e845289d672",
   "metadata": {
    "tags": []
   },
   "outputs": [],
   "source": [
    "let square = function x -> sqr x;; (*Second Way*) \n",
    "\n",
    "square 3;;"
   ]
  },
  {
   "cell_type": "code",
   "execution_count": null,
   "id": "009ed152",
   "metadata": {
    "tags": []
   },
   "outputs": [],
   "source": [
    "let absf = function (* Returns Absolute Value *)\n",
    "    x -> if x >= 0. then x else -. x;;\n",
    "    \n",
    "\n",
    "absf (-1.2);;\n",
    "(*let absf x = if x >= 0. then x else -. x;;*)    "
   ]
  },
  {
   "cell_type": "markdown",
   "id": "4d8aa0f0-4a51-41ef-b401-0cca4ed1c960",
   "metadata": {},
   "source": [
    "__Remember!__\n",
    "    `if <b> then <e1> else <e2>` ==>`(function true -> <e1> | false -> <e2>) <b>`"
   ]
  },
  {
   "cell_type": "code",
   "execution_count": null,
   "id": "6a507c91-18eb-400d-985b-e1bda8609fd0",
   "metadata": {
    "scrolled": true,
    "tags": []
   },
   "outputs": [],
   "source": [
    "let abs x = (function true -> x | false -> -x) (x > 0);;\n",
    "\n",
    "abs (-1);;"
   ]
  },
  {
   "cell_type": "markdown",
   "id": "ffa9d347-4785-4410-803e-5dc9e43af85d",
   "metadata": {},
   "source": [
    "## 2.2 Let Expressions DUDA!!!!!!!!!!!!!!!!!\n"
   ]
  },
  {
   "cell_type": "markdown",
   "id": "cec1fc6d-fc61-47d2-a820-749b129c56a3",
   "metadata": {},
   "source": [
    "__Remember!__\n",
    "    `let <x> = <eL> in <eG>` ==>`(function <x> -> <eG>) <eL>`"
   ]
  },
  {
   "cell_type": "markdown",
   "id": "e8d3ef33-aa9f-4bec-8a10-b70a15088945",
   "metadata": {},
   "source": [
    "We’re binding a value \"eL\" to the name \"x\" then using that binding inside another expression, \"eG\"."
   ]
  },
  {
   "cell_type": "code",
   "execution_count": 29,
   "id": "f9f41d6d-6919-4466-9d6d-bd27dce6ad88",
   "metadata": {
    "scrolled": true,
    "tags": []
   },
   "outputs": [
    {
     "data": {
      "text/plain": [
       "val abs : int -> int = <fun>\n"
      ]
     },
     "execution_count": 29,
     "metadata": {},
     "output_type": "execute_result"
    },
    {
     "data": {
      "text/plain": [
       "- : int = 100\n"
      ]
     },
     "execution_count": 29,
     "metadata": {},
     "output_type": "execute_result"
    }
   ],
   "source": [
    "(*Se o definimos estando f en local, en caso de que fagamos moitas chamada\n",
    "de cada chamada volvese a definir f polo que e moi costoso*)\n",
    "let abs x = \n",
    "    let f = function true -> 1 | false -> -1 in f (x>0) * x;;\n",
    "    \n",
    "abs (-100);;"
   ]
  },
  {
   "cell_type": "code",
   "execution_count": 142,
   "id": "78c5ebc1-c0c0-49c7-a8d7-8cf09fd8157f",
   "metadata": {
    "scrolled": true,
    "tags": []
   },
   "outputs": [
    {
     "data": {
      "text/plain": [
       "val abs : int -> int = <fun>\n"
      ]
     },
     "execution_count": 142,
     "metadata": {},
     "output_type": "execute_result"
    },
    {
     "data": {
      "text/plain": [
       "- : int = 12\n"
      ]
     },
     "execution_count": 142,
     "metadata": {},
     "output_type": "execute_result"
    }
   ],
   "source": [
    "(*Asi non se definiria de cada vez*)\n",
    "let abs =\n",
    "    let f = function true -> 1 | false -> -1 in \n",
    "    function x -> f (x>0) * x ;;\n",
    "    \n",
    "abs (-12);;\n"
   ]
  },
  {
   "cell_type": "code",
   "execution_count": null,
   "id": "135832ca-e729-4ec5-8d4f-f64e12e9d1c3",
   "metadata": {
    "scrolled": true,
    "tags": []
   },
   "outputs": [],
   "source": [
    "    \n",
    "(*Exemplo*)\n",
    "\n",
    "abs(2);;\n",
    "abs(-7);;"
   ]
  },
  {
   "cell_type": "code",
   "execution_count": 128,
   "id": "5a84a8fc-6d26-40fd-8f48-8bb44c25ca5b",
   "metadata": {
    "scrolled": true,
    "tags": []
   },
   "outputs": [
    {
     "data": {
      "text/plain": [
       "val circ : float -> float = <fun>\n"
      ]
     },
     "execution_count": 128,
     "metadata": {},
     "output_type": "execute_result"
    },
    {
     "data": {
      "text/plain": [
       "val circ : float -> float = <fun>\n"
      ]
     },
     "execution_count": 128,
     "metadata": {},
     "output_type": "execute_result"
    },
    {
     "data": {
      "text/plain": [
       "val circ : float -> float = <fun>\n"
      ]
     },
     "execution_count": 128,
     "metadata": {},
     "output_type": "execute_result"
    },
    {
     "data": {
      "text/plain": [
       "- : float = 12.5663706143591725\n"
      ]
     },
     "execution_count": 128,
     "metadata": {},
     "output_type": "execute_result"
    }
   ],
   "source": [
    "(*Asi calculas de cada execucion dospi, aunque sempre vai dar o mismo*)\n",
    "let circ r =\n",
    "    let dospi = 4. *. asin 1. in \n",
    "    dospi *. r;;\n",
    "\n",
    "(* Ao evaluarse queda: *)\n",
    "\n",
    "let circ r = \n",
    "   (function dospi -> dospi *. r) (4. *. asin 1.);;\n",
    "\n",
    "(*que reescribiendo r para que la función quede explícita sería:*)\n",
    "\n",
    "let circ = function r -> (function dospi -> dospi *. r) (4. *. asin 1.);;\n",
    "\n",
    "circ 2.;;    "
   ]
  },
  {
   "cell_type": "code",
   "execution_count": 131,
   "id": "dfb05e85-2fee-442c-86df-e944f3470517",
   "metadata": {
    "scrolled": true,
    "tags": []
   },
   "outputs": [
    {
     "data": {
      "text/plain": [
       "val circ : float -> float = <fun>\n"
      ]
     },
     "execution_count": 131,
     "metadata": {},
     "output_type": "execute_result"
    },
    {
     "data": {
      "text/plain": [
       "val circ : float -> float = <fun>\n"
      ]
     },
     "execution_count": 131,
     "metadata": {},
     "output_type": "execute_result"
    },
    {
     "data": {
      "text/plain": [
       "val circ : float -> float = <fun>\n"
      ]
     },
     "execution_count": 131,
     "metadata": {},
     "output_type": "execute_result"
    },
    {
     "data": {
      "text/plain": [
       "val circ : float -> float = <fun>\n"
      ]
     },
     "execution_count": 131,
     "metadata": {},
     "output_type": "execute_result"
    },
    {
     "data": {
      "text/plain": [
       "- : float = 12.5664\n"
      ]
     },
     "execution_count": 131,
     "metadata": {},
     "output_type": "execute_result"
    }
   ],
   "source": [
    "(*Asi non se calcularia de cada vez*)\n",
    "let circ =\n",
    "    let dospi = 4. *. asin 1. in \n",
    "    function r -> dospi *. r;;\n",
    "    \n",
    "(*Ao evaluarse queda*)\n",
    "\n",
    "let circ =\n",
    "   (function dospi -> (function r -> dospi *. r)) (4. *. asin 1.);;\n",
    "   \n",
    "(* Y estamos definiendo circ como la aplicación de la función (function dospi -> ...) a (4. *. asin 1. ), \n",
    "así que se evaluaría esa aplicación,para eso se evalúa primero el parámetro:*)   \n",
    "\n",
    "let circ =\n",
    "   (function dospi -> (function r -> dospi *. r)) 6.2832;;\n",
    "\n",
    "\n",
    "(* Y se sustituye en el cuerpo de la función: *)\n",
    "\n",
    "let circ = function r -> 6.2832 *. r;;\n",
    "\n",
    "circ 2.;;     "
   ]
  },
  {
   "cell_type": "code",
   "execution_count": 9,
   "id": "354aa82c-c605-4607-8a7f-944583c3f964",
   "metadata": {
    "tags": []
   },
   "outputs": [
    {
     "ename": "error",
     "evalue": "compile_error",
     "output_type": "error",
     "traceback": [
      "File \"[9]\", line 8, characters 23-24:\n8 | let abs x = (function x>0 -> x | x<0 -> -.x | x==0 -> 0) x;\n                           ^\nError: Syntax error: operator expected.\n"
     ]
    }
   ],
   "source": [
    "\n",
    "\n",
    "(*DELETE¡¡¡¡¡¡¡¡¡¡¡¡¡¡¡¡¡¡¡¡¡¡¡¡¡¡¡¡¡¡¡¡¡¡¡¡¡¡¡¡¡¡¡¡¡¡¡¡¡¡¡¡¡¡¡¡¡¡¡¡¡¡¡¡¡¡¡¡¡¡¡¡¡¡¡¡¡¡¡¡¡¡¡¡¡¡¡¡¡¡¡¡¡¡¡*)\n",
    "\n",
    "(*Facer o abs pero asi:*)   \n",
    "(*if \"b\" then \"e1\" else \"e2\" equivale a: (function true -> \"e1\"|false-> \"e2\")\"b\"*)\n",
    "\n",
    "let abs x = (function x>0 -> x | x<0 -> -.x | x==0 -> 0) x;"
   ]
  },
  {
   "cell_type": "code",
   "execution_count": 14,
   "id": "49b03239",
   "metadata": {
    "tags": []
   },
   "outputs": [
    {
     "data": {
      "text/plain": [
       "val f : int -> int -> int = <fun>\n"
      ]
     },
     "execution_count": 14,
     "metadata": {},
     "output_type": "execute_result"
    },
    {
     "data": {
      "text/plain": [
       "- : int = 3\n"
      ]
     },
     "execution_count": 14,
     "metadata": {},
     "output_type": "execute_result"
    }
   ],
   "source": [
    "let f = function x -> (function y -> x + y);;\n",
    "\n",
    "f 1 2;;"
   ]
  },
  {
   "cell_type": "markdown",
   "id": "e7e2c15c",
   "metadata": {},
   "source": [
    "## 2.3 Currying"
   ]
  },
  {
   "cell_type": "markdown",
   "id": "b7e80246-d9a1-4610-a8c3-e765f0bfe168",
   "metadata": {},
   "source": [
    "(Operator) Operands"
   ]
  },
  {
   "cell_type": "code",
   "execution_count": 24,
   "id": "8c29c23c",
   "metadata": {
    "tags": []
   },
   "outputs": [
    {
     "data": {
      "text/plain": [
       "- : int -> int -> int = <fun>\n"
      ]
     },
     "execution_count": 24,
     "metadata": {},
     "output_type": "execute_result"
    },
    {
     "data": {
      "text/plain": [
       "- : int = 5\n"
      ]
     },
     "execution_count": 24,
     "metadata": {},
     "output_type": "execute_result"
    },
    {
     "data": {
      "text/plain": [
       "- : string = \"Hi!Bye!\"\n"
      ]
     },
     "execution_count": 24,
     "metadata": {},
     "output_type": "execute_result"
    },
    {
     "data": {
      "text/plain": [
       "- : bool = true\n"
      ]
     },
     "execution_count": 24,
     "metadata": {},
     "output_type": "execute_result"
    }
   ],
   "source": [
    "(+);;\n",
    "\n",
    "(+) 2 3;; (* Sum *)\n",
    "\n",
    "(^) \"Hi!\" \"Bye!\";; (* Concat*)\n",
    "\n",
    "(<=) 2 3;; (* Compare *)\n",
    "\n",
    "(*VALIDO PARA TODAS AS OPERACIONS*)\n",
    "(*ATENCION*) (*PARA A MULTIPLICACION DEIXASE UN ESPACIO ENTRE PARENTESIS E ASTERISCO PARA NON CONFUNDIR CO COMENTARIO ( * ) *)"
   ]
  },
  {
   "cell_type": "code",
   "execution_count": 23,
   "id": "598c4937",
   "metadata": {
    "tags": []
   },
   "outputs": [
    {
     "data": {
      "text/plain": [
       "val succ : int -> int = <fun>\n"
      ]
     },
     "execution_count": 23,
     "metadata": {},
     "output_type": "execute_result"
    },
    {
     "data": {
      "text/plain": [
       "- : int = 4\n"
      ]
     },
     "execution_count": 23,
     "metadata": {},
     "output_type": "execute_result"
    },
    {
     "data": {
      "text/plain": [
       "val op : int -> int = <fun>\n"
      ]
     },
     "execution_count": 23,
     "metadata": {},
     "output_type": "execute_result"
    },
    {
     "data": {
      "text/plain": [
       "- : int = 6\n"
      ]
     },
     "execution_count": 23,
     "metadata": {},
     "output_type": "execute_result"
    }
   ],
   "source": [
    "let succ = (+) 1;;\n",
    "succ 3;;\n",
    "\n",
    "\n",
    "let op = (-) 10;;\n",
    "op 4;;"
   ]
  },
  {
   "cell_type": "markdown",
   "id": "dc8b5741",
   "metadata": {},
   "source": [
    "### Producto Cartesiano"
   ]
  },
  {
   "cell_type": "code",
   "execution_count": 21,
   "id": "e537c286",
   "metadata": {
    "tags": []
   },
   "outputs": [
    {
     "data": {
      "text/plain": [
       "- : 'a * 'b -> 'a = <fun>\n"
      ]
     },
     "execution_count": 21,
     "metadata": {},
     "output_type": "execute_result"
    },
    {
     "data": {
      "text/plain": [
       "- : 'a * 'b -> 'b = <fun>\n"
      ]
     },
     "execution_count": 21,
     "metadata": {},
     "output_type": "execute_result"
    },
    {
     "data": {
      "text/plain": [
       "val suma : int * int -> int = <fun>\n"
      ]
     },
     "execution_count": 21,
     "metadata": {},
     "output_type": "execute_result"
    },
    {
     "data": {
      "text/plain": [
       "- : int = 5\n"
      ]
     },
     "execution_count": 21,
     "metadata": {},
     "output_type": "execute_result"
    }
   ],
   "source": [
    "fst;;\n",
    "\n",
    "snd;;\n",
    "\n",
    "let suma = function p -> fst p + snd p;;\n",
    "\n",
    "suma(2,3);;"
   ]
  },
  {
   "cell_type": "code",
   "execution_count": 26,
   "id": "3c0a5804",
   "metadata": {
    "tags": []
   },
   "outputs": [
    {
     "data": {
      "text/plain": [
       "val fstt : 'a * 'b * 'c -> 'a = <fun>\n"
      ]
     },
     "execution_count": 26,
     "metadata": {},
     "output_type": "execute_result"
    },
    {
     "data": {
      "text/plain": [
       "- : bool = true\n"
      ]
     },
     "execution_count": 26,
     "metadata": {},
     "output_type": "execute_result"
    }
   ],
   "source": [
    "let fstt = function x,_,_ -> x;;\n",
    "\n",
    "fstt (true,0,\"Hi!\");;"
   ]
  },
  {
   "cell_type": "code",
   "execution_count": 27,
   "id": "7e04db32",
   "metadata": {
    "tags": []
   },
   "outputs": [
    {
     "data": {
      "text/plain": [
       "val p : (bool * int) * string = ((true, 0), \"What!\")\n"
      ]
     },
     "execution_count": 27,
     "metadata": {},
     "output_type": "execute_result"
    },
    {
     "data": {
      "text/plain": [
       "val x : bool * int = (true, 0)\n",
       "val y : string = \"What!\"\n"
      ]
     },
     "execution_count": 27,
     "metadata": {},
     "output_type": "execute_result"
    }
   ],
   "source": [
    "let p = (true,0),\"What!\";;\n",
    "\n",
    "let x,y = p;;\n"
   ]
  },
  {
   "cell_type": "markdown",
   "id": "a98b3faa",
   "metadata": {
    "tags": []
   },
   "source": [
    "## 2.4 Recursive"
   ]
  },
  {
   "cell_type": "markdown",
   "id": "e08707c5",
   "metadata": {},
   "source": [
    "IMPORTANTE:\n",
    "\n",
    "-Condicionales: (if \"b\" then \"e1\" else \"e2\") e1 y e2 tenen que ser do mismo tipo."
   ]
  },
  {
   "cell_type": "markdown",
   "id": "f672c2d2",
   "metadata": {},
   "source": [
    "REC: Con \"rec\" ocaml entende que a funcion vaise a chamar a si mesma. "
   ]
  },
  {
   "cell_type": "code",
   "execution_count": 151,
   "id": "7d06d64a",
   "metadata": {
    "tags": []
   },
   "outputs": [
    {
     "data": {
      "text/plain": [
       "val fact : int -> int = <fun>\n"
      ]
     },
     "execution_count": 151,
     "metadata": {},
     "output_type": "execute_result"
    },
    {
     "data": {
      "text/plain": [
       "- : int = 2\n"
      ]
     },
     "execution_count": 151,
     "metadata": {},
     "output_type": "execute_result"
    }
   ],
   "source": [
    "let rec fact = function (* Devolve factorial *)\n",
    "    n -> if n = 0 then 1 \n",
    "    else n * fact (n-1);;\n",
    "    \n",
    "fact 2;;    "
   ]
  },
  {
   "cell_type": "markdown",
   "id": "405c5fba",
   "metadata": {},
   "source": [
    "## 2.5 Tail recursion (Pag 53 Real World Ocaml)\n"
   ]
  },
  {
   "cell_type": "markdown",
   "id": "eb94aada-6d03-43c0-be1c-e0e258d35c18",
   "metadata": {},
   "source": [
    "A recursive call in tail position does not need a new stack frame. It can just reuse the existing stack frame. That’s because there’s nothing left of use in the existing stack frame! There’s no computation left to be done, so none of the local variables, or next instruction to execute, etc. matter any more."
   ]
  },
  {
   "cell_type": "code",
   "execution_count": 9,
   "id": "96615f73",
   "metadata": {
    "tags": []
   },
   "outputs": [
    {
     "data": {
      "text/plain": [
       "val fact : int -> int = <fun>\n"
      ]
     },
     "execution_count": 9,
     "metadata": {},
     "output_type": "execute_result"
    },
    {
     "data": {
      "text/plain": [
       "- : int = 3628800\n"
      ]
     },
     "execution_count": 9,
     "metadata": {},
     "output_type": "execute_result"
    }
   ],
   "source": [
    "(*Transformar a factorial en Tail Recursive*)\n",
    "let fact n = (*f -> accumulator, i -> contador ata destino*)\n",
    "    let rec aux (i,f) = \n",
    "        if i = n then f \n",
    "        else aux (i+1,f * (i+1))\n",
    "    in aux (0,1);;\n",
    "    \n",
    "fact 10;;    "
   ]
  },
  {
   "cell_type": "code",
   "execution_count": 139,
   "id": "5a4a8c81-aa75-4f60-a23e-93d761b93da5",
   "metadata": {
    "tags": []
   },
   "outputs": [
    {
     "data": {
      "text/plain": [
       "val quo : int -> int -> int = <fun>\n"
      ]
     },
     "execution_count": 139,
     "metadata": {},
     "output_type": "execute_result"
    },
    {
     "data": {
      "text/plain": [
       "- : int = 5\n"
      ]
     },
     "execution_count": 139,
     "metadata": {},
     "output_type": "execute_result"
    }
   ],
   "source": [
    "(*Dividir usando a suma e a resta -> quo*)(*Non Recursivo final, pode crear stack overflow*)\n",
    "let rec quo x y = (*\"Precondicion\" x>=0 ; y>0*)\n",
    "    if x < y then 0\n",
    "    else 1 + quo (x-y) y;;\n",
    "    \n",
    "quo 10 2;; (*Non Tail Recursive!!*)   "
   ]
  },
  {
   "cell_type": "code",
   "execution_count": 147,
   "id": "b2ed02fd-f8dd-455a-934e-0cedc910426e",
   "metadata": {
    "tags": []
   },
   "outputs": [
    {
     "data": {
      "text/plain": [
       "val quo : int -> int -> int = <fun>\n"
      ]
     },
     "execution_count": 147,
     "metadata": {},
     "output_type": "execute_result"
    },
    {
     "data": {
      "text/plain": [
       "- : int = 5\n"
      ]
     },
     "execution_count": 147,
     "metadata": {},
     "output_type": "execute_result"
    }
   ],
   "source": [
    "(*Quo -> Tail Recursive*)\n",
    "let quo x y = (*\"Precondicion\" x>=0 ; y>0*)\n",
    "    let rec aux x y s =\n",
    "        if x < y then s\n",
    "        else aux (x-y) y (s+1)\n",
    "    in aux x y 0;;    \n",
    "\n",
    "quo 10 2;; (*Tail Recursive!!*)        "
   ]
  },
  {
   "cell_type": "code",
   "execution_count": 31,
   "id": "750e8e94-31e7-498b-a6d7-d0cbfa59fc5f",
   "metadata": {
    "tags": []
   },
   "outputs": [
    {
     "data": {
      "text/plain": [
       "val rem : int -> int -> int = <fun>\n"
      ]
     },
     "execution_count": 31,
     "metadata": {},
     "output_type": "execute_result"
    },
    {
     "data": {
      "text/plain": [
       "- : int = 1\n"
      ]
     },
     "execution_count": 31,
     "metadata": {},
     "output_type": "execute_result"
    }
   ],
   "source": [
    "(*Funcion que me da o resto*)(*Recursividade final/terminal, non deixa contas pendientes. Non crea stack overflow*)\n",
    "let rec rem x y = (*\"Precondicion\" x>=0 ; y>0*)\n",
    "    if x < y then x \n",
    "    else rem (x-y) y;;\n",
    "    \n",
    "rem 10 3;;    "
   ]
  },
  {
   "cell_type": "code",
   "execution_count": 32,
   "id": "ba0b5c90-97c9-4351-aab7-959efd1b29c1",
   "metadata": {
    "tags": []
   },
   "outputs": [
    {
     "data": {
      "text/plain": [
       "val div : int -> int -> int * int = <fun>\n"
      ]
     },
     "execution_count": 32,
     "metadata": {},
     "output_type": "execute_result"
    },
    {
     "data": {
      "text/plain": [
       "- : int * int = (5, 0)\n"
      ]
     },
     "execution_count": 32,
     "metadata": {},
     "output_type": "execute_result"
    }
   ],
   "source": [
    "(*Opcion 1 --> let div x y = quo x y, rem x y;;*) (*Combino as duas funcions anteriores*)     \n",
    "let rec div x y = \n",
    "    if x<y then 0, x \n",
    "    else let q, r = div (x-y) y in \n",
    "         1 + q, r ;;\n",
    "         \n",
    "div 10 2;;         "
   ]
  },
  {
   "cell_type": "code",
   "execution_count": 36,
   "id": "ba98dd4d",
   "metadata": {
    "tags": []
   },
   "outputs": [
    {
     "data": {
      "text/plain": [
       "- : float = 0.270862\n"
      ]
     },
     "execution_count": 36,
     "metadata": {},
     "output_type": "execute_result"
    }
   ],
   "source": [
    "Sys.time();;  (*Tempo de CPU que leva consumido OCAMl executando operacions*)"
   ]
  },
  {
   "cell_type": "markdown",
   "id": "69689f4f-94f5-4a40-94a2-a71dc37993d9",
   "metadata": {},
   "source": [
    "### Fibonacci"
   ]
  },
  {
   "cell_type": "code",
   "execution_count": 37,
   "id": "2f841d73",
   "metadata": {
    "tags": []
   },
   "outputs": [
    {
     "data": {
      "text/plain": [
       "val k : float = 1.6180339887498949\n"
      ]
     },
     "execution_count": 37,
     "metadata": {},
     "output_type": "execute_result"
    }
   ],
   "source": [
    "let k =  (1. +. sqrt 5.)/. 2.;; (*Para saber canto tempo levaria calcular o fib de un num*)"
   ]
  },
  {
   "cell_type": "code",
   "execution_count": 39,
   "id": "561600de-4031-40df-b17b-7069f7814537",
   "metadata": {
    "tags": []
   },
   "outputs": [
    {
     "data": {
      "text/plain": [
       "val fib : int -> int = <fun>\n"
      ]
     },
     "execution_count": 39,
     "metadata": {},
     "output_type": "execute_result"
    },
    {
     "data": {
      "text/plain": [
       "- : int = 4\n"
      ]
     },
     "execution_count": 39,
     "metadata": {},
     "output_type": "execute_result"
    }
   ],
   "source": [
    "let rec fib n = (*n >= 0*)\n",
    "    if n>1 then fib (n-1) + (n-2)\n",
    "    else n;;\n",
    "\n",
    "fib 4;;"
   ]
  },
  {
   "cell_type": "code",
   "execution_count": 13,
   "id": "2be8efd4-4308-4183-8bbf-d7b2798d8c60",
   "metadata": {
    "tags": []
   },
   "outputs": [
    {
     "data": {
      "text/plain": [
       "val fib : int -> int = <fun>\n"
      ]
     },
     "execution_count": 13,
     "metadata": {},
     "output_type": "execute_result"
    },
    {
     "data": {
      "text/plain": [
       "- : int = 0\n"
      ]
     },
     "execution_count": 13,
     "metadata": {},
     "output_type": "execute_result"
    },
    {
     "data": {
      "text/plain": [
       "- : int = 1\n"
      ]
     },
     "execution_count": 13,
     "metadata": {},
     "output_type": "execute_result"
    },
    {
     "data": {
      "text/plain": [
       "- : int = 1\n"
      ]
     },
     "execution_count": 13,
     "metadata": {},
     "output_type": "execute_result"
    },
    {
     "data": {
      "text/plain": [
       "- : int = 2\n"
      ]
     },
     "execution_count": 13,
     "metadata": {},
     "output_type": "execute_result"
    },
    {
     "data": {
      "text/plain": [
       "- : int = 3\n"
      ]
     },
     "execution_count": 13,
     "metadata": {},
     "output_type": "execute_result"
    },
    {
     "data": {
      "text/plain": [
       "- : int = 55\n"
      ]
     },
     "execution_count": 13,
     "metadata": {},
     "output_type": "execute_result"
    }
   ],
   "source": [
    "let fib n =  (*Alternativa mais eficiente ao de arriba*)\n",
    "  let rec fib2 = function \n",
    "    0 -> 0,1\n",
    "  | 1 -> 1, 0\n",
    "  | n -> let f1, f2 = fib2 (n-1) in \n",
    "         f1 + f2, f1 \n",
    "  in fst(fib2 n);;         \n",
    "       \n",
    "fib 0;;       \n",
    "fib 1;;\n",
    "fib 2;;\n",
    "fib 3;;\n",
    "fib 4;;\n",
    "fib 10;;"
   ]
  },
  {
   "cell_type": "code",
   "execution_count": 16,
   "id": "aed67dd7",
   "metadata": {
    "tags": []
   },
   "outputs": [
    {
     "data": {
      "text/plain": [
       "val fib : int -> int = <fun>\n"
      ]
     },
     "execution_count": 16,
     "metadata": {},
     "output_type": "execute_result"
    },
    {
     "data": {
      "text/plain": [
       "- : int = -199128287061131648\n"
      ]
     },
     "execution_count": 16,
     "metadata": {},
     "output_type": "execute_result"
    }
   ],
   "source": [
    "(* Mellor implementacion *)\n",
    "let fib n = (*Mecanismo da tabla \"cruzada\" visto en Algoritmos*)\n",
    "    let rec fib_aux (i,f,a) = \n",
    "        if i = n then f \n",
    "        else fib_aux (i+1,f+a,f)\n",
    "    in fib_aux (0,0,1);; (*O anterior ao de 0 e 1 *)   \n",
    "    \n",
    "fib 300_000;; (*Ahora xa nn hai stackoverflow*)"
   ]
  },
  {
   "cell_type": "markdown",
   "id": "a624e16b",
   "metadata": {},
   "source": [
    "# 3.LISTAS"
   ]
  },
  {
   "cell_type": "code",
   "execution_count": 47,
   "id": "5d28784e-a4ec-4457-891e-93079ffe8797",
   "metadata": {
    "tags": []
   },
   "outputs": [
    {
     "data": {
      "text/plain": [
       "- : int list = [1; 2; 3; 4]\n"
      ]
     },
     "execution_count": 47,
     "metadata": {},
     "output_type": "execute_result"
    }
   ],
   "source": [
    "[1;2;3;4];; (*Tipo LISTA*) (*Secuencias finitas de ints*)"
   ]
  },
  {
   "cell_type": "code",
   "execution_count": 46,
   "id": "39fd43eb-bb2f-42a4-a456-48084b9df47f",
   "metadata": {
    "tags": []
   },
   "outputs": [
    {
     "data": {
      "text/plain": [
       "val l : char list = ['a'; 'e'; 'i'; 'o'; 'u']\n"
      ]
     },
     "execution_count": 46,
     "metadata": {},
     "output_type": "execute_result"
    }
   ],
   "source": [
    "let l = ['a';'e';'i';'o';'u'];; (*Char List*)"
   ]
  },
  {
   "cell_type": "code",
   "execution_count": 48,
   "id": "fc48c05a-31bd-47a4-b7d1-bfc87825f825",
   "metadata": {
    "tags": []
   },
   "outputs": [
    {
     "data": {
      "text/plain": [
       "- : (int * int) list = [(1, 2); (2, 3)]\n"
      ]
     },
     "execution_count": 48,
     "metadata": {},
     "output_type": "execute_result"
    },
    {
     "data": {
      "text/plain": [
       "- : int * int list = (1, [2; 3])\n"
      ]
     },
     "execution_count": 48,
     "metadata": {},
     "output_type": "execute_result"
    }
   ],
   "source": [
    "[(1,2);(2,3)];; (*Lista de int*int (cartesiano)*)\n",
    "(*(int*int) list e distinto de int*int list*)\n",
    "1,[2;3];;"
   ]
  },
  {
   "cell_type": "code",
   "execution_count": 49,
   "id": "e89149cc-a9ff-4046-9e4d-1ad1ad6c73cb",
   "metadata": {
    "tags": []
   },
   "outputs": [
    {
     "data": {
      "text/plain": [
       "- : 'a list = []\n"
      ]
     },
     "execution_count": 49,
     "metadata": {},
     "output_type": "execute_result"
    }
   ],
   "source": [
    "(*Hai infinitos tipos de lista*)\n",
    "\n",
    "[];; (*Lista de tipo polimorfica*)"
   ]
  },
  {
   "cell_type": "markdown",
   "id": "d368b061-3ef9-4acf-9db8-1bc7280d1e98",
   "metadata": {},
   "source": [
    "## 3.1 List Functions"
   ]
  },
  {
   "cell_type": "markdown",
   "id": "916b81b6-df57-4eec-93f4-068aec1b9193",
   "metadata": {
    "tags": []
   },
   "source": [
    "Funcions modulo list"
   ]
  },
  {
   "cell_type": "markdown",
   "id": "84dd3bf7-ebf9-4f93-aba1-49627925bd8c",
   "metadata": {},
   "source": [
    "### 3.1.1 Length"
   ]
  },
  {
   "cell_type": "code",
   "execution_count": 51,
   "id": "e38ab633-b1d3-4094-b90f-9d65b38382bf",
   "metadata": {
    "tags": []
   },
   "outputs": [
    {
     "data": {
      "text/plain": [
       "- : 'a list -> int = <fun>\n"
      ]
     },
     "execution_count": 51,
     "metadata": {},
     "output_type": "execute_result"
    },
    {
     "data": {
      "text/plain": [
       "- : int = 5\n"
      ]
     },
     "execution_count": 51,
     "metadata": {},
     "output_type": "execute_result"
    }
   ],
   "source": [
    "List.length;;\n",
    "List.length l;; (*Devolve num elementos de unha lista*)"
   ]
  },
  {
   "cell_type": "code",
   "execution_count": 100,
   "id": "c7acbf05",
   "metadata": {
    "tags": []
   },
   "outputs": [
    {
     "data": {
      "text/plain": [
       "val list_length : 'a list -> int = <fun>\n"
      ]
     },
     "execution_count": 100,
     "metadata": {},
     "output_type": "execute_result"
    },
    {
     "data": {
      "text/plain": [
       "- : int = 5\n"
      ]
     },
     "execution_count": 100,
     "metadata": {},
     "output_type": "execute_result"
    }
   ],
   "source": [
    "let rec list_length l =  (*Lonx e 1 mais que a cola , si esta vacia e 0*) (*Not- Tail_Recursive*)\n",
    "  if l = [] then 0\n",
    "  else 1 + list_length(List.tl l);;\n",
    "\n",
    "list_length l;;"
   ]
  },
  {
   "cell_type": "markdown",
   "id": "f7e1ff29-367b-41cc-89b0-9fd26eee76cc",
   "metadata": {},
   "source": [
    "### 3.1.2 Head (hd)"
   ]
  },
  {
   "cell_type": "code",
   "execution_count": 53,
   "id": "33df223b-9ca2-45df-99c8-3bb6645e76e8",
   "metadata": {
    "tags": []
   },
   "outputs": [
    {
     "data": {
      "text/plain": [
       "- : 'a list -> 'a = <fun>\n"
      ]
     },
     "execution_count": 53,
     "metadata": {},
     "output_type": "execute_result"
    },
    {
     "data": {
      "text/plain": [
       "- : char = 'a'\n"
      ]
     },
     "execution_count": 53,
     "metadata": {},
     "output_type": "execute_result"
    }
   ],
   "source": [
    "List.hd;;\n",
    "List.hd l;; (*Devolve o primeiro elemento da lista*)"
   ]
  },
  {
   "cell_type": "markdown",
   "id": "1b5681f6-f537-4b23-b1c4-eff11bc59b44",
   "metadata": {},
   "source": [
    "### 3.1.3 Tail (tl)"
   ]
  },
  {
   "cell_type": "code",
   "execution_count": 55,
   "id": "21744732-d189-44f3-a09a-484884719b0c",
   "metadata": {
    "tags": []
   },
   "outputs": [
    {
     "data": {
      "text/plain": [
       "- : 'a list -> 'a list = <fun>\n"
      ]
     },
     "execution_count": 55,
     "metadata": {},
     "output_type": "execute_result"
    },
    {
     "data": {
      "text/plain": [
       "- : char list = ['e'; 'i'; 'o'; 'u']\n"
      ]
     },
     "execution_count": 55,
     "metadata": {},
     "output_type": "execute_result"
    },
    {
     "data": {
      "text/plain": [
       "- : int list = [2]\n"
      ]
     },
     "execution_count": 55,
     "metadata": {},
     "output_type": "execute_result"
    },
    {
     "data": {
      "text/plain": [
       "- : int list = []\n"
      ]
     },
     "execution_count": 55,
     "metadata": {},
     "output_type": "execute_result"
    }
   ],
   "source": [
    "List.tl;;\n",
    "List.tl l;; (*Devolve a lista que lle pasaches pero sin o primeiro elemento*)\n",
    "\n",
    "List.tl [1;2];; (*Devolve a lista pero sin o 1*)\n",
    "\n",
    "List.tl [2];; (*Devolve vacia *)"
   ]
  },
  {
   "cell_type": "markdown",
   "id": "d0952aa0-ebe7-4db0-8551-312d6d8f5ba2",
   "metadata": {},
   "source": [
    "### 3.1.4 Last"
   ]
  },
  {
   "cell_type": "code",
   "execution_count": 62,
   "id": "c5beae8d",
   "metadata": {
    "tags": []
   },
   "outputs": [
    {
     "data": {
      "text/plain": [
       "val last : 'a list -> 'a = <fun>\n"
      ]
     },
     "execution_count": 62,
     "metadata": {},
     "output_type": "execute_result"
    },
    {
     "data": {
      "text/plain": [
       "- : char = 'u'\n"
      ]
     },
     "execution_count": 62,
     "metadata": {},
     "output_type": "execute_result"
    }
   ],
   "source": [
    "(* last: 'a list -> 'a *)\n",
    "(*let rec last l =  (*Ao usar List.length e moi costoso*)\n",
    "    if List.length l = 1 then List.hd l\n",
    "    else last (List.tl l);; (*Non quedan cuentas pendientes, non crea stack overflow*)\n",
    "*)\n",
    "let rec last l =  (*Ao usar List.length e moi costoso*) (*Tail Recursive*)\n",
    "    if List.tl l = [] then List.hd l\n",
    "    else last (List.tl l);; (*Non quedan cuentas pendientes, non crea stack overflow*)\n",
    "    \n",
    "last l;;"
   ]
  },
  {
   "cell_type": "markdown",
   "id": "46f529e5-f08d-424b-87ae-b1d6779b2e85",
   "metadata": {},
   "source": [
    "### 3.1.5 @ (\"Concat\")"
   ]
  },
  {
   "cell_type": "code",
   "execution_count": 64,
   "id": "49805776",
   "metadata": {
    "tags": []
   },
   "outputs": [
    {
     "data": {
      "text/plain": [
       "- : 'a list -> 'a list -> 'a list = <fun>\n"
      ]
     },
     "execution_count": 64,
     "metadata": {},
     "output_type": "execute_result"
    },
    {
     "data": {
      "text/plain": [
       "val l : int list = [1; 2; 3; 4; 5; 6]\n"
      ]
     },
     "execution_count": 64,
     "metadata": {},
     "output_type": "execute_result"
    }
   ],
   "source": [
    "(@);; (*Usar @ vale para unir 2 listas *)\n",
    "\n",
    "(*Vale para concatenar listas equivalendo a List.append*)\n",
    "let l = [1;2;3] @ [4;5;6]\n",
    "\n",
    "(*O append e moi costoso ,como o List.length*)"
   ]
  },
  {
   "cell_type": "markdown",
   "id": "20774ead-ce3a-439b-ba85-e4635359b7a6",
   "metadata": {},
   "source": [
    "### 3.1.6 Reverse"
   ]
  },
  {
   "cell_type": "code",
   "execution_count": 71,
   "id": "f56c6f2b-0710-4b70-8134-c79ffb4c1b16",
   "metadata": {
    "tags": []
   },
   "outputs": [
    {
     "data": {
      "text/plain": [
       "- : 'a list -> 'a list = <fun>\n"
      ]
     },
     "execution_count": 71,
     "metadata": {},
     "output_type": "execute_result"
    },
    {
     "data": {
      "text/plain": [
       "- : int list = [6; 5; 4; 3; 2; 1]\n"
      ]
     },
     "execution_count": 71,
     "metadata": {},
     "output_type": "execute_result"
    },
    {
     "data": {
      "text/plain": [
       "- : int list = [1; 2; 3; 4; 5; 6]\n"
      ]
     },
     "execution_count": 71,
     "metadata": {},
     "output_type": "execute_result"
    }
   ],
   "source": [
    "List.rev ;;\n",
    "\n",
    "List.rev l ;; (*Imprime a lista a inversa*)\n",
    "l;;"
   ]
  },
  {
   "cell_type": "markdown",
   "id": "27e39641-612b-456e-95bc-2a138f71ed03",
   "metadata": {},
   "source": [
    "### 3.1.7 Nth"
   ]
  },
  {
   "cell_type": "code",
   "execution_count": 67,
   "id": "1cbbce33-efa9-4f80-9066-e2b43809359e",
   "metadata": {
    "tags": []
   },
   "outputs": [
    {
     "data": {
      "text/plain": [
       "- : 'a list -> int -> 'a = <fun>\n"
      ]
     },
     "execution_count": 67,
     "metadata": {},
     "output_type": "execute_result"
    },
    {
     "data": {
      "text/plain": [
       "- : int = 3\n"
      ]
     },
     "execution_count": 67,
     "metadata": {},
     "output_type": "execute_result"
    }
   ],
   "source": [
    "List.nth;;\n",
    "\n",
    "List.nth l 2;; (*Se aplica a una lista y a un entero e devolve un elemento do tipo lista.*) \n",
    "               (*Devolve o elemento que ocupa esa posicion. Empezase a contar por 0*)"
   ]
  },
  {
   "cell_type": "code",
   "execution_count": 68,
   "id": "63ab6689-13bb-4748-94f0-37e563f9f0b2",
   "metadata": {
    "tags": []
   },
   "outputs": [
    {
     "data": {
      "text/plain": [
       "val last : 'a list -> 'a = <fun>\n"
      ]
     },
     "execution_count": 68,
     "metadata": {},
     "output_type": "execute_result"
    }
   ],
   "source": [
    "(*Outra forma de definir Last. Usando nth*)\n",
    "let last l = List.nth l (List.length l -1);; "
   ]
  },
  {
   "cell_type": "markdown",
   "id": "3ce49576-f895-4998-bc80-cfd76470f964",
   "metadata": {},
   "source": [
    "### 3.1.8 Map"
   ]
  },
  {
   "cell_type": "code",
   "execution_count": 72,
   "id": "60e768e4-ebfb-43a9-9a15-f51b6623d972",
   "metadata": {
    "tags": []
   },
   "outputs": [
    {
     "data": {
      "text/plain": [
       "- : ('a -> 'b) -> 'a list -> 'b list = <fun>\n"
      ]
     },
     "execution_count": 72,
     "metadata": {},
     "output_type": "execute_result"
    },
    {
     "data": {
      "text/plain": [
       "- : int list = [0; 1; 1; 2; 2]\n"
      ]
     },
     "execution_count": 72,
     "metadata": {},
     "output_type": "execute_result"
    },
    {
     "data": {
      "text/plain": [
       "- : float list = [0.; -1.; 1.; 2.; -2.]\n"
      ]
     },
     "execution_count": 72,
     "metadata": {},
     "output_type": "execute_result"
    },
    {
     "data": {
      "text/plain": [
       "- : int list = [97; 101; 105; 111; 85]\n"
      ]
     },
     "execution_count": 72,
     "metadata": {},
     "output_type": "execute_result"
    }
   ],
   "source": [
    "List.map;; (*Aplicar unha funcion a cada elemnto da lista. Ex: De int list a float list*)\n",
    "\n",
    "List.map abs [0;-1;1;2;-2];;\n",
    "\n",
    "List.map float_of_int [0;-1;1;2;-2];;\n",
    "\n",
    "List.map int_of_char ['a';'e';'i';'o';'U'];;"
   ]
  },
  {
   "cell_type": "markdown",
   "id": "c6235d14-ecf5-4337-b773-f8a18c308d39",
   "metadata": {},
   "source": [
    "### 3.1.9 Filter"
   ]
  },
  {
   "cell_type": "code",
   "execution_count": 74,
   "id": "dc6b4c47-a20c-4c20-970a-175df0f8b2bc",
   "metadata": {
    "tags": []
   },
   "outputs": [
    {
     "data": {
      "text/plain": [
       "- : ('a -> bool) -> 'a list -> 'a list = <fun>\n"
      ]
     },
     "execution_count": 74,
     "metadata": {},
     "output_type": "execute_result"
    },
    {
     "data": {
      "text/plain": [
       "- : int list = [1; 2]\n"
      ]
     },
     "execution_count": 74,
     "metadata": {},
     "output_type": "execute_result"
    }
   ],
   "source": [
    "List.filter;; (*Aplicase aos predicados (funcions de booleanos) *)\n",
    "\n",
    "List.filter (function n -> n > 0) [0;-1;1;2;-2];; (*Filtra a lista deixando solo os elemento que dean true*)"
   ]
  },
  {
   "cell_type": "code",
   "execution_count": 76,
   "id": "3ca02e06-bbb7-4326-a470-50524d805604",
   "metadata": {
    "tags": []
   },
   "outputs": [
    {
     "data": {
      "text/plain": [
       "- : 'a -> 'a list -> bool = <fun>\n"
      ]
     },
     "execution_count": 76,
     "metadata": {},
     "output_type": "execute_result"
    },
    {
     "data": {
      "text/plain": [
       "- : bool = false\n"
      ]
     },
     "execution_count": 76,
     "metadata": {},
     "output_type": "execute_result"
    },
    {
     "data": {
      "text/plain": [
       "- : bool = true\n"
      ]
     },
     "execution_count": 76,
     "metadata": {},
     "output_type": "execute_result"
    }
   ],
   "source": [
    "List.mem;; (* Devolve un bool en conforme un elemento pertence a lista ou no *)\n",
    "\n",
    "List.mem 0 [-1;1;2;-2];;\n",
    "List.mem 0 [0;-1;1;2;-2];;"
   ]
  },
  {
   "cell_type": "code",
   "execution_count": 77,
   "id": "29b9867e-e5d7-4d66-a591-448f2d46ba76",
   "metadata": {
    "tags": []
   },
   "outputs": [
    {
     "data": {
      "text/plain": [
       "- : ('a -> bool) -> 'a list -> bool = <fun>\n"
      ]
     },
     "execution_count": 77,
     "metadata": {},
     "output_type": "execute_result"
    },
    {
     "data": {
      "text/plain": [
       "- : bool = true\n"
      ]
     },
     "execution_count": 77,
     "metadata": {},
     "output_type": "execute_result"
    },
    {
     "data": {
      "text/plain": [
       "- : bool = false\n"
      ]
     },
     "execution_count": 77,
     "metadata": {},
     "output_type": "execute_result"
    }
   ],
   "source": [
    "List.exists;; (*Aplicase a un predicado, como o filter pero devolve un bool si hai un elemento que cumpla o predicado*)\n",
    "\n",
    "List.exists (function n -> n>0) [0;-1;1;2;-2];;\n",
    "List.exists (function n -> n>0) [];;"
   ]
  },
  {
   "cell_type": "code",
   "execution_count": 79,
   "id": "5a8aea10-8059-4162-90f7-cdde1b2ef677",
   "metadata": {
    "tags": []
   },
   "outputs": [
    {
     "data": {
      "text/plain": [
       "- : ('a -> bool) -> 'a list -> bool = <fun>\n"
      ]
     },
     "execution_count": 79,
     "metadata": {},
     "output_type": "execute_result"
    },
    {
     "data": {
      "text/plain": [
       "- : bool = false\n"
      ]
     },
     "execution_count": 79,
     "metadata": {},
     "output_type": "execute_result"
    },
    {
     "data": {
      "text/plain": [
       "- : bool = true\n"
      ]
     },
     "execution_count": 79,
     "metadata": {},
     "output_type": "execute_result"
    }
   ],
   "source": [
    "List.for_all;; (*Aplicase a predicado. Como o filter pero en funcion de si todos os elementos cumplen o predicado*)\n",
    "\n",
    "List.for_all (function n -> n>0) [0;-1;1;2;-2];;\n",
    "List.for_all (function n -> n>0) [];; (**for_all na listas vacias sempre da TRUE*)"
   ]
  },
  {
   "cell_type": "code",
   "execution_count": 82,
   "id": "0c719e16-155c-47e3-b02d-8da3be00b3ef",
   "metadata": {
    "tags": []
   },
   "outputs": [
    {
     "data": {
      "text/plain": [
       "- : ('a -> bool) -> 'a list -> 'a = <fun>\n"
      ]
     },
     "execution_count": 82,
     "metadata": {},
     "output_type": "execute_result"
    },
    {
     "data": {
      "text/plain": [
       "- : int = 1\n"
      ]
     },
     "execution_count": 82,
     "metadata": {},
     "output_type": "execute_result"
    }
   ],
   "source": [
    "List.find;; (*Collemos predicado e devolvemos o primeiro elemento que o cumple*)\n",
    "\n",
    "List.find (function n -> n>0) [0;-1;1;2];;\n",
    "(*List.find (function n -> n>0) [-1];;*) (*Se non encontra devolve excepcion*) (*Exception: Not_found.*)"
   ]
  },
  {
   "cell_type": "code",
   "execution_count": 85,
   "id": "9ad94a10-af33-42ad-b387-671463f199ed",
   "metadata": {
    "tags": []
   },
   "outputs": [
    {
     "data": {
      "text/plain": [
       "- : int -> (int -> 'a) -> 'a list = <fun>\n"
      ]
     },
     "execution_count": 85,
     "metadata": {},
     "output_type": "execute_result"
    },
    {
     "data": {
      "text/plain": [
       "- : float list = [0.; 1.; 2.; 3.; 4.]\n"
      ]
     },
     "execution_count": 85,
     "metadata": {},
     "output_type": "execute_result"
    },
    {
     "data": {
      "text/plain": [
       "- : char list = ['A'; 'B'; 'C'; 'D'; 'E'; 'F'; 'G'; 'H'; 'I'; 'J']\n"
      ]
     },
     "execution_count": 85,
     "metadata": {},
     "output_type": "execute_result"
    }
   ],
   "source": [
    "List.init;; (*Cando se aplica a enteiro e function, devolve unha lista con tantos elemento como indiqe o enteiro,\n",
    "            aplicase a funcion*)\n",
    "\n",
    "List.init 5 (float_of_int);; (*Devolve unha lista cos elementos do que valia a funcion nesa posicion *)\n",
    "\n",
    "List.init 10 (function i -> char_of_int (65+i));;"
   ]
  },
  {
   "cell_type": "code",
   "execution_count": 102,
   "id": "8d1701d8-68f9-439d-870d-bc6301d6b01c",
   "metadata": {
    "tags": []
   },
   "outputs": [
    {
     "data": {
      "text/plain": [
       "- : ('a -> unit) -> 'a list -> unit = <fun>\n"
      ]
     },
     "execution_count": 102,
     "metadata": {},
     "output_type": "execute_result"
    }
   ],
   "source": [
    "List.iter ;;(*Recorre a lista aplicando unha funcion a unha lista. Fai o que ti queiras con eso, podelo mostrar, gardar ....*)"
   ]
  },
  {
   "cell_type": "markdown",
   "id": "5db9d555-e157-4085-8cc8-cc1066d23686",
   "metadata": {},
   "source": [
    "### Outra forma de definir Listas `::`"
   ]
  },
  {
   "cell_type": "markdown",
   "id": "0ab117d5-216f-4e8c-8f21-4c600e24fed1",
   "metadata": {},
   "source": [
    "Outra forma de representar listas    `cons ::` __OLLO: cons e asociativo pola dereita__\n"
   ]
  },
  {
   "cell_type": "markdown",
   "id": "6581dd12-75db-490a-a9a3-33da644035d9",
   "metadata": {},
   "source": [
    "`(<h>::<t>): x list ` representa a unha lista que ten como cabeza h e cola t "
   ]
  },
  {
   "cell_type": "code",
   "execution_count": 97,
   "id": "6283ab4d",
   "metadata": {
    "tags": []
   },
   "outputs": [
    {
     "data": {
      "text/plain": [
       "- : bool list = [true; true]\n"
      ]
     },
     "execution_count": 97,
     "metadata": {},
     "output_type": "execute_result"
    },
    {
     "data": {
      "text/plain": [
       "- : int list = [1; 2; 3; 4]\n"
      ]
     },
     "execution_count": 97,
     "metadata": {},
     "output_type": "execute_result"
    },
    {
     "data": {
      "text/plain": [
       "val l : char list = ['a'; 'e'; 'i'; 'o'; 'u']\n"
      ]
     },
     "execution_count": 97,
     "metadata": {},
     "output_type": "execute_result"
    }
   ],
   "source": [
    "true :: [true];;\n",
    "\n",
    "1::2::3::4::[];;\n",
    "\n",
    "let l = ['a';'e';'i';'o';'u'];; \n",
    "\n",
    "(*let h::t = l;;*) (*Si l fose unha lista vacia daria error de ejecucion*)\n",
    "               (*h queda asociado a 'a' e t a lista eiou*)\n",
    "               (*Warning 8 [partial-match]: this pattern-matching is not exhaustive.*)\n",
    "\n",
    "(*let x::y = t;;*)"
   ]
  },
  {
   "cell_type": "markdown",
   "id": "8ae6edd2-b5b4-45ed-997e-fd48f3b33245",
   "metadata": {},
   "source": [
    "### Redefinimos algunhas funcions usando o `cons::`"
   ]
  },
  {
   "cell_type": "code",
   "execution_count": 107,
   "id": "eeb28367-e5c3-49fd-8504-dc02732e1250",
   "metadata": {},
   "outputs": [
    {
     "data": {
      "text/plain": [
       "val list_1 : int list = [1; 2; 3; 4; 5; 2]\n"
      ]
     },
     "execution_count": 107,
     "metadata": {},
     "output_type": "execute_result"
    },
    {
     "data": {
      "text/plain": [
       "val list_2 : int list = [3; 4; 5; 6; 5]\n"
      ]
     },
     "execution_count": 107,
     "metadata": {},
     "output_type": "execute_result"
    }
   ],
   "source": [
    "let list_1 = [1;2;3;4;5;2];;\n",
    "let list_2 = [3;4;5;6;5];;"
   ]
  },
  {
   "cell_type": "code",
   "execution_count": 103,
   "id": "6bdf1ed1-9b52-48ff-ad7f-867ed5bb92df",
   "metadata": {
    "tags": []
   },
   "outputs": [
    {
     "data": {
      "text/plain": [
       "val list_length : 'a list -> int = <fun>\n"
      ]
     },
     "execution_count": 103,
     "metadata": {},
     "output_type": "execute_result"
    },
    {
     "data": {
      "text/plain": [
       "- : int = 5\n"
      ]
     },
     "execution_count": 103,
     "metadata": {},
     "output_type": "execute_result"
    }
   ],
   "source": [
    "let rec list_length = function (*Lonx e 1 mais que a cola , si esta vacia e 0*)\n",
    "   [] -> 0\n",
    "  |h::t -> 1 + list_length t;;\n",
    "  \n",
    "list_length l;;  "
   ]
  },
  {
   "cell_type": "code",
   "execution_count": 105,
   "id": "0d2cf456-61aa-4489-a3c2-04278de7ce0b",
   "metadata": {
    "tags": []
   },
   "outputs": [
    {
     "data": {
      "text/plain": [
       "val list_last : 'a list -> 'a = <fun>\n"
      ]
     },
     "execution_count": 105,
     "metadata": {},
     "output_type": "execute_result"
    },
    {
     "data": {
      "text/plain": [
       "- : char = 'u'\n"
      ]
     },
     "execution_count": 105,
     "metadata": {},
     "output_type": "execute_result"
    }
   ],
   "source": [
    "let rec list_last = function\n",
    "  [] -> raise (Failure \"list_last\")\n",
    "  | h::[] -> h\n",
    "  | h::t -> list_last t;;  (*cola t no vacia*)\n",
    "  \n",
    "list_last l;;  "
   ]
  },
  {
   "cell_type": "code",
   "execution_count": 110,
   "id": "5f6165fd-ffb3-413c-8c4c-bfa969f0ffba",
   "metadata": {
    "tags": []
   },
   "outputs": [
    {
     "data": {
      "text/plain": [
       "val append : 'a list -> 'a list -> 'a list = <fun>\n"
      ]
     },
     "execution_count": 110,
     "metadata": {},
     "output_type": "execute_result"
    },
    {
     "data": {
      "text/plain": [
       "- : int list = [1; 2; 3; 4; 5; 2; 3; 4; 5; 6; 5]\n"
      ]
     },
     "execution_count": 110,
     "metadata": {},
     "output_type": "execute_result"
    }
   ],
   "source": [
    "(*Concatenacion*) (*Equivale a append: 'a list -> ('a list -> 'a list)*)\n",
    "let rec append = function \n",
    "    [] -> (function l -> l)\n",
    "  | h::t -> (function l  -> h:: append t l);;\n",
    "  \n",
    "append list_1 list_2;; "
   ]
  },
  {
   "cell_type": "code",
   "execution_count": 111,
   "id": "f01e84a6-6942-489e-b5e8-9a5e23cc80e2",
   "metadata": {
    "tags": []
   },
   "outputs": [
    {
     "data": {
      "text/plain": [
       "val append : 'a list -> 'a list -> 'a list = <fun>\n"
      ]
     },
     "execution_count": 111,
     "metadata": {},
     "output_type": "execute_result"
    },
    {
     "data": {
      "text/plain": [
       "- : int list = [1; 2; 3; 4; 5; 2; 3; 4; 5; 6; 5]\n"
      ]
     },
     "execution_count": 111,
     "metadata": {},
     "output_type": "execute_result"
    }
   ],
   "source": [
    "(*Usando match_with e o mismo que o de arriba e entendese moito mellor*)\n",
    "let rec append l1 l2 = match l1 with \n",
    "    [] -> l2 (*Si l1 vacia*)\n",
    "  | h::t -> h :: append t l2;; \n",
    "  \n",
    "append list_1 list_2;;  "
   ]
  },
  {
   "cell_type": "markdown",
   "id": "912745ea",
   "metadata": {},
   "source": [
    "#### List Compare"
   ]
  },
  {
   "cell_type": "code",
   "execution_count": null,
   "id": "00eafe1b-f9f2-4666-8e2f-b867c5494b43",
   "metadata": {
    "tags": []
   },
   "outputs": [],
   "source": [
    "compare;; (*Compara 2 elementos Como en C si o primeiro elemento e menor devolve -1 se e igual devolve 0 se e maior 1 *)\n",
    "\n",
    "compare 1 2;;"
   ]
  },
  {
   "cell_type": "code",
   "execution_count": 113,
   "id": "2ba944cb-a038-43da-8266-fa6edceef009",
   "metadata": {
    "tags": []
   },
   "outputs": [
    {
     "data": {
      "text/plain": [
       "- : 'a list -> 'b list -> int = <fun>\n"
      ]
     },
     "execution_count": 113,
     "metadata": {},
     "output_type": "execute_result"
    }
   ],
   "source": [
    "(*Aplicado a lista*)\n",
    "List.compare_lengths;; (*Compara tamano de listas*)"
   ]
  },
  {
   "cell_type": "code",
   "execution_count": 117,
   "id": "df39247e-a469-4881-bd5a-beec91c91e36",
   "metadata": {
    "tags": []
   },
   "outputs": [
    {
     "data": {
      "text/plain": [
       "val compare_lengths : 'a list -> 'b list -> int = <fun>\n"
      ]
     },
     "execution_count": 117,
     "metadata": {},
     "output_type": "execute_result"
    }
   ],
   "source": [
    "(*Implementacion manual*)\n",
    "\n",
    "(*let compare_length l1 l2 =  Non eficiente\n",
    "    compare (List.length l1) (List.length l2) *)\n",
    "\n",
    "\n",
    "let rec compare_lengths = function \n",
    "    [] -> (function [] -> 0 (*Lista vacia*)\n",
    "                   | _ -> -1 ) (*Calquera lista non vacia. A primeira e vacia*)\n",
    "  | h::t -> (function [] -> 1 \n",
    "                     | h2::t2 ->  compare_lengths t t2);; (*Como as 2 listas tenen cabeza e cola podemos comparar solo a cola\n",
    "                                                            e xa vale asi a que antes se acabe sabemos que e a mais vacia*)"
   ]
  },
  {
   "cell_type": "code",
   "execution_count": 120,
   "id": "28eb5be2-d53a-4f20-bb52-65e6d1623328",
   "metadata": {
    "tags": []
   },
   "outputs": [
    {
     "data": {
      "text/plain": [
       "val l1 : char list = ['a'; 'e'; 'i'; 'o'; 'u']\n"
      ]
     },
     "execution_count": 120,
     "metadata": {},
     "output_type": "execute_result"
    },
    {
     "data": {
      "text/plain": [
       "val l2 : char list = ['a'; 'e'; 'i']\n"
      ]
     },
     "execution_count": 120,
     "metadata": {},
     "output_type": "execute_result"
    },
    {
     "data": {
      "text/plain": [
       "- : int = 1\n"
      ]
     },
     "execution_count": 120,
     "metadata": {},
     "output_type": "execute_result"
    }
   ],
   "source": [
    "let l1 = ['a';'e';'i';'o';'u'];; \n",
    "let l2 = ['a';'e';'i'];; \n",
    "  \n",
    "compare_lengths  l1 l2;;"
   ]
  },
  {
   "cell_type": "code",
   "execution_count": 122,
   "id": "45804a79-d16f-44d4-819b-c7721ee88551",
   "metadata": {
    "tags": []
   },
   "outputs": [
    {
     "data": {
      "text/plain": [
       "val compare_lengths : 'a list -> 'b list -> int = <fun>\n"
      ]
     },
     "execution_count": 122,
     "metadata": {},
     "output_type": "execute_result"
    },
    {
     "data": {
      "text/plain": [
       "- : int = 1\n"
      ]
     },
     "execution_count": 122,
     "metadata": {},
     "output_type": "execute_result"
    }
   ],
   "source": [
    "(*Rescribimos a function pero con match with*)\n",
    "\n",
    "let rec compare_lengths l1 l2 = match l1,l2 with\n",
    "    [],[] -> 0\n",
    "  | [],_ -> -1 (*Ou [],_::_ vale igual*)\n",
    "  | _::_,[] -> 1 \n",
    "  | _::t1,_::t2 -> compare_lengths t1 t2;;\n",
    "  \n",
    "compare_lengths  l1 l2;;"
   ]
  },
  {
   "cell_type": "markdown",
   "id": "0ae82c67",
   "metadata": {},
   "source": [
    "#### List Mem "
   ]
  },
  {
   "cell_type": "code",
   "execution_count": 124,
   "id": "5bc5f572",
   "metadata": {
    "tags": []
   },
   "outputs": [
    {
     "data": {
      "text/plain": [
       "val mem : 'a -> 'a list -> bool = <fun>\n"
      ]
     },
     "execution_count": 124,
     "metadata": {},
     "output_type": "execute_result"
    },
    {
     "data": {
      "text/plain": [
       "- : bool = true\n"
      ]
     },
     "execution_count": 124,
     "metadata": {},
     "output_type": "execute_result"
    }
   ],
   "source": [
    "(*Di si aparece o elemento na lista*)\n",
    "\n",
    "let rec mem x = function \n",
    "    [] -> false\n",
    "  | h::t -> x = h || mem x t;;\n",
    "  \n",
    "mem 'a' l1;;"
   ]
  },
  {
   "cell_type": "markdown",
   "id": "1a91dd71",
   "metadata": {},
   "source": [
    "# 4.Tail recursion 2\n",
    "\n",
    "Sempre hai que intentar que as funcions recursivas sexan terminales, para evitar stackoverflow en casos moi grandes"
   ]
  },
  {
   "cell_type": "code",
   "execution_count": 138,
   "id": "dc659437-c678-47c0-bf88-434b466e8013",
   "metadata": {
    "tags": []
   },
   "outputs": [
    {
     "data": {
      "text/plain": [
       "val suma_length : int -> 'a list -> int = <fun>\n"
      ]
     },
     "execution_count": 138,
     "metadata": {},
     "output_type": "execute_result"
    },
    {
     "data": {
      "text/plain": [
       "val length : 'a list -> int = <fun>\n"
      ]
     },
     "execution_count": 138,
     "metadata": {},
     "output_type": "execute_result"
    },
    {
     "data": {
      "text/plain": [
       "val length : 'a list -> int = <fun>\n"
      ]
     },
     "execution_count": 138,
     "metadata": {},
     "output_type": "execute_result"
    },
    {
     "data": {
      "text/plain": [
       "- : int = 5\n"
      ]
     },
     "execution_count": 138,
     "metadata": {},
     "output_type": "execute_result"
    }
   ],
   "source": [
    "(*Suma length*)\n",
    "\n",
    "let rec suma_length s = function \n",
    "    [] -> s \n",
    "   | _::t -> suma_length (s+1) t;; \n",
    "   \n",
    "let length l = suma_length 0 l;;    \n",
    "\n",
    "(*Integrando todo en unha funcion*)\n",
    "\n",
    "let length l = \n",
    "    let rec aux s = function \n",
    "    [] -> s \n",
    "   | _::t -> suma_length (s+1) t\n",
    "   in aux 0 l;; \n",
    "   \n",
    "(*l1 = ['a';'e';'i';'o';'u']*)\n",
    "\n",
    "length l1;;"
   ]
  },
  {
   "cell_type": "markdown",
   "id": "30b361df-494c-484d-937f-60746f9d6997",
   "metadata": {},
   "source": [
    "#### Obter valor max de unha lista"
   ]
  },
  {
   "cell_type": "code",
   "execution_count": null,
   "id": "571e9076-76e5-4ab2-8261-c12afc182624",
   "metadata": {
    "tags": []
   },
   "outputs": [],
   "source": [
    "(*Funcion que de unha lista me dea o valor maximo*)"
   ]
  },
  {
   "cell_type": "code",
   "execution_count": 18,
   "id": "04570693-687b-4ea0-b987-f2658c0ce34a",
   "metadata": {
    "tags": []
   },
   "outputs": [
    {
     "name": "stderr",
     "output_type": "stream",
     "text": [
      "File \"[18]\", lines 1-4, characters 21-32:\n",
      "1 | .....................function (* NOT TAIL RECURSIVE *)\n",
      "2 |     (*Non defino o caso lista vacia e asi da error*)\n",
      "3 |     h::[] -> h\n",
      "4 |   | h::t -> max h (lmax_ntail t).....................................................................\n",
      "Warning 8 [partial-match]: this pattern-matching is not exhaustive.\n",
      "Here is an example of a case that is not matched:\n",
      "[]\n"
     ]
    },
    {
     "data": {
      "text/plain": [
       "val lmax_ntail : 'a list -> 'a = <fun>\n"
      ]
     },
     "execution_count": 18,
     "metadata": {},
     "output_type": "execute_result"
    }
   ],
   "source": [
    "let rec lmax_ntail = function (* NOT TAIL RECURSIVE *)\n",
    "    (*Non defino o caso lista vacia e asi da error*)\n",
    "    h::[] -> h\n",
    "  | h::t -> max h (lmax_ntail t);; (*Uso a funcion max*) (*Pode ser ou a cabeza ou o maximo da cola. \n",
    "                            Collo o maximo da cola e comprbo si a cabeza e maior que ese maximo*)"
   ]
  },
  {
   "cell_type": "code",
   "execution_count": 24,
   "id": "ed4def64-fe44-44db-94da-95d8addb9a2e",
   "metadata": {
    "tags": []
   },
   "outputs": [
    {
     "data": {
      "text/plain": [
       "val lmax_tail : 'a list -> 'a = <fun>\n"
      ]
     },
     "execution_count": 24,
     "metadata": {},
     "output_type": "execute_result"
    },
    {
     "data": {
      "text/plain": [
       "- : int = 5\n"
      ]
     },
     "execution_count": 24,
     "metadata": {},
     "output_type": "execute_result"
    }
   ],
   "source": [
    "let lmax_tail l = (*Tail Recursive*) (*Comparas coas cabezas*) (*En caso de lista vacia queremos que dea error*)\n",
    "    let rec aux m = function \n",
    "        [] -> m\n",
    "      | h::t -> aux (max m h) t \n",
    "    in aux (List.hd l) (List.tl l);; \n",
    "\n",
    "\n",
    "lmax_tail [1;2;5;0;3];;  "
   ]
  },
  {
   "cell_type": "code",
   "execution_count": 48,
   "id": "40b22866-2378-4072-9db0-3ad0f62303ef",
   "metadata": {
    "tags": []
   },
   "outputs": [
    {
     "data": {
      "text/plain": [
       "val lmax : 'a list -> 'a = <fun>\n"
      ]
     },
     "execution_count": 48,
     "metadata": {},
     "output_type": "execute_result"
    },
    {
     "data": {
      "text/plain": [
       "val l : int list = [1; 2; 3; 4; 5; 6; 7; 8; 9; 10]\n"
      ]
     },
     "execution_count": 48,
     "metadata": {},
     "output_type": "execute_result"
    },
    {
     "data": {
      "text/plain": [
       "- : int = 10\n"
      ]
     },
     "execution_count": 48,
     "metadata": {},
     "output_type": "execute_result"
    },
    {
     "data": {
      "text/plain": [
       "- : int = 10\n"
      ]
     },
     "execution_count": 48,
     "metadata": {},
     "output_type": "execute_result"
    }
   ],
   "source": [
    "let rec lmax = function  (*Tail Recursive sin usar funcion auxiliar*)\n",
    "  [] -> raise(Failure \"max\")\n",
    "  | h::[] -> h (*Lista con solo cabeza*)\n",
    "  | h1::h2::t -> lmax (max h1 h2::t);; (*Buscamos simplificar a lista, enton collo e descarto o minimo dos 2 primeiros elementos.\n",
    "                                      Asi teno unha lista mais pequena e o maximo segue a ser o mesmo*)\n",
    "  \n",
    "let l = [1;2;3;4;5;6;7;8;9;10];;  \n",
    "\n",
    "lmax l;;\n",
    "\n",
    "lmax_tail l;;"
   ]
  },
  {
   "cell_type": "code",
   "execution_count": 26,
   "id": "ec5fc942-e7b7-4485-ba8c-0da7dcbe681c",
   "metadata": {
    "tags": []
   },
   "outputs": [
    {
     "data": {
      "text/plain": [
       "val l1 : int list = [1; 2; 3]\n"
      ]
     },
     "execution_count": 26,
     "metadata": {},
     "output_type": "execute_result"
    },
    {
     "data": {
      "text/plain": [
       "val l2 : int list = [4; 5]\n"
      ]
     },
     "execution_count": 26,
     "metadata": {},
     "output_type": "execute_result"
    }
   ],
   "source": [
    "let l1 = [1;2;3];;\n",
    "let l2 = [4;5];;"
   ]
  },
  {
   "cell_type": "markdown",
   "id": "8596c2b9",
   "metadata": {},
   "source": [
    "####  Rev_Append Terminal"
   ]
  },
  {
   "cell_type": "code",
   "execution_count": 28,
   "id": "612860e8-f49b-4714-b11e-14bd5eb89fac",
   "metadata": {
    "tags": []
   },
   "outputs": [
    {
     "data": {
      "text/plain": [
       "val rev_append : 'a list -> 'a list -> 'a list = <fun>\n"
      ]
     },
     "execution_count": 28,
     "metadata": {},
     "output_type": "execute_result"
    },
    {
     "data": {
      "text/plain": [
       "- : int list = [3; 2; 1; 4; 5]\n"
      ]
     },
     "execution_count": 28,
     "metadata": {},
     "output_type": "execute_result"
    }
   ],
   "source": [
    "let rec rev_append l1 l2 = match l1 with  (*O(n)*)\n",
    "    [] -> l2 \n",
    "  | h::t -> rev_append t (h::l2);; (*Reunir elementos*)(*Concatena a inversa da primeira coa segunda*)\n",
    "  \n",
    "rev_append [1;2;3] [4;5];;  "
   ]
  },
  {
   "cell_type": "code",
   "execution_count": 29,
   "id": "78337473-76b8-4750-900e-07c0c1505fb7",
   "metadata": {
    "tags": []
   },
   "outputs": [
    {
     "data": {
      "text/plain": [
       "- : int list = [3; 2; 1]\n"
      ]
     },
     "execution_count": 29,
     "metadata": {},
     "output_type": "execute_result"
    }
   ],
   "source": [
    "rev_append l1 [];; (*Si facemos rev_Append con dunha lista con unha vacia invertimos a lista*)"
   ]
  },
  {
   "cell_type": "markdown",
   "id": "72221b94-d5a4-4df2-97c6-1e1ed94908df",
   "metadata": {
    "tags": []
   },
   "source": [
    "#### Reverse Terminal"
   ]
  },
  {
   "cell_type": "code",
   "execution_count": 32,
   "id": "d09417a2-82ac-468e-b506-750a960a6538",
   "metadata": {
    "tags": []
   },
   "outputs": [
    {
     "data": {
      "text/plain": [
       "val rev : 'a -> int list = <fun>\n"
      ]
     },
     "execution_count": 32,
     "metadata": {},
     "output_type": "execute_result"
    },
    {
     "data": {
      "text/plain": [
       "- : int list = [3; 2; 1]\n"
      ]
     },
     "execution_count": 32,
     "metadata": {},
     "output_type": "execute_result"
    }
   ],
   "source": [
    "let rev l = rev_append l1 [];;\n",
    "\n",
    "rev l1;;"
   ]
  },
  {
   "cell_type": "markdown",
   "id": "64e377ed",
   "metadata": {},
   "source": [
    "#### Append Terminal"
   ]
  },
  {
   "cell_type": "code",
   "execution_count": 33,
   "id": "8a7be728-6853-4098-b1f9-ee343ce331b4",
   "metadata": {
    "tags": []
   },
   "outputs": [
    {
     "data": {
      "text/plain": [
       "val tail_append : 'a -> int list -> int list = <fun>\n"
      ]
     },
     "execution_count": 33,
     "metadata": {},
     "output_type": "execute_result"
    },
    {
     "data": {
      "text/plain": [
       "- : int list = [1; 2; 3; 4; 5; 6]\n"
      ]
     },
     "execution_count": 33,
     "metadata": {},
     "output_type": "execute_result"
    }
   ],
   "source": [
    "(*Podese facer como o rev_append do rev(l1) e l2*)\n",
    "let tail_append l1 l2 = \n",
    "    rev_append (rev l1) l2;;\n",
    "    \n",
    "tail_append [1;2;3] [4;5;6];;    "
   ]
  },
  {
   "cell_type": "markdown",
   "id": "84abf5e9",
   "metadata": {},
   "source": [
    "#### Fold Left e Right"
   ]
  },
  {
   "cell_type": "code",
   "execution_count": 36,
   "id": "59b45827-5ecf-4daf-a343-27803a6cb9b5",
   "metadata": {
    "tags": []
   },
   "outputs": [
    {
     "data": {
      "text/plain": [
       "val fold_left : ('a -> 'b -> 'a) -> 'a -> 'b list -> 'a = <fun>\n"
      ]
     },
     "execution_count": 36,
     "metadata": {},
     "output_type": "execute_result"
    },
    {
     "data": {
      "text/plain": [
       "- : int = 10\n"
      ]
     },
     "execution_count": 36,
     "metadata": {},
     "output_type": "execute_result"
    }
   ],
   "source": [
    "let rec fold_left op e l = match l with   (* Tail Recursive *)\n",
    "    [] -> e \n",
    "  | h::t -> fold_left op (op e h) t;;\n",
    "  \n",
    "fold_left (+) 3 [2;1;4];;  (* 3+2= 5 , 5+1 = 6, 6+4= 10*) (*(((3+2)+1)+4)*)"
   ]
  },
  {
   "cell_type": "code",
   "execution_count": 37,
   "id": "eba5e0a9-28e0-400b-b047-1f8306106adb",
   "metadata": {
    "tags": []
   },
   "outputs": [
    {
     "data": {
      "text/plain": [
       "val fold_right : ('a -> 'b -> 'b) -> 'a list -> 'b -> 'b = <fun>\n"
      ]
     },
     "execution_count": 37,
     "metadata": {},
     "output_type": "execute_result"
    },
    {
     "data": {
      "text/plain": [
       "- : int = 7\n"
      ]
     },
     "execution_count": 37,
     "metadata": {},
     "output_type": "execute_result"
    }
   ],
   "source": [
    "let rec fold_right op l e = match l with  (*NON RECURSIVA TERMINAL*)\n",
    "    [] -> e \n",
    "  | h :: t -> op h (fold_right op t e);; \n",
    "  \n",
    "fold_right (+) [1;2;3] 1;;  "
   ]
  },
  {
   "cell_type": "code",
   "execution_count": 41,
   "id": "cb5950fc-81e7-49ab-8d8c-cff84f33347a",
   "metadata": {
    "tags": []
   },
   "outputs": [
    {
     "data": {
      "text/plain": [
       "val sumList : int list -> int = <fun>\n"
      ]
     },
     "execution_count": 41,
     "metadata": {},
     "output_type": "execute_result"
    },
    {
     "data": {
      "text/plain": [
       "val sumList : int list -> int = <fun>\n"
      ]
     },
     "execution_count": 41,
     "metadata": {},
     "output_type": "execute_result"
    }
   ],
   "source": [
    "let rec sumList = function (*NOT Tail Recursive*) (* Suma todos os elementos de unha lista *)\n",
    "    [] -> 0\n",
    "  | h::t -> h + sumList t;;\n",
    "  \n",
    "  \n",
    "let sumList l = fold_left (+) 0 l;;  (*Tail Recursive*)"
   ]
  },
  {
   "cell_type": "code",
   "execution_count": 43,
   "id": "6546564a-3818-441c-ab9a-a5c8b54fd04d",
   "metadata": {
    "tags": []
   },
   "outputs": [
    {
     "data": {
      "text/plain": [
       "val length : 'a list -> int = <fun>\n"
      ]
     },
     "execution_count": 43,
     "metadata": {},
     "output_type": "execute_result"
    },
    {
     "data": {
      "text/plain": [
       "val length : 'a list -> int = <fun>\n"
      ]
     },
     "execution_count": 43,
     "metadata": {},
     "output_type": "execute_result"
    }
   ],
   "source": [
    "let length l = fold_left (function s -> function _ -> s + 1) 0 l;; (* Tail Recursive *)\n",
    "                                                                   (* s -> contador, l -> lista restante*)\n",
    "                             \n",
    "(*function x -> function y -> e *) (*==*) (*fun x y -> e*)\n",
    "let length l = fold_left (fun s _ -> s + 1) 0 l;;(*OUTRA FORMA de escribir*)                       "
   ]
  },
  {
   "cell_type": "code",
   "execution_count": 52,
   "id": "5133fdb6-a701-4d34-8976-f8cf02e89d02",
   "metadata": {
    "tags": []
   },
   "outputs": [
    {
     "data": {
      "text/plain": [
       "val lmax : 'a list -> 'a = <fun>\n"
      ]
     },
     "execution_count": 52,
     "metadata": {},
     "output_type": "execute_result"
    },
    {
     "data": {
      "text/plain": [
       "- : int = 10\n"
      ]
     },
     "execution_count": 52,
     "metadata": {},
     "output_type": "execute_result"
    }
   ],
   "source": [
    "let lmax l = match l with   (*Tail Recursive*)\n",
    "    [] -> raise(Failure \"max\")\n",
    "    | h::t -> fold_left max h t ;;\n",
    "    \n",
    "lmax l;;    "
   ]
  },
  {
   "cell_type": "code",
   "execution_count": 55,
   "id": "80a9e571-7e82-4587-a892-e0e033a1cfb4",
   "metadata": {
    "tags": []
   },
   "outputs": [
    {
     "data": {
      "text/plain": [
       "val last : 'a list -> 'a = <fun>\n"
      ]
     },
     "execution_count": 55,
     "metadata": {},
     "output_type": "execute_result"
    },
    {
     "data": {
      "text/plain": [
       "- : int = 10\n"
      ]
     },
     "execution_count": 55,
     "metadata": {},
     "output_type": "execute_result"
    }
   ],
   "source": [
    "let last l = match l with  (* Tail Recursive *)\n",
    "        [] -> raise(Failure \"max\")\n",
    "    | h::t -> fold_left (fun _ y -> y ) h t;; (*Colle dous valores e devolve sempre o segundo, vai asocianto sempre\n",
    "                                                   a tail (t) con y *)\n",
    "last l;;                                                   "
   ]
  },
  {
   "cell_type": "code",
   "execution_count": 57,
   "id": "c1f77162-fa05-4615-a7dd-b250d4b71be8",
   "metadata": {
    "tags": []
   },
   "outputs": [
    {
     "data": {
      "text/plain": [
       "val rev : 'a list -> 'a list = <fun>\n"
      ]
     },
     "execution_count": 57,
     "metadata": {},
     "output_type": "execute_result"
    },
    {
     "data": {
      "text/plain": [
       "- : int list = [4; 3; 2; 1]\n"
      ]
     },
     "execution_count": 57,
     "metadata": {},
     "output_type": "execute_result"
    }
   ],
   "source": [
    "let rev l = fold_left (fun l x-> x::l) [] l;; (*Outra forma de definir o rev*) (*Tail Recursive*)\n",
    "\n",
    "rev [1;2;3;4];;"
   ]
  },
  {
   "cell_type": "code",
   "execution_count": 63,
   "id": "b26dcbab-8f26-4502-8bd2-7d2eb55681b8",
   "metadata": {
    "tags": []
   },
   "outputs": [
    {
     "data": {
      "text/plain": [
       "val for_all : ('a -> bool) -> 'a list -> bool = <fun>\n"
      ]
     },
     "execution_count": 63,
     "metadata": {},
     "output_type": "execute_result"
    },
    {
     "data": {
      "text/plain": [
       "val for_all : ('a -> bool) -> 'a list -> bool = <fun>\n"
      ]
     },
     "execution_count": 63,
     "metadata": {},
     "output_type": "execute_result"
    },
    {
     "data": {
      "text/plain": [
       "- : bool = false\n"
      ]
     },
     "execution_count": 63,
     "metadata": {},
     "output_type": "execute_result"
    }
   ],
   "source": [
    "let for_all pred lis = match lis with (*List.for_all*) (*Da true si ao aplicar unha funcion en todos os da lista da true*) (*EXERCICIO*)\n",
    "    [] -> true\n",
    "  | h::t ->List.fold_left (fun a b -> pred b && a) true lis  (*Pouco eficiente, porque se hai un que non se cumple seguimos probando,\n",
    "                                                        cando xa sabemos que vai dar false*)\n",
    "    ;;\n",
    "    \n",
    "let rec for_all f l = match l with (*Tail Recursive *)(*Mais eficiente, non recorremos toda a lista en caso de false*)\n",
    "  [] -> true\n",
    "| h::t -> if f h then for_all f t else false;;\n",
    "\n",
    "for_all (function n -> n>0) [0;-1;1;2;-2];;"
   ]
  },
  {
   "cell_type": "code",
   "execution_count": 64,
   "id": "082e459c-b228-43ff-97c0-cb662021ac29",
   "metadata": {
    "tags": []
   },
   "outputs": [
    {
     "data": {
      "text/plain": [
       "val exists : ('a -> bool) -> 'a list -> bool = <fun>\n"
      ]
     },
     "execution_count": 64,
     "metadata": {},
     "output_type": "execute_result"
    },
    {
     "data": {
      "text/plain": [
       "- : bool = true\n"
      ]
     },
     "execution_count": 64,
     "metadata": {},
     "output_type": "execute_result"
    }
   ],
   "source": [
    "let rec exists f l = match l with \n",
    "  [] -> false\n",
    "| h::t -> if f h then true else exists f t;;  \n",
    "\n",
    "exists (function n -> n>0) [0;-1;1;2;-2];;"
   ]
  },
  {
   "cell_type": "markdown",
   "id": "8a53096f",
   "metadata": {},
   "source": [
    "# 5. Algoritmos Ordenacion"
   ]
  },
  {
   "cell_type": "code",
   "execution_count": null,
   "id": "b64a3167",
   "metadata": {
    "tags": []
   },
   "outputs": [],
   "source": [
    "let big_list = List.init 1_000_000 abs;;  (*Inicializo lista*)"
   ]
  },
  {
   "cell_type": "code",
   "execution_count": 66,
   "id": "2333ef38",
   "metadata": {
    "tags": []
   },
   "outputs": [
    {
     "data": {
      "text/plain": [
       "val sorted : 'a list -> bool = <fun>\n"
      ]
     },
     "execution_count": 66,
     "metadata": {},
     "output_type": "execute_result"
    },
    {
     "data": {
      "text/plain": [
       "- : bool = true\n"
      ]
     },
     "execution_count": 66,
     "metadata": {},
     "output_type": "execute_result"
    }
   ],
   "source": [
    "let rec sorted = function  (*Comproba ordenacion en orden ascendente*)\n",
    "    h1::h2::t -> h1 <= h2 && sorted (h2::t) \n",
    "   | _ -> true;;\n",
    "   \n",
    "sorted big_list;;   "
   ]
  },
  {
   "cell_type": "markdown",
   "id": "2f33ce39-33e6-432f-90d6-55b4f0a0c638",
   "metadata": {},
   "source": [
    "### 5.1 Not Tail Recursive"
   ]
  },
  {
   "cell_type": "code",
   "execution_count": 76,
   "id": "ef591f11",
   "metadata": {
    "tags": []
   },
   "outputs": [
    {
     "data": {
      "text/plain": [
       "val insert : ('a -> 'a -> bool) -> 'a -> 'a list -> 'a list = <fun>\n"
      ]
     },
     "execution_count": 76,
     "metadata": {},
     "output_type": "execute_result"
    }
   ],
   "source": [
    "let rec insert f x = function (*Not Tail Recursive*) (*Inserta mantendo certo orden*)\n",
    "    [] -> [x]\n",
    "  | h::t -> if f x h  then x::h::t\n",
    "            else h :: (insert f x t);;  \n",
    "                        "
   ]
  },
  {
   "cell_type": "code",
   "execution_count": 77,
   "id": "fe35f682",
   "metadata": {
    "tags": []
   },
   "outputs": [
    {
     "data": {
      "text/plain": [
       "val i_sort : ('a -> 'a -> bool) -> 'a list -> 'a list = <fun>\n"
      ]
     },
     "execution_count": 77,
     "metadata": {},
     "output_type": "execute_result"
    },
    {
     "data": {
      "text/plain": [
       "- : int list = [8; 6; 4; 1]\n"
      ]
     },
     "execution_count": 77,
     "metadata": {},
     "output_type": "execute_result"
    }
   ],
   "source": [
    "let rec i_sort f = function  (*Ordenar lista*)(*Not Tail Recursive*)\n",
    "    [] -> []\n",
    "  | h::t -> insert f h (i_sort f t);;\n",
    "  \n",
    "i_sort (>=) [4;8;1;6];;  "
   ]
  },
  {
   "cell_type": "markdown",
   "id": "98ca0055",
   "metadata": {
    "tags": []
   },
   "source": [
    "#### Funcion para cronometrar o tempo de ordenacion"
   ]
  },
  {
   "cell_type": "code",
   "execution_count": 71,
   "id": "2279150b",
   "metadata": {
    "tags": []
   },
   "outputs": [
    {
     "data": {
      "text/plain": [
       "val crono : ('a -> 'b) -> 'a -> float = <fun>\n"
      ]
     },
     "execution_count": 71,
     "metadata": {},
     "output_type": "execute_result"
    }
   ],
   "source": [
    "let crono f x = \n",
    "    let t = Sys.time () in \n",
    "    let _ = f x in \n",
    "    Sys.time () -. t ;;"
   ]
  },
  {
   "cell_type": "code",
   "execution_count": 73,
   "id": "32796980",
   "metadata": {
    "tags": []
   },
   "outputs": [
    {
     "data": {
      "text/plain": [
       "- : float = 1.06143699999999974\n"
      ]
     },
     "execution_count": 73,
     "metadata": {},
     "output_type": "execute_result"
    }
   ],
   "source": [
    "(*Random.int n   saca pseudoaleatoriamente n numeros int*)\n",
    "(*List.init 10_000 (function _ -> Random.int 1_000_000);;*) \n",
    "\n",
    "crono i_sort (List.init 10_000 (function _ -> Random.int 1_000_000));; (*Cronometramos o tempo que lle leva ordenar esa lista*)"
   ]
  },
  {
   "cell_type": "code",
   "execution_count": 81,
   "id": "e273a5b6",
   "metadata": {
    "tags": []
   },
   "outputs": [
    {
     "data": {
      "text/plain": [
       "val f : string -> string -> bool = <fun>\n"
      ]
     },
     "execution_count": 81,
     "metadata": {},
     "output_type": "execute_result"
    },
    {
     "data": {
      "text/plain": [
       "- : string list = [\"duck\"; \"fennec\"; \"gopher\"]\n"
      ]
     },
     "execution_count": 81,
     "metadata": {},
     "output_type": "execute_result"
    }
   ],
   "source": [
    "let f s1 s2 = (*Tamen se pode aplicar a Strings, etc ...*)\n",
    "    let l1 = String.length s1 in \n",
    "    let l2 = String.length s2 in\n",
    "    if l1 = l2 then s1 <= s2 else l1<l2;;\n",
    "    \n",
    "i_sort f [\"gopher\";\"duck\";\"fennec\"];;  "
   ]
  },
  {
   "cell_type": "markdown",
   "id": "5a8e70ed-8b8a-4e87-b4f5-9ed6b9217627",
   "metadata": {
    "tags": []
   },
   "source": [
    "### 5.2 Tail Recursive"
   ]
  },
  {
   "cell_type": "code",
   "execution_count": 83,
   "id": "490647e3",
   "metadata": {
    "tags": []
   },
   "outputs": [
    {
     "data": {
      "text/plain": [
       "val insert' : ('a -> 'a -> bool) -> 'a -> 'a list -> 'a list = <fun>\n"
      ]
     },
     "execution_count": 83,
     "metadata": {},
     "output_type": "execute_result"
    }
   ],
   "source": [
    "let insert' f x l =  (*Insert terminal*)\n",
    "    let rec aux (before,after) = match after with \n",
    "        [] -> List.rev (x::before)   (*Cando elemento a insertar e o mais grande*)\n",
    "      | h::t -> if f x h (* Comprobo ordenacion, formato curry*)\n",
    "                then List.rev_append before (x::after)  \n",
    "                else aux (h::before, t)\n",
    "    in\n",
    "        aux([],l)\n",
    "    ;;\n",
    "    \n",
    "(*let big_list = List.init 300_000 abs;;*)  (*Inicializo lista*)\n",
    "\n",
    "(*insert' (<=) 300_000 big_list;;*) (*A;adeo pero non se ve, se non daria overflow*)\n"
   ]
  },
  {
   "cell_type": "markdown",
   "id": "53b79902-bdf8-4358-a9fd-8e22918c1418",
   "metadata": {},
   "source": [
    "#### Isort Terminal"
   ]
  },
  {
   "cell_type": "code",
   "execution_count": 86,
   "id": "58179a90",
   "metadata": {
    "tags": []
   },
   "outputs": [
    {
     "data": {
      "text/plain": [
       "val i_sort' : ('a -> 'a -> bool) -> 'a list -> 'a list = <fun>\n"
      ]
     },
     "execution_count": 86,
     "metadata": {},
     "output_type": "execute_result"
    },
    {
     "data": {
      "text/plain": [
       "- : int list = [-1; 2; 5; 7; 9]\n"
      ]
     },
     "execution_count": 86,
     "metadata": {},
     "output_type": "execute_result"
    }
   ],
   "source": [
    "let i_sort' f l =  (* Tail Recursive *)\n",
    "    let rec aux ordenados = function \n",
    "        [] -> ordenados\n",
    "      | h::t -> aux (insert' f h ordenados) t\n",
    "    in aux [] l \n",
    "    ;;\n",
    "    \n",
    "i_sort' (<=) [5;2;7;9;-1];;    "
   ]
  },
  {
   "cell_type": "markdown",
   "id": "aa1200dc-a365-4a87-8836-3a68d126cc13",
   "metadata": {},
   "source": [
    "### Comparacion Tempos Ordenacion Terminal / Non Terminal"
   ]
  },
  {
   "cell_type": "code",
   "execution_count": null,
   "id": "5fd30425",
   "metadata": {
    "tags": []
   },
   "outputs": [],
   "source": [
    "let l1 = List.init 10_000 (function _ -> Random.int 1_000_000);;\n",
    "let l2 = List.init 20_000 (function _ -> Random.int 1_000_000);;\n",
    "let l4 = List.init 40_000 (function _ -> Random.int 1_000_000);;"
   ]
  },
  {
   "cell_type": "code",
   "execution_count": 88,
   "id": "2bd6baad",
   "metadata": {
    "tags": []
   },
   "outputs": [
    {
     "data": {
      "text/plain": [
       "- : float = 1.83158200000000093\n"
      ]
     },
     "execution_count": 88,
     "metadata": {},
     "output_type": "execute_result"
    }
   ],
   "source": [
    "crono (i_sort' (<=)) l1;;"
   ]
  },
  {
   "cell_type": "code",
   "execution_count": 89,
   "id": "eb1879b9",
   "metadata": {},
   "outputs": [
    {
     "data": {
      "text/plain": [
       "- : float = 1.22307400000000044\n"
      ]
     },
     "execution_count": 89,
     "metadata": {},
     "output_type": "execute_result"
    }
   ],
   "source": [
    "crono (i_sort (<=)) l1;;"
   ]
  },
  {
   "cell_type": "code",
   "execution_count": 90,
   "id": "7c3cf5ea",
   "metadata": {},
   "outputs": [
    {
     "data": {
      "text/plain": [
       "- : float = 8.407716\n"
      ]
     },
     "execution_count": 90,
     "metadata": {},
     "output_type": "execute_result"
    }
   ],
   "source": [
    "crono (i_sort' (<=)) l2;;"
   ]
  },
  {
   "cell_type": "code",
   "execution_count": 91,
   "id": "78184c51",
   "metadata": {},
   "outputs": [
    {
     "data": {
      "text/plain": [
       "- : float = 5.380357\n"
      ]
     },
     "execution_count": 91,
     "metadata": {},
     "output_type": "execute_result"
    }
   ],
   "source": [
    "crono (i_sort (<=)) l2;;"
   ]
  },
  {
   "cell_type": "markdown",
   "id": "95ac2fc2",
   "metadata": {},
   "source": [
    "### 5.3 Ordenacion por Fusion (+ info na P10)"
   ]
  },
  {
   "cell_type": "markdown",
   "id": "3fc6641b-4360-46fe-9977-c858a1dce319",
   "metadata": {},
   "source": [
    "#### 5.3.1 Divide "
   ]
  },
  {
   "cell_type": "markdown",
   "id": "f54c86b3-c72a-4c54-9374-4cc638dcd13c",
   "metadata": {},
   "source": [
    "(Not Tail Recursive)"
   ]
  },
  {
   "cell_type": "code",
   "execution_count": 95,
   "id": "93fdfd2e",
   "metadata": {
    "tags": []
   },
   "outputs": [
    {
     "data": {
      "text/plain": [
       "val divide : 'a list -> 'a list * 'a list = <fun>\n"
      ]
     },
     "execution_count": 95,
     "metadata": {},
     "output_type": "execute_result"
    },
    {
     "data": {
      "text/plain": [
       "- : string list * string list = ([\"a\"; \"i\"; \"u\"], [\"e\"; \"o\"])\n"
      ]
     },
     "execution_count": 95,
     "metadata": {},
     "output_type": "execute_result"
    }
   ],
   "source": [
    "(* divide: 'a list -> 'a list * 'a list *) (* Dividimos os elementos da lista, un para cada lado*)\n",
    "\n",
    "let rec divide = function (*Not Tail Recursive*)\n",
    "    h1::h2 ::t -> let t1, t2 = divide t in  (*Empezamos repartindo os elemento da cola *)    \n",
    "                                            (*Minimo ten que ter 2 elementos para mandar un para cada lado*)\n",
    "                 h1::t1, h2::t2   (*Ahora anadimos os que falta, que son os dous iniciales*)\n",
    "                 \n",
    "  | l -> l, [];;  (*Se non ten 2 elementos metemos o que temos nunha lista e a outra vacia*)              \n",
    "    \n",
    "    \n",
    "divide [\"a\";\"e\";\"i\";\"o\";\"u\"];;    "
   ]
  },
  {
   "cell_type": "markdown",
   "id": "7129e30f-0df1-4387-9ad9-feecac77ee8b",
   "metadata": {},
   "source": [
    "(Tail Recursive)"
   ]
  },
  {
   "cell_type": "code",
   "execution_count": 100,
   "id": "959e136d-9700-422a-ac6c-d16a0f5fa764",
   "metadata": {},
   "outputs": [
    {
     "data": {
      "text/plain": [
       "val divide' : 'a list -> 'a list * 'a list = <fun>\n"
      ]
     },
     "execution_count": 100,
     "metadata": {},
     "output_type": "execute_result"
    },
    {
     "data": {
      "text/plain": [
       "- : string list * string list = ([\"a\"; \"i\"; \"u\"], [\"e\"; \"o\"])\n"
      ]
     },
     "execution_count": 100,
     "metadata": {},
     "output_type": "execute_result"
    }
   ],
   "source": [
    "let divide' l =  (* Inserccion Par -> Derecha , Impar -> Izquierda*) (*Tail Recursive*)\n",
    "    let rec aux l left right pos = match l with \n",
    "        [] -> (List.rev_append right [],List.rev_append left [])\n",
    "      | h::t -> if pos mod 2 == 0 then aux t left (h::right) (pos+1) else aux t (h::left) right (pos+1)\n",
    "    in aux l [] [] 0;;\n",
    "    \n",
    "divide' [\"a\";\"e\";\"i\";\"o\";\"u\"];;"
   ]
  },
  {
   "cell_type": "markdown",
   "id": "024ad7ca-610b-41cf-97d4-7b4be1e80173",
   "metadata": {},
   "source": [
    "#### 5.3.2 Merge"
   ]
  },
  {
   "cell_type": "markdown",
   "id": "c3ba16d3-ae50-4778-974f-5b7b6451d111",
   "metadata": {},
   "source": [
    "(Not Tail Recursive)"
   ]
  },
  {
   "cell_type": "code",
   "execution_count": 99,
   "id": "7d878f79",
   "metadata": {
    "tags": []
   },
   "outputs": [
    {
     "data": {
      "text/plain": [
       "val merge : 'a list -> 'a list -> 'a list = <fun>\n"
      ]
     },
     "execution_count": 99,
     "metadata": {},
     "output_type": "execute_result"
    },
    {
     "data": {
      "text/plain": [
       "- : int list = [1; 2; 3; 4; 6; 10; 100; 1000]\n"
      ]
     },
     "execution_count": 99,
     "metadata": {},
     "output_type": "execute_result"
    }
   ],
   "source": [
    "let rec merge l1 l2 = match l1,l2 with (* Not Tail Recursive *)\n",
    "    [],l | l,[] ->  l    (*Podense unir casos asi, como cando no switch non pos break para usar o mismo para multiples casos*) \n",
    "   \n",
    "   | h1::t1, h2::t2 -> if h1<= h2 then h1:: merge t1 l2 \n",
    "                       else h2:: merge l1 t2;; \n",
    "                       \n",
    "merge [1;3;10;100] [2;4;6;1000];;                       \n",
    "    "
   ]
  },
  {
   "cell_type": "markdown",
   "id": "d0cebcf5-5f5c-45d9-bce3-e926cd2f61b2",
   "metadata": {},
   "source": [
    "(Tail Recursive)"
   ]
  },
  {
   "cell_type": "code",
   "execution_count": 103,
   "id": "bc55c710-2572-4546-bd78-4afd0970cc8e",
   "metadata": {},
   "outputs": [
    {
     "data": {
      "text/plain": [
       "val merge' : ('a -> 'a -> bool) -> 'a list * 'a list -> 'a list = <fun>\n"
      ]
     },
     "execution_count": 103,
     "metadata": {},
     "output_type": "execute_result"
    }
   ],
   "source": [
    "let merge' f (l,l1) = (*Tail Recursive*)\n",
    "    let rec aux f l l1 laux = match l,l1 with\n",
    "        [],a | a,[] -> List.rev_append laux  a \n",
    "    | h1::t1,h2::t2 -> if f h1 h2 then aux f t1 (h2::t2) (h1::laux)\n",
    "                       else aux f (h1::t1) t2 (h2::laux)\n",
    "    in aux f l l1 [];;    "
   ]
  },
  {
   "cell_type": "markdown",
   "id": "a34d0727-ff9d-460d-a5c0-1e510839aea9",
   "metadata": {},
   "source": [
    "#### 5.3.3 M_Sort"
   ]
  },
  {
   "cell_type": "markdown",
   "id": "1897a94a-a3c9-432a-a772-21b136a15b9d",
   "metadata": {},
   "source": [
    "(Tail Recursive)"
   ]
  },
  {
   "cell_type": "code",
   "execution_count": 109,
   "id": "f975dc85",
   "metadata": {
    "tags": []
   },
   "outputs": [
    {
     "data": {
      "text/plain": [
       "val m_sort : ('a -> 'a -> bool) -> 'a list -> 'a list = <fun>\n"
      ]
     },
     "execution_count": 109,
     "metadata": {},
     "output_type": "execute_result"
    },
    {
     "data": {
      "text/plain": [
       "- : int list = [9; 5; 3; 2; 0]\n"
      ]
     },
     "execution_count": 109,
     "metadata": {},
     "output_type": "execute_result"
    }
   ],
   "source": [
    "(*merge_sort: 'a list -> a' list *) \n",
    "\n",
    "let rec m_sort f l = match l with \n",
    "    [] -> []\n",
    "  | h::[] -> [h] (*ou [h] -> [h]*) (*Temos que meter este caso para listas con un unico elemento. *)\n",
    "  | l  ->  let l1,l2 = divide' l in \n",
    "           merge' f ((m_sort f l1),(m_sort f l2));;\n",
    "           \n",
    "           \n",
    "m_sort (>=) [9;3;5;0;2];;           \n",
    "           \n",
    "(*Nesta non me importa tanto a recursividade terminal, xa que por exemplo para unha lista de 1000 elementos partimos en 2 de 500... \n",
    "Para chegar a 0 temos que dividir unhas 10 veces a lista de 1000 elementos  == log2(10) son moi poucas, polo que non hai problema\n",
    "Para 1_000_000 \\log _2\\left(1000000\\right) solo necesitamos 20 niveles*)           "
   ]
  },
  {
   "cell_type": "markdown",
   "id": "151508b6-1d69-46e8-9363-6b4d3fe1b887",
   "metadata": {},
   "source": [
    "#### Random List Init"
   ]
  },
  {
   "cell_type": "code",
   "execution_count": 110,
   "id": "5b05f185",
   "metadata": {
    "tags": []
   },
   "outputs": [
    {
     "data": {
      "text/plain": [
       "- : int = 35178\n"
      ]
     },
     "execution_count": 110,
     "metadata": {},
     "output_type": "execute_result"
    }
   ],
   "source": [
    "Random.int 100_000;;"
   ]
  },
  {
   "cell_type": "code",
   "execution_count": 2,
   "id": "1077da39",
   "metadata": {
    "tags": []
   },
   "outputs": [
    {
     "data": {
      "text/plain": [
       "val randomList : int -> int list = <fun>\n"
      ]
     },
     "execution_count": 2,
     "metadata": {},
     "output_type": "execute_result"
    },
    {
     "data": {
      "text/plain": [
       "val crono : ('a -> 'b) -> 'a -> float = <fun>\n"
      ]
     },
     "execution_count": 2,
     "metadata": {},
     "output_type": "execute_result"
    },
    {
     "data": {
      "text/plain": [
       "- : float = 0.316580999999999946\n"
      ]
     },
     "execution_count": 2,
     "metadata": {},
     "output_type": "execute_result"
    }
   ],
   "source": [
    "let randomList n = List.init n (fun _ -> Random.int 1_000_000);;\n",
    "\n",
    "let crono f x = \n",
    "    let t = Sys.time () in \n",
    "    let _ = f x in \n",
    "    Sys.time () -. t ;;\n",
    "    \n",
    " \n",
    "crono randomList 1_000_000;;    "
   ]
  },
  {
   "cell_type": "markdown",
   "id": "530a2242",
   "metadata": {},
   "source": [
    "# 6. Options (Some,None..)"
   ]
  },
  {
   "cell_type": "markdown",
   "id": "f8779924-74b2-48e0-94b2-f1ef0baadbae",
   "metadata": {},
   "source": [
    "Imagine an Option being like a box.\n",
    "That box is either __Empty__ (`None`) or __there's something in it__ (`Some`) of type `'a`, it could be a Number, a Char ..... `type 'a option = None | Some of 'a`"
   ]
  },
  {
   "cell_type": "code",
   "execution_count": 11,
   "id": "7e133e88-78ee-4ceb-846a-3f96c234e6db",
   "metadata": {
    "tags": []
   },
   "outputs": [
    {
     "data": {
      "text/plain": [
       "- : 'a option = None\n"
      ]
     },
     "execution_count": 11,
     "metadata": {},
     "output_type": "execute_result"
    }
   ],
   "source": [
    "None;;"
   ]
  },
  {
   "cell_type": "code",
   "execution_count": 9,
   "id": "86b4dcae-5efb-43c0-bbe4-ebdaaef8b3c7",
   "metadata": {
    "tags": []
   },
   "outputs": [
    {
     "data": {
      "text/plain": [
       "- : int option = Some 1\n"
      ]
     },
     "execution_count": 9,
     "metadata": {},
     "output_type": "execute_result"
    }
   ],
   "source": [
    "Some 1;;"
   ]
  },
  {
   "cell_type": "markdown",
   "id": "047c72ee-fecb-4503-b0de-e028ed693434",
   "metadata": {},
   "source": [
    "## 6.1 Examples"
   ]
  },
  {
   "cell_type": "code",
   "execution_count": 21,
   "id": "e429cc94-7f15-4ac9-a522-d08004ff84e4",
   "metadata": {
    "tags": []
   },
   "outputs": [
    {
     "data": {
      "text/plain": [
       "val div : int -> int -> int option = <fun>\n"
      ]
     },
     "execution_count": 21,
     "metadata": {},
     "output_type": "execute_result"
    },
    {
     "data": {
      "text/plain": [
       "- : int option = None\n"
      ]
     },
     "execution_count": 21,
     "metadata": {},
     "output_type": "execute_result"
    },
    {
     "data": {
      "text/plain": [
       "- : int option = Some 7\n"
      ]
     },
     "execution_count": 21,
     "metadata": {},
     "output_type": "execute_result"
    }
   ],
   "source": [
    "let div x y = (* Divide without exposing to Exceptions *) \n",
    "    if y = 0 then None \n",
    "    else Some (x / y);;\n",
    "    \n",
    "div 7 0;;\n",
    "\n",
    "div 7 1;;"
   ]
  },
  {
   "cell_type": "markdown",
   "id": "7b70c199-30e4-4ace-b2f2-c501b7a62f1b",
   "metadata": {},
   "source": [
    "Example with `try with`. "
   ]
  },
  {
   "cell_type": "code",
   "execution_count": 23,
   "id": "e52c2a76-616e-46b8-8aa5-eca3bf6ade77",
   "metadata": {
    "tags": []
   },
   "outputs": [
    {
     "data": {
      "text/plain": [
       "val div : int -> int -> int option = <fun>\n"
      ]
     },
     "execution_count": 23,
     "metadata": {},
     "output_type": "execute_result"
    },
    {
     "data": {
      "text/plain": [
       "- : int option = None\n"
      ]
     },
     "execution_count": 23,
     "metadata": {},
     "output_type": "execute_result"
    },
    {
     "data": {
      "text/plain": [
       "- : int option = Some 7\n"
      ]
     },
     "execution_count": 23,
     "metadata": {},
     "output_type": "execute_result"
    }
   ],
   "source": [
    "let div x y = (* Outra forma de Division, pero con try with. *)\n",
    "    try        \n",
    "        Some (x / y)\n",
    "    with \n",
    "        Division_by_zero -> None;;\n",
    "        \n",
    "div 7 0;;\n",
    "\n",
    "div 7 1;;"
   ]
  },
  {
   "cell_type": "code",
   "execution_count": 28,
   "id": "a1e90ae5-34e4-4dd0-b704-bf2420d01164",
   "metadata": {
    "tags": []
   },
   "outputs": [
    {
     "data": {
      "text/plain": [
       "val hd' : 'a list -> 'a option = <fun>\n"
      ]
     },
     "execution_count": 28,
     "metadata": {},
     "output_type": "execute_result"
    },
    {
     "data": {
      "text/plain": [
       "- : 'a option = None\n"
      ]
     },
     "execution_count": 28,
     "metadata": {},
     "output_type": "execute_result"
    },
    {
     "data": {
      "text/plain": [
       "- : int option = Some 2\n"
      ]
     },
     "execution_count": 28,
     "metadata": {},
     "output_type": "execute_result"
    }
   ],
   "source": [
    "let hd' l = \n",
    "    try Some (List.hd l)\n",
    "    with Failure _ -> None;; (* Use _ as a wildcard*)\n",
    "\n",
    "hd' [];; (*The original `List.hd` would return <Exception: Failure \"hd\".>*)\n",
    "    \n",
    "hd' [2;3];;    "
   ]
  },
  {
   "cell_type": "markdown",
   "id": "20d451d7",
   "metadata": {},
   "source": [
    "# 7. Eight Queens Puzzle [More info @ Wikipedia](https://en.wikipedia.org/wiki/Eight_queens_puzzle) \n"
   ]
  },
  {
   "cell_type": "markdown",
   "id": "150f8e1f-f50a-4597-8321-a257de7c36a3",
   "metadata": {},
   "source": [
    "![Queens](./assets/Queens.png)"
   ]
  },
  {
   "cell_type": "markdown",
   "id": "224f5f5f-bbe1-4a30-8b52-4b8453c6c5e4",
   "metadata": {},
   "source": [
    "The eight queens puzzle has 92 distinct solutions. If solutions that differ only by the symmetry operations of rotation and reflection of the board are counted as one, __the puzzle has 12 solutions__."
   ]
  },
  {
   "cell_type": "code",
   "execution_count": 30,
   "id": "3eb8b3fb",
   "metadata": {
    "tags": []
   },
   "outputs": [
    {
     "data": {
      "text/plain": [
       "val come : int * int -> int * int -> bool = <fun>\n"
      ]
     },
     "execution_count": 30,
     "metadata": {},
     "output_type": "execute_result"
    }
   ],
   "source": [
    "(*Comproba si se comen*)\n",
    "let come (i1,j1) (i2,j2) = \n",
    "    i1=i2 || j1=j2 || abs(i1-i2)=abs(j1-j2);;  (*abs(i1-i2)=abs(j1-j2) DIAGONALES*)"
   ]
  },
  {
   "cell_type": "code",
   "execution_count": 41,
   "id": "4058950a",
   "metadata": {
    "tags": []
   },
   "outputs": [
    {
     "data": {
      "text/plain": [
       "val compatible : int * int -> (int * int) list -> bool = <fun>\n"
      ]
     },
     "execution_count": 41,
     "metadata": {},
     "output_type": "execute_result"
    }
   ],
   "source": [
    "(*Para saber si polo camino que vai e compatible. Comprobando o de comer*)\n",
    "(*\n",
    "current_p --> Posicion actual\n",
    "path -> lista cos seguintes movementos\n",
    "*)\n",
    "let rec compatible current_p path = match path with \n",
    "    [] -> true (*Si non ten a donde ir ==> Compatible *)\n",
    "  | h::t -> not (come current_p h) && compatible current_p t;;(* Remember Lazy Evaluation*)"
   ]
  },
  {
   "cell_type": "code",
   "execution_count": 56,
   "id": "eaa00c4c",
   "metadata": {
    "tags": []
   },
   "outputs": [
    {
     "data": {
      "text/plain": [
       "val reinas : int -> (int * int) list = <fun>\n"
      ]
     },
     "execution_count": 56,
     "metadata": {},
     "output_type": "execute_result"
    },
    {
     "data": {
      "text/plain": [
       "- : (int * int) list =\n",
       "[(8, 4); (7, 2); (6, 7); (5, 3); (4, 6); (3, 8); (2, 5); (1, 1)]\n"
      ]
     },
     "execution_count": 56,
     "metadata": {},
     "output_type": "execute_result"
    }
   ],
   "source": [
    "let reinas n =   (*Main Function*)\n",
    "    let rec completa camino (i,j) =\n",
    "        if i>n then camino                 (*Fila sobrepasa limite tablero*)\n",
    "        else if j>n then raise Not_found      (*Columna sobrepasa limite tablero*)\n",
    "        else if compatible (i,j) camino then \n",
    "             try \n",
    "                 completa ((i,j)::camino) (i+1,1)\n",
    "             with \n",
    "                 Not_found -> completa camino (i,j+1)\n",
    "             \n",
    "        else completa camino (i,j+1)  (*Si chegas aqui => Non sobrepasas limites tablero e \n",
    "                                        a tua posicion actual --> Non compatible *)     \n",
    "    in completa [] (1,1) (*Empezamos desde (1,1) *)\n",
    "    ;;\n",
    "\n",
    "reinas 8;;"
   ]
  },
  {
   "cell_type": "markdown",
   "id": "f5c6c1a9-e9f3-4efa-9aeb-48fc71993b86",
   "metadata": {},
   "source": [
    "![Solution](./assets/Sol_3_Queens.png)"
   ]
  },
  {
   "cell_type": "code",
   "execution_count": 62,
   "id": "b09eff1e",
   "metadata": {
    "tags": []
   },
   "outputs": [
    {
     "data": {
      "text/plain": [
       "val reinas : int -> (int * int) list option = <fun>\n"
      ]
     },
     "execution_count": 62,
     "metadata": {},
     "output_type": "execute_result"
    },
    {
     "data": {
      "text/plain": [
       "- : (int * int) list option =\n",
       "Some [(8, 4); (7, 2); (6, 7); (5, 3); (4, 6); (3, 8); (2, 5); (1, 1)]\n"
      ]
     },
     "execution_count": 62,
     "metadata": {},
     "output_type": "execute_result"
    },
    {
     "data": {
      "text/plain": [
       "- : (int * int) list option = Some []\n"
      ]
     },
     "execution_count": 62,
     "metadata": {},
     "output_type": "execute_result"
    }
   ],
   "source": [
    "let reinas n =   (*Alternativa usando Some None*) \n",
    "    let rec completa camino (i,j) =\n",
    "        if i>n then Some camino                 (*Fila sobrepasa limite tablero*)\n",
    "        else if j>n then None     (*Columna sobrepasa limite tablero*)\n",
    "        else if compatible (i,j) camino then\n",
    "                 match completa ((i,j)::camino) (i+1,1) with (*Cambia o try_with por match*)\n",
    "                     None -> completa camino (i,j+1)\n",
    "                   | Some  s -> Some s   \n",
    "               \n",
    "        else completa camino (i,j+1)     \n",
    "    in completa [] (1,1)\n",
    "    ;;\n",
    "\n",
    "reinas 8;; \n",
    "reinas 0;;"
   ]
  },
  {
   "cell_type": "markdown",
   "id": "2aff3f56",
   "metadata": {},
   "source": [
    "Outra forma"
   ]
  },
  {
   "cell_type": "code",
   "execution_count": 65,
   "id": "71c45a86-3718-4d0f-9ec8-85e813035ada",
   "metadata": {
    "tags": []
   },
   "outputs": [
    {
     "data": {
      "text/plain": [
       "val reinas : int -> (int * int) list list = <fun>\n"
      ]
     },
     "execution_count": 65,
     "metadata": {},
     "output_type": "execute_result"
    }
   ],
   "source": [
    "(*OUTRA FORMA*)\n",
    "let reinas n =   (* Esta forma danos todas as solucions posibles. 92 solucions*) \n",
    "    let rec completa camino (i,j) =\n",
    "        if i>n then [camino]                 (*Fila sobrepasa limite tablero*)\n",
    "        else if j>n then []     (*Columna sobrepasa limite tablero*)\n",
    "        else if compatible (i,j) camino \n",
    "             then completa ((i,j)::camino) (i+1,1) @  (*Intenta con i+1 e despois j+1, en caso de non encontrar*)\n",
    "                  completa camino (i,j+1)             (*inserta lista vacia, e decir nada*)\n",
    "                 \n",
    "        else completa camino (i,j+1)     \n",
    "    in completa [] (1,1)\n",
    "    ;;"
   ]
  },
  {
   "cell_type": "code",
   "execution_count": 63,
   "id": "c7cfdda6-578c-4363-9cfc-af8ada0d837c",
   "metadata": {
    "collapsed": true,
    "jupyter": {
     "outputs_hidden": true
    },
    "tags": []
   },
   "outputs": [
    {
     "data": {
      "text/plain": [
       "val print_solucion : ('a * int) list -> unit = <fun>\n"
      ]
     },
     "execution_count": 63,
     "metadata": {},
     "output_type": "execute_result"
    }
   ],
   "source": [
    "let rec print_solucion = function \n",
    "    [] -> print_newline ()\n",
    "  | (_,y)::t -> print_int y; print_char ' ';\n",
    "                print_solucion t;;"
   ]
  },
  {
   "cell_type": "code",
   "execution_count": null,
   "id": "4902548a-ac92-4a1d-8153-4bed6b95266f",
   "metadata": {
    "tags": []
   },
   "outputs": [],
   "source": [
    "let n_reinas n =    \n",
    "        let rec completa camino (i,j) =\n",
    "        if i>n then print_solucion camino           (*Fila sobrepasa limite tablero*)\n",
    "        else if j>n then ()     (*Columna sobrepasa limite tablero*)\n",
    "        else if compatible (i,j) camino \n",
    "             then (completa ((i,j)::camino) (i+1,1) ;  \n",
    "                  completa camino (i,j+1))\n",
    "        else completa camino (i,j+1)     \n",
    "    in completa [] (1,1)\n",
    "    ;;\n",
    "\n",
    "n_reinas 8;;"
   ]
  },
  {
   "cell_type": "markdown",
   "id": "79511813",
   "metadata": {},
   "source": [
    "\n",
    "# 8. Exceptions"
   ]
  },
  {
   "cell_type": "markdown",
   "id": "4cf6671e-c766-4973-a43d-f58c1e0a17ae",
   "metadata": {},
   "source": [
    "`raise` sirve para invocar errores"
   ]
  },
  {
   "cell_type": "code",
   "execution_count": 66,
   "id": "cdf0a34c",
   "metadata": {
    "tags": []
   },
   "outputs": [
    {
     "data": {
      "text/plain": [
       "- : exn = Division_by_zero\n"
      ]
     },
     "execution_count": 66,
     "metadata": {},
     "output_type": "execute_result"
    },
    {
     "data": {
      "text/plain": [
       "- : exn = Failure \"a\"\n"
      ]
     },
     "execution_count": 66,
     "metadata": {},
     "output_type": "execute_result"
    },
    {
     "data": {
      "text/plain": [
       "- : exn = Invalid_argument \"e\"\n"
      ]
     },
     "execution_count": 66,
     "metadata": {},
     "output_type": "execute_result"
    },
    {
     "data": {
      "text/plain": [
       "- : exn = Not_found\n"
      ]
     },
     "execution_count": 66,
     "metadata": {},
     "output_type": "execute_result"
    }
   ],
   "source": [
    "(*raise    Sirve para  errores*)\n",
    "(*EX: raise(Failure \"hd\")*)\n",
    "Division_by_zero;;\n",
    "\n",
    "Failure \"a\";;\n",
    "\n",
    "Invalid_argument \"e\";;\n",
    "\n",
    "Not_found;;"
   ]
  },
  {
   "cell_type": "markdown",
   "id": "469a2531-e1e7-4b48-ae22-a5e19cdbe3b1",
   "metadata": {},
   "source": [
    "Con `exception` creanse excepcions propias"
   ]
  },
  {
   "cell_type": "code",
   "execution_count": 68,
   "id": "25fc5cac",
   "metadata": {
    "tags": []
   },
   "outputs": [
    {
     "data": {
      "text/plain": [
       "exception Fib\n"
      ]
     },
     "execution_count": 68,
     "metadata": {},
     "output_type": "execute_result"
    }
   ],
   "source": [
    "exception Fib (*Asi se crean excepcions propias*)"
   ]
  },
  {
   "cell_type": "markdown",
   "id": "eef0a130-13ad-498d-aeff-f746d102f6a0",
   "metadata": {},
   "source": [
    "## 8.1 Try With"
   ]
  },
  {
   "cell_type": "code",
   "execution_count": 73,
   "id": "fde239fc",
   "metadata": {
    "tags": []
   },
   "outputs": [
    {
     "data": {
      "text/plain": [
       "val hd' : 'a list -> 'a option = <fun>\n"
      ]
     },
     "execution_count": 73,
     "metadata": {},
     "output_type": "execute_result"
    }
   ],
   "source": [
    "(*Interceptar excepcions*)\n",
    "let hd' l = \n",
    "    try Some (List.hd l)\n",
    "    with Failure _ -> None;;"
   ]
  },
  {
   "cell_type": "markdown",
   "id": "796db90f",
   "metadata": {},
   "source": [
    "# 9. Type Synonyms Definir Novos Tipos de Datos "
   ]
  },
  {
   "cell_type": "markdown",
   "id": "4328e570-0b5b-468b-9bd9-6ba7091895f3",
   "metadata": {},
   "source": [
    "A _type synonym_ is a new name for an already existing type."
   ]
  },
  {
   "cell_type": "code",
   "execution_count": 76,
   "id": "f59477f0",
   "metadata": {
    "tags": []
   },
   "outputs": [
    {
     "data": {
      "text/plain": [
       "type maybe_an_int = Some of int | None\n"
      ]
     },
     "execution_count": 76,
     "metadata": {},
     "output_type": "execute_result"
    }
   ],
   "source": [
    "type maybe_an_int = (*Pode ser un int ou non ser nada*)\n",
    "    Some of int \n",
    "  | None \n",
    ";;"
   ]
  },
  {
   "cell_type": "code",
   "execution_count": 77,
   "id": "e9445d22-dfde-4d1b-8423-e3d04e272e50",
   "metadata": {
    "tags": []
   },
   "outputs": [
    {
     "data": {
      "text/plain": [
       "type int_o_no = UnInt of int | NoInt\n"
      ]
     },
     "execution_count": 77,
     "metadata": {},
     "output_type": "execute_result"
    }
   ],
   "source": [
    "type int_o_no =\n",
    "    UnInt of int \n",
    "   | NoInt;;"
   ]
  },
  {
   "cell_type": "code",
   "execution_count": 78,
   "id": "c78f5c62-13bc-439c-b1ff-4dc407ab4171",
   "metadata": {
    "tags": []
   },
   "outputs": [
    {
     "data": {
      "text/plain": [
       "val div : int_o_no -> int_o_no -> int_o_no = <fun>\n"
      ]
     },
     "execution_count": 78,
     "metadata": {},
     "output_type": "execute_result"
    }
   ],
   "source": [
    "let div m n = match m,n with \n",
    "    UnInt x, UnInt 0 -> NoInt\n",
    "    | UnInt x, UnInt y -> UnInt (x / y)\n",
    "    | _ -> NoInt;;"
   ]
  },
  {
   "cell_type": "code",
   "execution_count": 82,
   "id": "56d24133-4489-4a35-b600-5ab0a31212e0",
   "metadata": {
    "tags": []
   },
   "outputs": [
    {
     "data": {
      "text/plain": [
       "val ( // ) : maybe_an_int -> maybe_an_int -> maybe_an_int = <fun>\n"
      ]
     },
     "execution_count": 82,
     "metadata": {},
     "output_type": "execute_result"
    }
   ],
   "source": [
    "let (//) x y = match (x,y) with  (*let (//) Creamos funcion tipo curry*)\n",
    "    Some _, Some 0 -> None \n",
    "  | Some a, Some b -> Some (a/b)\n",
    "  | _ -> None\n",
    ";;"
   ]
  },
  {
   "cell_type": "code",
   "execution_count": 81,
   "id": "ef32ead7-1424-4241-a1f7-c7dea66ce351",
   "metadata": {
    "tags": []
   },
   "outputs": [
    {
     "data": {
      "text/plain": [
       "- : maybe_an_int = None\n"
      ]
     },
     "execution_count": 81,
     "metadata": {},
     "output_type": "execute_result"
    }
   ],
   "source": [
    "Some 3 // Some 0;;"
   ]
  },
  {
   "cell_type": "code",
   "execution_count": 83,
   "id": "4c5260ad-bc3f-4099-a819-490d2416ec19",
   "metadata": {
    "tags": []
   },
   "outputs": [
    {
     "data": {
      "text/plain": [
       "- : maybe_an_int = Some 1\n"
      ]
     },
     "execution_count": 83,
     "metadata": {},
     "output_type": "execute_result"
    }
   ],
   "source": [
    "Some 7 // Some 3 // Some 2;; (*(7/3)/2*)"
   ]
  },
  {
   "cell_type": "code",
   "execution_count": 85,
   "id": "0095dbaf-833f-4aed-a1ae-12ff4652b750",
   "metadata": {
    "tags": []
   },
   "outputs": [
    {
     "data": {
      "text/plain": [
       "type booleano = V | F\n"
      ]
     },
     "execution_count": 85,
     "metadata": {},
     "output_type": "execute_result"
    },
    {
     "data": {
      "text/plain": [
       "- : booleano = V\n"
      ]
     },
     "execution_count": 85,
     "metadata": {},
     "output_type": "execute_result"
    },
    {
     "data": {
      "text/plain": [
       "- : booleano = F\n"
      ]
     },
     "execution_count": 85,
     "metadata": {},
     "output_type": "execute_result"
    }
   ],
   "source": [
    "type booleano = V | F;;\n",
    "\n",
    "V;;\n",
    "F;;"
   ]
  },
  {
   "cell_type": "code",
   "execution_count": 86,
   "id": "33554f37-e336-478a-97b9-b74a85675981",
   "metadata": {
    "tags": []
   },
   "outputs": [
    {
     "data": {
      "text/plain": [
       "val ( &&& ) : booleano -> booleano -> booleano = <fun>\n"
      ]
     },
     "execution_count": 86,
     "metadata": {},
     "output_type": "execute_result"
    },
    {
     "data": {
      "text/plain": [
       "- : booleano = F\n"
      ]
     },
     "execution_count": 86,
     "metadata": {},
     "output_type": "execute_result"
    }
   ],
   "source": [
    "let (&&&) b1 b2 = match b1,b2 with \n",
    "    V, V -> V\n",
    "  | _ -> F\n",
    ";;  \n",
    "\n",
    "F &&& V;;"
   ]
  },
  {
   "cell_type": "code",
   "execution_count": 87,
   "id": "79c290c9",
   "metadata": {
    "tags": []
   },
   "outputs": [
    {
     "data": {
      "text/plain": [
       "val ( ||| ) : booleano -> booleano -> booleano = <fun>\n"
      ]
     },
     "execution_count": 87,
     "metadata": {},
     "output_type": "execute_result"
    },
    {
     "data": {
      "text/plain": [
       "- : booleano = V\n"
      ]
     },
     "execution_count": 87,
     "metadata": {},
     "output_type": "execute_result"
    }
   ],
   "source": [
    "let (|||) b1 b2 = match b1,b2 with \n",
    "    V,_ | _,V -> V \n",
    "  | _ -> F\n",
    ";;  \n",
    "\n",
    "F ||| V;;"
   ]
  },
  {
   "cell_type": "markdown",
   "id": "f5634625",
   "metadata": {},
   "source": [
    "## 9.1 Variants"
   ]
  },
  {
   "cell_type": "markdown",
   "id": "619091a9-a711-4fce-b28d-1c8d1aa04ea2",
   "metadata": {},
   "source": [
    "A variant is a data type representing a value that is one of several possibilities. At their simplest, variants are like enums from C or Java"
   ]
  },
  {
   "cell_type": "code",
   "execution_count": 90,
   "id": "0c7d5e54-ab1b-47f1-803f-03a3900db778",
   "metadata": {
    "tags": []
   },
   "outputs": [
    {
     "data": {
      "text/plain": [
       "type palo = Trebol | Diamante | Corazon | Pica\n"
      ]
     },
     "execution_count": 90,
     "metadata": {},
     "output_type": "execute_result"
    },
    {
     "data": {
      "text/plain": [
       "- : palo = Trebol\n"
      ]
     },
     "execution_count": 90,
     "metadata": {},
     "output_type": "execute_result"
    }
   ],
   "source": [
    "(*Variants Page 78 Real World Ocaml*)\n",
    "\n",
    "type palo = Trebol | Diamante | Corazon | Pica;;\n",
    "\n",
    "Trebol;; (*Individual names of the values of a variant are called 'Constructors'*)"
   ]
  },
  {
   "cell_type": "code",
   "execution_count": 91,
   "id": "4a6ec0bd-8600-41b6-a3f4-c074b7fc45b1",
   "metadata": {
    "tags": []
   },
   "outputs": [
    {
     "data": {
      "text/plain": [
       "type palo =\n",
       "    Trebol of unit\n",
       "  | Diamante of unit\n",
       "  | Corazon of unit\n",
       "  | Pica of unit\n"
      ]
     },
     "execution_count": 91,
     "metadata": {},
     "output_type": "execute_result"
    },
    {
     "data": {
      "text/plain": [
       "- : palo = Pica ()\n"
      ]
     },
     "execution_count": 91,
     "metadata": {},
     "output_type": "execute_result"
    }
   ],
   "source": [
    "type palo = \n",
    "    Trebol  of unit\n",
    "  | Diamante of unit\n",
    "  | Corazon of unit\n",
    "  | Pica of unit;;\n",
    "  \n",
    "Pica();;  "
   ]
  },
  {
   "cell_type": "code",
   "execution_count": 92,
   "id": "7a87b4b2",
   "metadata": {
    "tags": []
   },
   "outputs": [
    {
     "data": {
      "text/plain": [
       "type otroint = Int of int\n"
      ]
     },
     "execution_count": 92,
     "metadata": {},
     "output_type": "execute_result"
    },
    {
     "data": {
      "text/plain": [
       "- : otroint = Int 3\n"
      ]
     },
     "execution_count": 92,
     "metadata": {},
     "output_type": "execute_result"
    }
   ],
   "source": [
    "type otroint = Int of int;;\n",
    "\n",
    "Int 3;;"
   ]
  },
  {
   "cell_type": "code",
   "execution_count": 100,
   "id": "2396b7e4",
   "metadata": {
    "tags": []
   },
   "outputs": [
    {
     "data": {
      "text/plain": [
       "type numero = I of int | F of float\n"
      ]
     },
     "execution_count": 100,
     "metadata": {},
     "output_type": "execute_result"
    },
    {
     "data": {
      "text/plain": [
       "- : numero = I 5\n"
      ]
     },
     "execution_count": 100,
     "metadata": {},
     "output_type": "execute_result"
    },
    {
     "data": {
      "text/plain": [
       "- : numero = F 5.1\n"
      ]
     },
     "execution_count": 100,
     "metadata": {},
     "output_type": "execute_result"
    }
   ],
   "source": [
    "type numero = I of int | F of float;;\n",
    "\n",
    "I 5;;\n",
    "F 5.1;;"
   ]
  },
  {
   "cell_type": "code",
   "execution_count": 103,
   "id": "5a12ad2d",
   "metadata": {
    "tags": []
   },
   "outputs": [
    {
     "data": {
      "text/plain": [
       "val ( ++ ) : numero -> numero -> numero = <fun>\n"
      ]
     },
     "execution_count": 103,
     "metadata": {},
     "output_type": "execute_result"
    },
    {
     "data": {
      "text/plain": [
       "- : numero = F 8.4\n"
      ]
     },
     "execution_count": 103,
     "metadata": {},
     "output_type": "execute_result"
    }
   ],
   "source": [
    "let rec (++) n1 n2 = match n1,n2 with (*Podemos facer unha funcion que sume Ints e Floats*)\n",
    "    I x, I y -> I (x + y)\n",
    "  | F x, F y -> F (x +. y)\n",
    "  | I x, F y -> F (float x +. y) (*\"Casteo o int a float\"*)\n",
    "  | _ -> n2 ++ n1\n",
    ";;  \n",
    "\n",
    "F 3.4 ++ I 5;;  "
   ]
  },
  {
   "cell_type": "code",
   "execution_count": 122,
   "id": "a7cc15a3-a374-41c3-ad0a-597e4a23d1f1",
   "metadata": {
    "tags": []
   },
   "outputs": [
    {
     "data": {
      "text/plain": [
       "type nat = O | S of nat\n"
      ]
     },
     "execution_count": 122,
     "metadata": {},
     "output_type": "execute_result"
    },
    {
     "data": {
      "text/plain": [
       "- : nat = O\n"
      ]
     },
     "execution_count": 122,
     "metadata": {},
     "output_type": "execute_result"
    },
    {
     "data": {
      "text/plain": [
       "- : nat = S O\n"
      ]
     },
     "execution_count": 122,
     "metadata": {},
     "output_type": "execute_result"
    }
   ],
   "source": [
    "type nat = O | S of nat;; (** O -> Represenata o 0 (cero)*) (*S entendo que representa 1*)\n",
    "\n",
    "O;;\n",
    "\n",
    "S O;;"
   ]
  },
  {
   "cell_type": "code",
   "execution_count": 116,
   "id": "351a8470-49b2-4b92-9e58-494ffa41105c",
   "metadata": {
    "tags": []
   },
   "outputs": [
    {
     "data": {
      "text/plain": [
       "val sum : nat -> nat -> nat = <fun>\n"
      ]
     },
     "execution_count": 116,
     "metadata": {},
     "output_type": "execute_result"
    }
   ],
   "source": [
    "let rec sum m n = match n with (* Tail Recursive *)\n",
    "    O -> m (*Caso base*) (*Representa o 0*)\n",
    "| S i -> sum (S m) i ;;"
   ]
  },
  {
   "cell_type": "code",
   "execution_count": 123,
   "id": "0b05284c-7cfc-4404-9dd6-242893364116",
   "metadata": {
    "tags": []
   },
   "outputs": [
    {
     "data": {
      "text/plain": [
       "val uno : nat = S O\n"
      ]
     },
     "execution_count": 123,
     "metadata": {},
     "output_type": "execute_result"
    }
   ],
   "source": [
    "let uno = S O;; (*O 1 esta formado por O (cero) e S*)"
   ]
  },
  {
   "cell_type": "code",
   "execution_count": 118,
   "id": "42f5eb7c-6e5e-40b1-98f9-fd7468c76357",
   "metadata": {
    "tags": []
   },
   "outputs": [
    {
     "data": {
      "text/plain": [
       "val dos : nat = S (S O)\n"
      ]
     },
     "execution_count": 118,
     "metadata": {},
     "output_type": "execute_result"
    }
   ],
   "source": [
    "let dos = S uno;;"
   ]
  },
  {
   "cell_type": "code",
   "execution_count": 120,
   "id": "0ebc116a-c465-4569-98cd-8efceaa01bb9",
   "metadata": {
    "tags": []
   },
   "outputs": [
    {
     "data": {
      "text/plain": [
       "val tres : nat = S (S (S O))\n"
      ]
     },
     "execution_count": 120,
     "metadata": {},
     "output_type": "execute_result"
    }
   ],
   "source": [
    "let tres = S dos;;"
   ]
  },
  {
   "cell_type": "code",
   "execution_count": 121,
   "id": "672133bc-d81e-479c-a33e-cdb64043d21d",
   "metadata": {
    "tags": []
   },
   "outputs": [
    {
     "data": {
      "text/plain": [
       "- : nat = S (S (S (S (S O))))\n"
      ]
     },
     "execution_count": 121,
     "metadata": {},
     "output_type": "execute_result"
    }
   ],
   "source": [
    "sum dos tres;; (* Funciona, obtemos 5 S *)"
   ]
  },
  {
   "cell_type": "markdown",
   "id": "29e52dca-7e28-4901-86be-99c87532ae01",
   "metadata": {},
   "source": [
    "## 9.2 Definicion Parametrizada"
   ]
  },
  {
   "cell_type": "code",
   "execution_count": 124,
   "id": "137d2234-7631-4394-bca9-d039686b1dfe",
   "metadata": {
    "tags": []
   },
   "outputs": [
    {
     "data": {
      "text/plain": [
       "type 'a quiza = Algo of 'a | Nada\n"
      ]
     },
     "execution_count": 124,
     "metadata": {},
     "output_type": "execute_result"
    },
    {
     "data": {
      "text/plain": [
       "- : int quiza = Algo 5\n"
      ]
     },
     "execution_count": 124,
     "metadata": {},
     "output_type": "execute_result"
    },
    {
     "data": {
      "text/plain": [
       "- : 'a quiza = Nada\n"
      ]
     },
     "execution_count": 124,
     "metadata": {},
     "output_type": "execute_result"
    }
   ],
   "source": [
    "type 'a quiza = (* Definicion de tipo parametrizada *)\n",
    "    Algo of 'a\n",
    "  | Nada;;\n",
    "  \n",
    "Algo 5;;  \n",
    "Nada;;"
   ]
  },
  {
   "cell_type": "code",
   "execution_count": 126,
   "id": "0b6fce90-e005-437e-8060-826e5bcb71f0",
   "metadata": {
    "tags": []
   },
   "outputs": [
    {
     "data": {
      "text/plain": [
       "type 'a option = Some of 'a | None\n"
      ]
     },
     "execution_count": 126,
     "metadata": {},
     "output_type": "execute_result"
    }
   ],
   "source": [
    "(* Seria como o de arriba pero asi definimos unha infinidade de datos *)\n",
    "type 'a option = (* Asi se define o option en OCAML *) (* Seria como o de arriba pero asi definimos unha infinidade de datos *)\n",
    "    Some of 'a \n",
    "  | None;;"
   ]
  },
  {
   "cell_type": "markdown",
   "id": "143101b7-af29-4e16-8389-5b3c2e19be44",
   "metadata": {},
   "source": [
    "# 10. Trees "
   ]
  },
  {
   "cell_type": "markdown",
   "id": "91551f24-b94e-4e4e-8d6c-587e1df732d8",
   "metadata": {},
   "source": [
    "## 10.1 Binary Tree"
   ]
  },
  {
   "cell_type": "markdown",
   "id": "b2eed5e4-e867-445c-bca6-6ac340dace61",
   "metadata": {},
   "source": [
    "![Tree](./assets/tree.png)"
   ]
  },
  {
   "cell_type": "markdown",
   "id": "8d18b424-ded8-46c2-a49c-d9f437535459",
   "metadata": {},
   "source": [
    "### 10.1.1 Definition"
   ]
  },
  {
   "cell_type": "code",
   "execution_count": 264,
   "id": "e035d8f4-641c-4426-a420-1cf0dc3ec083",
   "metadata": {
    "tags": []
   },
   "outputs": [
    {
     "data": {
      "text/plain": [
       "type 'a tree = V | N of 'a * 'a tree * 'a tree\n"
      ]
     },
     "execution_count": 264,
     "metadata": {},
     "output_type": "execute_result"
    }
   ],
   "source": [
    "(* Funcion *)\n",
    "type 'a tree = (* Se nos fixamos na estructura, esto e un arbol. V -> Raiz, N-> Fillos *)\n",
    "    V \n",
    "  | N of 'a * 'a tree * 'a tree;;"
   ]
  },
  {
   "cell_type": "code",
   "execution_count": 265,
   "id": "74ed9c9e-dabb-4241-9dd5-448f1341a4dd",
   "metadata": {
    "tags": []
   },
   "outputs": [
    {
     "data": {
      "text/plain": [
       "- : 'a tree = V\n"
      ]
     },
     "execution_count": 265,
     "metadata": {},
     "output_type": "execute_result"
    },
    {
     "data": {
      "text/plain": [
       "- : int tree = N (5, V, V)\n"
      ]
     },
     "execution_count": 265,
     "metadata": {},
     "output_type": "execute_result"
    }
   ],
   "source": [
    "V;; \n",
    "N (5,V,V);;"
   ]
  },
  {
   "cell_type": "code",
   "execution_count": 266,
   "id": "10a5c955-402d-4714-9dca-377caa163f2d",
   "metadata": {
    "tags": []
   },
   "outputs": [
    {
     "data": {
      "text/plain": [
       "val t5 : int tree = N (5, V, V)\n"
      ]
     },
     "execution_count": 266,
     "metadata": {},
     "output_type": "execute_result"
    },
    {
     "data": {
      "text/plain": [
       "val t6 : int tree = N (6, V, V)\n"
      ]
     },
     "execution_count": 266,
     "metadata": {},
     "output_type": "execute_result"
    },
    {
     "data": {
      "text/plain": [
       "- : int tree = N (8, N (5, V, V), N (6, V, V))\n"
      ]
     },
     "execution_count": 266,
     "metadata": {},
     "output_type": "execute_result"
    }
   ],
   "source": [
    "(*MiniExemplo*)\n",
    "let t5 = N (5,V,V);;\n",
    "let t6 = N (6,V,V);;\n",
    "\n",
    "N (8,t5,t6);;\n",
    "(*-------------------*)"
   ]
  },
  {
   "cell_type": "code",
   "execution_count": 267,
   "id": "0eff9cc8-d95f-4019-923b-67d52fa7a1e9",
   "metadata": {
    "tags": []
   },
   "outputs": [
    {
     "data": {
      "text/plain": [
       "val h : 'a -> 'a tree = <fun>\n"
      ]
     },
     "execution_count": 267,
     "metadata": {},
     "output_type": "execute_result"
    }
   ],
   "source": [
    "let h x = N (x,V,V);; (* Arbol Hoja , solo ten raiz *)"
   ]
  },
  {
   "cell_type": "code",
   "execution_count": 268,
   "id": "706b0d4a-7ed3-4193-96a1-2f27d2676407",
   "metadata": {
    "tags": []
   },
   "outputs": [
    {
     "data": {
      "text/plain": [
       "val t6 : int tree = N (6, N (5, V, V), N (11, V, V))\n"
      ]
     },
     "execution_count": 268,
     "metadata": {},
     "output_type": "execute_result"
    },
    {
     "data": {
      "text/plain": [
       "val t9 : int tree = N (9, N (4, V, V), V)\n"
      ]
     },
     "execution_count": 268,
     "metadata": {},
     "output_type": "execute_result"
    },
    {
     "data": {
      "text/plain": [
       "val t5 : int tree = N (5, V, N (9, N (4, V, V), V))\n"
      ]
     },
     "execution_count": 268,
     "metadata": {},
     "output_type": "execute_result"
    },
    {
     "data": {
      "text/plain": [
       "val t7 : int tree = N (7, N (2, V, V), N (6, N (5, V, V), N (11, V, V)))\n"
      ]
     },
     "execution_count": 268,
     "metadata": {},
     "output_type": "execute_result"
    },
    {
     "data": {
      "text/plain": [
       "val t : int tree =\n",
       "  N (2, N (7, N (2, V, V), N (6, N (5, V, V), N (11, V, V))),\n",
       "   N (5, V, N (9, N (4, V, V), V)))\n"
      ]
     },
     "execution_count": 268,
     "metadata": {},
     "output_type": "execute_result"
    }
   ],
   "source": [
    "(*Representamos o arbol da imaxe*)\n",
    "let t6 = N (6, h 5,h 11);;\n",
    "let t9 = N (9,h 4,V);;\n",
    "let t5 = N (5,V,t9);;\n",
    "let t7 = N (7,h 2,t6);;\n",
    "let t  = N (2,t7,t5);;"
   ]
  },
  {
   "cell_type": "markdown",
   "id": "b540b6a4-950f-42fc-80b0-c39caa4cc594",
   "metadata": {},
   "source": [
    "### 10.1.2 Functions "
   ]
  },
  {
   "cell_type": "markdown",
   "id": "41c6b56f-f6c9-4a31-817f-cd746f79dcec",
   "metadata": {},
   "source": [
    "#### 10.1.2.1 Num_Nodos"
   ]
  },
  {
   "cell_type": "code",
   "execution_count": 269,
   "id": "b3b84b29-e858-4584-a62d-6da151b5c0e0",
   "metadata": {
    "tags": []
   },
   "outputs": [
    {
     "data": {
      "text/plain": [
       "val n_nodos : 'a tree -> int = <fun>\n"
      ]
     },
     "execution_count": 269,
     "metadata": {},
     "output_type": "execute_result"
    },
    {
     "data": {
      "text/plain": [
       "- : int = 9\n"
      ]
     },
     "execution_count": 269,
     "metadata": {},
     "output_type": "execute_result"
    }
   ],
   "source": [
    "let rec n_nodos = function (* Calculo Nodos *)\n",
    "    V -> 0\n",
    "  | N (r,i,d) -> 1 + n_nodos i + n_nodos d;;        (*r-> raiz, i -> izquierda , d-> derecha*) \n",
    "  \n",
    "n_nodos t;; "
   ]
  },
  {
   "cell_type": "markdown",
   "id": "9177bb29-24de-4a59-bb9c-ce48bb1f357c",
   "metadata": {},
   "source": [
    "#### 10.1.2.2 Altura"
   ]
  },
  {
   "cell_type": "code",
   "execution_count": 270,
   "id": "cd3e5d85-c1db-4a0b-81e9-85379ff7b721",
   "metadata": {
    "tags": []
   },
   "outputs": [
    {
     "data": {
      "text/plain": [
       "val altura : 'a tree -> int = <fun>\n"
      ]
     },
     "execution_count": 270,
     "metadata": {},
     "output_type": "execute_result"
    },
    {
     "data": {
      "text/plain": [
       "- : int = 4\n"
      ]
     },
     "execution_count": 270,
     "metadata": {},
     "output_type": "execute_result"
    }
   ],
   "source": [
    "let rec altura = function (* Calculo altura de arbol *)\n",
    "    V -> 0 (*Arbol vacio*)\n",
    "  | N (r,i,d) -> 1 + max (altura i) (altura d);; \n",
    "  \n",
    "altura t;;  "
   ]
  },
  {
   "cell_type": "markdown",
   "id": "eae055d0-9303-4d43-9a69-58bab7367f2f",
   "metadata": {},
   "source": [
    "#### 10.1.2.3 Recorridos"
   ]
  },
  {
   "cell_type": "code",
   "execution_count": 271,
   "id": "e707c2f8-5d04-454d-bdbb-278d9242ce43",
   "metadata": {
    "tags": []
   },
   "outputs": [
    {
     "data": {
      "text/plain": [
       "val preorder : 'a tree -> 'a list = <fun>\n"
      ]
     },
     "execution_count": 271,
     "metadata": {},
     "output_type": "execute_result"
    },
    {
     "data": {
      "text/plain": [
       "- : int list = [2; 7; 2; 6; 5; 11; 5; 9; 4]\n"
      ]
     },
     "execution_count": 271,
     "metadata": {},
     "output_type": "execute_result"
    }
   ],
   "source": [
    "let rec preorder = function (*Root,Left,Right*)\n",
    "    V -> []\n",
    "  | N (r,i,d) -> r:: (preorder i @ preorder d);;\n",
    "  \n",
    "preorder t;;  "
   ]
  },
  {
   "cell_type": "code",
   "execution_count": 272,
   "id": "07e4c2d9-b4d4-40a3-8dac-57c9ee5e4df5",
   "metadata": {},
   "outputs": [
    {
     "data": {
      "text/plain": [
       "val postorder : 'a tree -> 'a list = <fun>\n"
      ]
     },
     "execution_count": 272,
     "metadata": {},
     "output_type": "execute_result"
    },
    {
     "data": {
      "text/plain": [
       "- : int list = [2; 5; 11; 6; 7; 4; 9; 5; 2]\n"
      ]
     },
     "execution_count": 272,
     "metadata": {},
     "output_type": "execute_result"
    }
   ],
   "source": [
    "let rec postorder = function (*Left,Right,Root*)\n",
    "    V -> []\n",
    "  | N (r,i,d) -> (postorder i @ postorder d) @ [r] ;;\n",
    "  \n",
    "postorder t;;"
   ]
  },
  {
   "cell_type": "code",
   "execution_count": 273,
   "id": "380649a7-ebe1-4e93-852b-d9ecf94d533a",
   "metadata": {},
   "outputs": [
    {
     "data": {
      "text/plain": [
       "val inorder : 'a tree -> 'a list = <fun>\n"
      ]
     },
     "execution_count": 273,
     "metadata": {},
     "output_type": "execute_result"
    },
    {
     "data": {
      "text/plain": [
       "- : int list = [2; 7; 5; 6; 11; 2; 5; 4; 9]\n"
      ]
     },
     "execution_count": 273,
     "metadata": {},
     "output_type": "execute_result"
    }
   ],
   "source": [
    "let rec inorder = function (*Left,Root,Right*)\n",
    "      V -> []\n",
    "    | N (v, l, r) -> inorder l @ (v :: inorder r);;\n",
    "    \n",
    "inorder t;;    "
   ]
  },
  {
   "cell_type": "markdown",
   "id": "6100bca3-0519-421f-ac38-1420da2adc48",
   "metadata": {},
   "source": [
    "#### 10.1.2.4 Leaf"
   ]
  },
  {
   "cell_type": "code",
   "execution_count": 274,
   "id": "d4ac6909-dc16-479e-8429-6a6ed7873da3",
   "metadata": {
    "tags": []
   },
   "outputs": [
    {
     "data": {
      "text/plain": [
       "val leaf : 'a tree -> 'a list = <fun>\n"
      ]
     },
     "execution_count": 274,
     "metadata": {},
     "output_type": "execute_result"
    },
    {
     "data": {
      "text/plain": [
       "- : int list = [2; 5; 11; 4]\n"
      ]
     },
     "execution_count": 274,
     "metadata": {},
     "output_type": "execute_result"
    }
   ],
   "source": [
    "let rec leaf = function \n",
    "    V -> [] (*Vacio*)\n",
    "  | N (r,V,V) -> [r] (*Arbol con solo raiz*)  \n",
    "  | N (r,i,d) -> leaf i @ leaf d;; \n",
    "  \n",
    "leaf t;;  "
   ]
  },
  {
   "cell_type": "markdown",
   "id": "0acc0626-f9c7-4f14-b647-148ce9edf3c7",
   "metadata": {},
   "source": [
    "#### 10.1.2.5 Mirror"
   ]
  },
  {
   "cell_type": "code",
   "execution_count": 276,
   "id": "bf9e6485-30e3-4cb4-b984-6eb293c55c13",
   "metadata": {
    "tags": []
   },
   "outputs": [
    {
     "data": {
      "text/plain": [
       "val mirror : 'a tree -> 'a tree = <fun>\n"
      ]
     },
     "execution_count": 276,
     "metadata": {},
     "output_type": "execute_result"
    }
   ],
   "source": [
    "let rec mirror = function \n",
    "    V  -> V\n",
    "  | N (r,i,d) -> N (r,mirror d, mirror i);;"
   ]
  },
  {
   "cell_type": "code",
   "execution_count": 277,
   "id": "a549c56d-9db8-4d74-92b4-dcbeb81b88c0",
   "metadata": {},
   "outputs": [
    {
     "data": {
      "text/plain": [
       "- : int tree =\n",
       "N (2, N (7, N (2, V, V), N (6, N (5, V, V), N (11, V, V))),\n",
       " N (5, V, N (9, N (4, V, V), V)))\n"
      ]
     },
     "execution_count": 277,
     "metadata": {},
     "output_type": "execute_result"
    }
   ],
   "source": [
    "t;;"
   ]
  },
  {
   "cell_type": "code",
   "execution_count": 278,
   "id": "cc9951b3-3102-4af4-b7e5-11314ce98413",
   "metadata": {},
   "outputs": [
    {
     "data": {
      "text/plain": [
       "- : int tree =\n",
       "N (2, N (5, N (9, V, N (4, V, V)), V),\n",
       " N (7, N (6, N (11, V, V), N (5, V, V)), N (2, V, V)))\n"
      ]
     },
     "execution_count": 278,
     "metadata": {},
     "output_type": "execute_result"
    }
   ],
   "source": [
    "mirror t;;"
   ]
  },
  {
   "cell_type": "markdown",
   "id": "cbf78826-d64d-4c80-8c03-861faef1e147",
   "metadata": {},
   "source": [
    "## 10.2 Strict Binary Tree"
   ]
  },
  {
   "cell_type": "markdown",
   "id": "482ab05b-0096-4008-8ca2-339ea18febcc",
   "metadata": {},
   "source": [
    "![Strict_Tree](./assets/strict_tree.png)"
   ]
  },
  {
   "cell_type": "markdown",
   "id": "03b24c37-cae8-433a-9d42-85a4a9b3f485",
   "metadata": {},
   "source": [
    "A binary tree in which __every node has either 0 or two children__ is called strict binary tree. "
   ]
  },
  {
   "cell_type": "markdown",
   "id": "1b7a702d-19e4-4091-bc1f-d2a9f350a71a",
   "metadata": {},
   "source": [
    "### 10.2.1 Definition"
   ]
  },
  {
   "cell_type": "code",
   "execution_count": 229,
   "id": "2497e63b-dad9-4107-815c-f7bcd714b7d7",
   "metadata": {
    "tags": []
   },
   "outputs": [
    {
     "data": {
      "text/plain": [
       "type 'a sttree = SL of 'a | SN of 'a * 'a sttree * 'a sttree\n"
      ]
     },
     "execution_count": 229,
     "metadata": {},
     "output_type": "execute_result"
    }
   ],
   "source": [
    "(*Intentamos redefinir leaf para arboles strictos *)\n",
    "type 'a sttree =\n",
    "    SL of 'a                           (* SL -> Leaf *)\n",
    "  | SN of 'a * 'a sttree * 'a sttree;; (* SN -> Node *)"
   ]
  },
  {
   "cell_type": "code",
   "execution_count": 230,
   "id": "03d04fb0-7053-46a8-a230-8dbbc33f959a",
   "metadata": {},
   "outputs": [
    {
     "data": {
      "text/plain": [
       "- : char sttree = SL 'F'\n"
      ]
     },
     "execution_count": 230,
     "metadata": {},
     "output_type": "execute_result"
    }
   ],
   "source": [
    "SL 'F';;"
   ]
  },
  {
   "cell_type": "code",
   "execution_count": 231,
   "id": "97a00647-b50e-4831-b2a0-56cd76d740c2",
   "metadata": {},
   "outputs": [
    {
     "data": {
      "text/plain": [
       "- : char sttree = SN ('A', SL 'F', SL 'F')\n"
      ]
     },
     "execution_count": 231,
     "metadata": {},
     "output_type": "execute_result"
    }
   ],
   "source": [
    "SN ('A',SL 'F',SL 'F');;"
   ]
  },
  {
   "cell_type": "code",
   "execution_count": 237,
   "id": "adae0261-eedb-4cd0-8a2e-ece9878ba488",
   "metadata": {},
   "outputs": [
    {
     "data": {
      "text/plain": [
       "val tD : char sttree = SN ('D', SL 'F', SL 'G')\n"
      ]
     },
     "execution_count": 237,
     "metadata": {},
     "output_type": "execute_result"
    },
    {
     "data": {
      "text/plain": [
       "val tC : char sttree = SN ('C', SN ('D', SL 'F', SL 'G'), SL 'E')\n"
      ]
     },
     "execution_count": 237,
     "metadata": {},
     "output_type": "execute_result"
    },
    {
     "data": {
      "text/plain": [
       "val st : char sttree =\n",
       "  SN ('A', SL 'B', SN ('C', SN ('D', SL 'F', SL 'G'), SL 'E'))\n"
      ]
     },
     "execution_count": 237,
     "metadata": {},
     "output_type": "execute_result"
    }
   ],
   "source": [
    "(*Representamos o arbol da imaxe*)\n",
    "let tD = SN ('D',SL 'F',SL 'G');;\n",
    "\n",
    "let tC = SN ('C',tD,SL 'E');;\n",
    "\n",
    "let st  = SN ('A',SL 'B',tC);;"
   ]
  },
  {
   "cell_type": "markdown",
   "id": "465d2462-6ea3-4e13-8ac9-c29be09d2c28",
   "metadata": {},
   "source": [
    "### 10.2.2 Funcions "
   ]
  },
  {
   "cell_type": "markdown",
   "id": "7d359135-7b41-4594-b99a-b6b6e60ad803",
   "metadata": {},
   "source": [
    "#### 10.2.2.1 Leaves"
   ]
  },
  {
   "cell_type": "code",
   "execution_count": 301,
   "id": "3b215cea-1ec7-4956-8ae0-2429de9e333a",
   "metadata": {
    "tags": []
   },
   "outputs": [
    {
     "data": {
      "text/plain": [
       "val leaves : 'a sttree -> 'a list = <fun>\n"
      ]
     },
     "execution_count": 301,
     "metadata": {},
     "output_type": "execute_result"
    },
    {
     "data": {
      "text/plain": [
       "- : char list = ['B'; 'F'; 'G'; 'E']\n"
      ]
     },
     "execution_count": 301,
     "metadata": {},
     "output_type": "execute_result"
    }
   ],
   "source": [
    "let rec leaves = function (*List of leaves*)\n",
    "    SL r -> [r]\n",
    "  | SN (_,i,d) -> leaves i @ leaves d;; \n",
    "  \n",
    "leaves st;;  "
   ]
  },
  {
   "cell_type": "markdown",
   "id": "3a93035a-13b1-4d28-9869-ff825e55aa35",
   "metadata": {},
   "source": [
    "#### 10.2.2.2 Tree_of_Sttree"
   ]
  },
  {
   "cell_type": "markdown",
   "id": "d04b52a1-50d1-4aba-9597-56f685b6ab48",
   "metadata": {},
   "source": [
    "`tree_of_sttree` converts `'a sttree` onto `'a tree`"
   ]
  },
  {
   "cell_type": "code",
   "execution_count": 239,
   "id": "448c86e0-eeae-4f3c-ac21-2f091f123dc8",
   "metadata": {
    "tags": []
   },
   "outputs": [
    {
     "data": {
      "text/plain": [
       "val tree_of_sttree : 'a sttree -> 'a tree = <fun>\n"
      ]
     },
     "execution_count": 239,
     "metadata": {},
     "output_type": "execute_result"
    }
   ],
   "source": [
    "let rec tree_of_sttree = function (* Converts 'a sttree to binary tree (10.1.1) *)\n",
    "    SL x -> N (x,V,V)\n",
    "  | SN (r,i,d) -> N (r,tree_of_sttree i, tree_of_sttree d);;"
   ]
  },
  {
   "cell_type": "code",
   "execution_count": 244,
   "id": "c552a987-3dd1-413f-9dc4-5c0516483621",
   "metadata": {
    "tags": []
   },
   "outputs": [
    {
     "data": {
      "text/plain": [
       "- : char sttree =\n",
       "SN ('A', SL 'B', SN ('C', SN ('D', SL 'F', SL 'G'), SL 'E'))\n"
      ]
     },
     "execution_count": 244,
     "metadata": {},
     "output_type": "execute_result"
    }
   ],
   "source": [
    "st;; (* Devolve como sttree *)"
   ]
  },
  {
   "cell_type": "code",
   "execution_count": 245,
   "id": "23883b2d-de77-4d89-b17d-fc922ba2e244",
   "metadata": {
    "tags": []
   },
   "outputs": [
    {
     "data": {
      "text/plain": [
       "val tt : char tree =\n",
       "  N ('A', N ('B', V, V),\n",
       "   N ('C', N ('D', N ('F', V, V), N ('G', V, V)), N ('E', V, V)))\n"
      ]
     },
     "execution_count": 245,
     "metadata": {},
     "output_type": "execute_result"
    }
   ],
   "source": [
    "let tt = tree_of_sttree st;; (* Devolve como tree *)"
   ]
  },
  {
   "cell_type": "markdown",
   "id": "794f60c1-3a69-4195-9805-09ca320ae7e9",
   "metadata": {},
   "source": [
    "#### 10.2.2.3 Sttree_of_Tree"
   ]
  },
  {
   "cell_type": "code",
   "execution_count": 254,
   "id": "cbd0374e-c772-4eaf-8897-d430a8bc3ecb",
   "metadata": {
    "tags": []
   },
   "outputs": [
    {
     "data": {
      "text/plain": [
       "val sttree_of_tree : 'a tree -> 'a sttree = <fun>\n"
      ]
     },
     "execution_count": 254,
     "metadata": {},
     "output_type": "execute_result"
    }
   ],
   "source": [
    "let rec sttree_of_tree = function \n",
    "    V -> raise (Invalid_argument \"sttree_of_tree\")\n",
    "  | N (r,V,V) -> SL r\n",
    "  | N (r,i,d) -> SN (r,sttree_of_tree i, sttree_of_tree d);;"
   ]
  },
  {
   "cell_type": "code",
   "execution_count": 255,
   "id": "09c7cef8-52dc-488c-86a2-0a80b67923cc",
   "metadata": {
    "tags": []
   },
   "outputs": [
    {
     "data": {
      "text/plain": [
       "- : char sttree =\n",
       "SN ('A', SL 'B', SN ('C', SN ('D', SL 'F', SL 'G'), SL 'E'))\n"
      ]
     },
     "execution_count": 255,
     "metadata": {},
     "output_type": "execute_result"
    }
   ],
   "source": [
    "sttree_of_tree tt;;"
   ]
  },
  {
   "cell_type": "markdown",
   "id": "a223deda-9fe7-4bb0-a88e-81b83b7b2804",
   "metadata": {
    "jupyter": {
     "outputs_hidden": true
    },
    "tags": []
   },
   "source": [
    "#### 10.2.2.4 Mirror"
   ]
  },
  {
   "cell_type": "code",
   "execution_count": 256,
   "id": "44d404a9-6c96-4396-8a19-5355201233bc",
   "metadata": {
    "tags": []
   },
   "outputs": [
    {
     "data": {
      "text/plain": [
       "val mirror : 'a sttree -> 'a sttree = <fun>\n"
      ]
     },
     "execution_count": 256,
     "metadata": {},
     "output_type": "execute_result"
    }
   ],
   "source": [
    "let rec mirror = function \n",
    "    SL r -> SL r \n",
    "  | SN (r,i,d) -> SN (r,mirror d, mirror i);;"
   ]
  },
  {
   "cell_type": "code",
   "execution_count": 251,
   "id": "cb50f7f8-bd22-45c1-a7d5-77b55534a10f",
   "metadata": {
    "tags": []
   },
   "outputs": [
    {
     "data": {
      "text/plain": [
       "- : char sttree =\n",
       "SN ('A', SL 'B', SN ('C', SN ('D', SL 'F', SL 'G'), SL 'E'))\n"
      ]
     },
     "execution_count": 251,
     "metadata": {},
     "output_type": "execute_result"
    }
   ],
   "source": [
    "st;;"
   ]
  },
  {
   "cell_type": "code",
   "execution_count": 257,
   "id": "766252ab-7a51-4f21-83ef-04ad59f226b9",
   "metadata": {
    "tags": []
   },
   "outputs": [
    {
     "data": {
      "text/plain": [
       "- : char sttree =\n",
       "SN ('A', SN ('C', SL 'E', SN ('D', SL 'G', SL 'F')), SL 'B')\n"
      ]
     },
     "execution_count": 257,
     "metadata": {},
     "output_type": "execute_result"
    }
   ],
   "source": [
    "mirror st;;  "
   ]
  },
  {
   "cell_type": "markdown",
   "id": "76a8c7cc-1f94-4b31-8732-9c8236f51ac0",
   "metadata": {},
   "source": [
    "## 10.3 Spanning Tree (w/ Lists)"
   ]
  },
  {
   "cell_type": "markdown",
   "id": "5f9535f8-4f57-4a33-9a23-a5d067acc5ec",
   "metadata": {},
   "source": [
    "![Tree](./assets/tree_f.png)"
   ]
  },
  {
   "cell_type": "markdown",
   "id": "61917d4a-d384-48b7-9ab7-2a52e0120071",
   "metadata": {},
   "source": [
    "### 10.3.1 Definition"
   ]
  },
  {
   "cell_type": "code",
   "execution_count": 288,
   "id": "99cc5329-adaf-4aa2-8a30-200a30daa06d",
   "metadata": {
    "tags": []
   },
   "outputs": [
    {
     "data": {
      "text/plain": [
       "type 'a gtree = Gt of 'a * 'a gtree list\n"
      ]
     },
     "execution_count": 288,
     "metadata": {},
     "output_type": "execute_result"
    }
   ],
   "source": [
    "type 'a gtree =  (*Constructor*)\n",
    "    Gt of 'a * 'a gtree list ;;"
   ]
  },
  {
   "cell_type": "code",
   "execution_count": 289,
   "id": "77c2ff47-176a-4855-a4c4-dd84bc8aab74",
   "metadata": {
    "tags": []
   },
   "outputs": [
    {
     "data": {
      "text/plain": [
       "val s : 'a -> 'a gtree = <fun>\n"
      ]
     },
     "execution_count": 289,
     "metadata": {},
     "output_type": "execute_result"
    }
   ],
   "source": [
    "let s x = Gt (x,[]);; (* Leaf Constructor \"Shortcut\" *)"
   ]
  },
  {
   "cell_type": "code",
   "execution_count": 290,
   "id": "a0ee5637-9c04-444f-b413-18abdca6db4c",
   "metadata": {
    "tags": []
   },
   "outputs": [
    {
     "data": {
      "text/plain": [
       "val t5 : int gtree = Gt (5, [Gt (9, [Gt (4, [])])])\n"
      ]
     },
     "execution_count": 290,
     "metadata": {},
     "output_type": "execute_result"
    },
    {
     "data": {
      "text/plain": [
       "val t7 : int gtree =\n",
       "  Gt (7, [Gt (2, []); Gt (10, []); Gt (6, [Gt (5, []); Gt (11, [])])])\n"
      ]
     },
     "execution_count": 290,
     "metadata": {},
     "output_type": "execute_result"
    },
    {
     "data": {
      "text/plain": [
       "val t : int gtree =\n",
       "  Gt (2,\n",
       "   [Gt (7, [Gt (2, []); Gt (10, []); Gt (6, [Gt (5, []); Gt (11, [])])]);\n",
       "    Gt (5, [Gt (9, [Gt (4, [])])])])\n"
      ]
     },
     "execution_count": 290,
     "metadata": {},
     "output_type": "execute_result"
    }
   ],
   "source": [
    "(* Tree from Image*)\n",
    "let t5 = Gt (5, [Gt (9,[s 4])]);;\n",
    "\n",
    "let t7 = Gt (7,[s 2;s 10; Gt (6,[s 5;s 11])]);;\n",
    "\n",
    "let t = Gt (2 ,[t7;t5]);; "
   ]
  },
  {
   "cell_type": "markdown",
   "id": "28c6edf2-29e4-45b0-adac-b14ca83245ed",
   "metadata": {},
   "source": [
    "### 10.3.2 Functions"
   ]
  },
  {
   "cell_type": "markdown",
   "id": "7f4d1751-f8aa-44d7-84a9-850970c989ab",
   "metadata": {},
   "source": [
    "#### 10.3.2.1 Height"
   ]
  },
  {
   "cell_type": "code",
   "execution_count": 303,
   "id": "bfbac0be-08d0-4ae6-b6df-e2756b85ad35",
   "metadata": {},
   "outputs": [
    {
     "data": {
      "text/plain": [
       "val height : 'a gtree -> int = <fun>\n"
      ]
     },
     "execution_count": 303,
     "metadata": {},
     "output_type": "execute_result"
    },
    {
     "data": {
      "text/plain": [
       "- : int = 4\n"
      ]
     },
     "execution_count": 303,
     "metadata": {},
     "output_type": "execute_result"
    }
   ],
   "source": [
    "let rec height = function \n",
    "      Gt (_,[]) -> 1\n",
    "    | Gt (v,h::t) -> 1 - (List.length (h::t) - 1) + max (height h) (height (Gt(v,t)));; \n",
    "\n",
    "height t;;"
   ]
  },
  {
   "cell_type": "markdown",
   "id": "fe1e1d2b-8f0d-49aa-8a86-017f08a552d6",
   "metadata": {},
   "source": [
    "#### 10.3.2.2 Num_Nodes"
   ]
  },
  {
   "cell_type": "code",
   "execution_count": 291,
   "id": "38f76e1f-6b1c-4b40-b48e-0445f23e478f",
   "metadata": {
    "tags": []
   },
   "outputs": [
    {
     "data": {
      "text/plain": [
       "val n_nodos_gt : 'a gtree -> int = <fun>\n"
      ]
     },
     "execution_count": 291,
     "metadata": {},
     "output_type": "execute_result"
    },
    {
     "data": {
      "text/plain": [
       "- : int = 10\n"
      ]
     },
     "execution_count": 291,
     "metadata": {},
     "output_type": "execute_result"
    }
   ],
   "source": [
    "let rec n_nodos_gt (Gt (r,l)) = List.fold_left (+) 1 (List.map n_nodos_gt l);; (* Contador numero de nodos *)\n",
    "\n",
    "n_nodos_gt t;;"
   ]
  },
  {
   "cell_type": "code",
   "execution_count": 293,
   "id": "888cd15e-7bf1-442c-8437-811899f50b5e",
   "metadata": {
    "tags": []
   },
   "outputs": [
    {
     "data": {
      "text/plain": [
       "val nnodos : 'a gtree -> int = <fun>\n"
      ]
     },
     "execution_count": 293,
     "metadata": {},
     "output_type": "execute_result"
    },
    {
     "data": {
      "text/plain": [
       "- : int = 10\n"
      ]
     },
     "execution_count": 293,
     "metadata": {},
     "output_type": "execute_result"
    }
   ],
   "source": [
    "let rec nnodos = function (* Outra forma de contar os nodos *) \n",
    "    Gt (_,[]) -> 1\n",
    "  | Gt (m,h::t) -> nnodos h + nnodos (Gt (m,t));;\n",
    "  \n",
    "n_nodos_gt t;;"
   ]
  },
  {
   "cell_type": "markdown",
   "id": "d1f42208-323a-4ae6-ba8e-616899ec82ed",
   "metadata": {},
   "source": [
    "#### 10.3.2.3 Leaves"
   ]
  },
  {
   "cell_type": "code",
   "execution_count": 302,
   "id": "dba20508-8161-4345-87bc-7dcfc178cacb",
   "metadata": {},
   "outputs": [
    {
     "data": {
      "text/plain": [
       "val leaves : 'a gtree -> 'a list = <fun>\n"
      ]
     },
     "execution_count": 302,
     "metadata": {},
     "output_type": "execute_result"
    },
    {
     "data": {
      "text/plain": [
       "- : int list = [2; 10; 5; 11; 4]\n"
      ]
     },
     "execution_count": 302,
     "metadata": {},
     "output_type": "execute_result"
    }
   ],
   "source": [
    "let rec leaves tree = match tree with \n",
    "  Gt (a,[]) -> [a]\n",
    "| Gt (a,h::t) ->if List.length (h::t) == 1 then leaves h else leaves h @ leaves (Gt (a,t))   \n",
    ";;\n",
    "\n",
    "leaves t;;"
   ]
  },
  {
   "cell_type": "markdown",
   "id": "ae5e0ffa-0902-4325-9464-535bc6d0968f",
   "metadata": {},
   "source": [
    "#### 10.3.2.4 Mirror"
   ]
  },
  {
   "cell_type": "code",
   "execution_count": 304,
   "id": "3dcda3b4-e79a-448e-9443-989b3f5550ec",
   "metadata": {},
   "outputs": [],
   "source": [
    "let rec mirror tree = match tree with \n",
    "      Gt (a,[]) -> Gt (a,[])\n",
    "    | Gt (a,l) -> Gt (a, List.rev_append (List.map (mirror) l) []);;\n",
    "    "
   ]
  },
  {
   "cell_type": "code",
   "execution_count": 305,
   "id": "04ddd9c6-042a-4600-9fec-eef9c86e6cf8",
   "metadata": {},
   "outputs": [
    {
     "data": {
      "text/plain": [
       "- : int gtree =\n",
       "Gt (2,\n",
       " [Gt (7, [Gt (2, []); Gt (10, []); Gt (6, [Gt (5, []); Gt (11, [])])]);\n",
       "  Gt (5, [Gt (9, [Gt (4, [])])])])\n"
      ]
     },
     "execution_count": 305,
     "metadata": {},
     "output_type": "execute_result"
    }
   ],
   "source": [
    "t;;    "
   ]
  },
  {
   "cell_type": "code",
   "execution_count": 306,
   "id": "502d033d-3bd7-4d46-bcbf-e4411a47454a",
   "metadata": {},
   "outputs": [
    {
     "data": {
      "text/plain": [
       "- : int gtree =\n",
       "Gt (2,\n",
       " [Gt (5, [Gt (9, [Gt (4, [])])]);\n",
       "  Gt (7, [Gt (6, [Gt (11, []); Gt (5, [])]); Gt (10, []); Gt (2, [])])])\n"
      ]
     },
     "execution_count": 306,
     "metadata": {},
     "output_type": "execute_result"
    }
   ],
   "source": [
    "mirror t;;"
   ]
  },
  {
   "cell_type": "markdown",
   "id": "896b26d3-4f9a-437e-aba4-29609c620f47",
   "metadata": {},
   "source": [
    "#### 10.3.2.3 Traverse"
   ]
  },
  {
   "cell_type": "markdown",
   "id": "3a37d45c-6e22-4776-8ac3-f1f0dc7b2989",
   "metadata": {},
   "source": [
    "##### 10.3.2.3.1 Breadth First"
   ]
  },
  {
   "cell_type": "code",
   "execution_count": 298,
   "id": "d3124158-9aa4-440f-9038-f8fb917d4203",
   "metadata": {
    "tags": []
   },
   "outputs": [
    {
     "data": {
      "text/plain": [
       "val anchura : 'a gtree -> 'a list = <fun>\n"
      ]
     },
     "execution_count": 298,
     "metadata": {},
     "output_type": "execute_result"
    },
    {
     "data": {
      "text/plain": [
       "- : int list = [2; 7; 5; 2; 10; 6; 9; 5; 11; 4]\n"
      ]
     },
     "execution_count": 298,
     "metadata": {},
     "output_type": "execute_result"
    }
   ],
   "source": [
    "let anchura (Gt (r,l)) =  (* acc -> acomulador *) (* r-> raiz l -> lista ramas *) (*Tail Recursive*)\n",
    "    let rec aux acc  next = match next with \n",
    "        [] -> List.rev_append acc []\n",
    "       | Gt (r1,l1)::t -> aux (r1::acc) (t @ l1) \n",
    "    in aux [r] l;;  \n",
    "    \n",
    "anchura t;;    "
   ]
  },
  {
   "cell_type": "code",
   "execution_count": 297,
   "id": "31af0679-43ef-48a2-95d4-e4d85307080c",
   "metadata": {
    "tags": []
   },
   "outputs": [
    {
     "data": {
      "text/plain": [
       "val anchura : 'a gtree -> 'a list = <fun>\n"
      ]
     },
     "execution_count": 297,
     "metadata": {},
     "output_type": "execute_result"
    },
    {
     "data": {
      "text/plain": [
       "- : int list = [2; 7; 5; 2; 10; 6; 9; 5; 11; 4]\n"
      ]
     },
     "execution_count": 297,
     "metadata": {},
     "output_type": "execute_result"
    }
   ],
   "source": [
    "let rec anchura = function  (* Not Tail *)\n",
    "    Gt (r,[]) -> [r]\n",
    "  | Gt (r, Gt (r1,l1)::t) -> r :: anchura (Gt (r1,t @ l1));; \n",
    "  \n",
    "anchura t;;    "
   ]
  },
  {
   "cell_type": "markdown",
   "id": "3c1e304c-da3d-4b79-b5b7-a502df972d8b",
   "metadata": {},
   "source": [
    "##### 10.3.2.3.2 Preorder"
   ]
  },
  {
   "cell_type": "code",
   "execution_count": 307,
   "id": "8b7872f1-4e73-4d01-b3f8-3917c335d804",
   "metadata": {},
   "outputs": [
    {
     "data": {
      "text/plain": [
       "val preorder : 'a gtree -> 'a list = <fun>\n"
      ]
     },
     "execution_count": 307,
     "metadata": {},
     "output_type": "execute_result"
    }
   ],
   "source": [
    "let rec preorder = \n",
    "  let rec aux l_out l_in = match l_in with \n",
    "    [] -> l_out \n",
    "  | h::t -> aux (l_out @ (preorder h)) t \n",
    "in\n",
    "  function \n",
    "    Gt (a,[]) -> [a]\n",
    "  | Gt (a,l) -> a::aux [] l\n",
    "  ;;  "
   ]
  },
  {
   "cell_type": "code",
   "execution_count": 308,
   "id": "be77977f-4582-430e-9185-3882bbfc2bbe",
   "metadata": {},
   "outputs": [
    {
     "data": {
      "text/plain": [
       "- : int list = [2; 7; 2; 10; 6; 5; 11; 5; 9; 4]\n"
      ]
     },
     "execution_count": 308,
     "metadata": {},
     "output_type": "execute_result"
    }
   ],
   "source": [
    "preorder t;;"
   ]
  },
  {
   "cell_type": "markdown",
   "id": "c883746e-6c4c-4d43-8f61-dec0067064ea",
   "metadata": {},
   "source": [
    "##### 10.3.2.3.3 Postorder"
   ]
  },
  {
   "cell_type": "code",
   "execution_count": 311,
   "id": "c269a4ee-62f2-466a-a401-03b502d07569",
   "metadata": {},
   "outputs": [
    {
     "data": {
      "text/plain": [
       "val postorder : 'a gtree -> 'a list = <fun>\n"
      ]
     },
     "execution_count": 311,
     "metadata": {},
     "output_type": "execute_result"
    }
   ],
   "source": [
    "let rec postorder tree = match tree with \n",
    "      Gt (a,[]) -> [a]\n",
    "    | Gt (a,h::t) ->  postorder h @ postorder (Gt (a,t))\n",
    ";;    "
   ]
  },
  {
   "cell_type": "code",
   "execution_count": 310,
   "id": "167294f1-dc53-4651-b0b7-d35279ba48d5",
   "metadata": {},
   "outputs": [
    {
     "data": {
      "text/plain": [
       "- : int list = [2; 10; 5; 11; 6; 7; 4; 9; 5; 2]\n"
      ]
     },
     "execution_count": 310,
     "metadata": {},
     "output_type": "execute_result"
    }
   ],
   "source": [
    "postorder t;;"
   ]
  },
  {
   "cell_type": "markdown",
   "id": "2ac4b77d-0fd5-4914-8092-b5f291fb344c",
   "metadata": {},
   "source": [
    "# 11. Programacion Imperativa"
   ]
  },
  {
   "cell_type": "markdown",
   "id": "8cec9a08-587b-4388-a68e-6c6bd35dfad7",
   "metadata": {},
   "source": [
    "### Estes de output non se mostran ben en Jupyter. Metolle o flush sempre por culpa do Jupyter"
   ]
  },
  {
   "cell_type": "markdown",
   "id": "f5e4e5a9-ed58-48b1-9f46-d7f933a49023",
   "metadata": {},
   "source": [
    "## [Todo sobre entrada e salida en Documentacion OCaml](https://ocaml.org/api/Stdlib.html)"
   ]
  },
  {
   "cell_type": "markdown",
   "id": "ba4de323-037c-4c39-9097-59fd4afc42d9",
   "metadata": {},
   "source": [
    "## 11.1 I/O"
   ]
  },
  {
   "cell_type": "code",
   "execution_count": 341,
   "id": "64cdf267-7fac-4904-8d94-b243ff8b5433",
   "metadata": {
    "tags": []
   },
   "outputs": [
    {
     "data": {
      "text/plain": [
       "- : unit = ()\n"
      ]
     },
     "execution_count": 341,
     "metadata": {},
     "output_type": "execute_result"
    },
    {
     "data": {
      "text/plain": [
       "- : unit = ()\n"
      ]
     },
     "execution_count": 341,
     "metadata": {},
     "output_type": "execute_result"
    }
   ],
   "source": [
    "output_char stdout 'X';; (*Expected --> *)  (* X- : unit = () *) "
   ]
  },
  {
   "cell_type": "code",
   "execution_count": 342,
   "id": "283aeea3-10a6-4fad-88ae-26fde59332f1",
   "metadata": {
    "tags": []
   },
   "outputs": [
    {
     "data": {
      "text/plain": [
       "- : unit = ()\n"
      ]
     },
     "execution_count": 342,
     "metadata": {},
     "output_type": "execute_result"
    },
    {
     "data": {
      "text/plain": [
       "- : unit = ()\n"
      ]
     },
     "execution_count": 342,
     "metadata": {},
     "output_type": "execute_result"
    }
   ],
   "source": [
    "output_char stdout 'A'; output_char stdout 'B';; (* AB- : unit = () *) "
   ]
  },
  {
   "cell_type": "code",
   "execution_count": 313,
   "id": "325d0b4a-e2ce-45d7-9e39-7d0ef6aa37ec",
   "metadata": {},
   "outputs": [
    {
     "data": {
      "text/plain": [
       "val print_char : char -> unit = <fun>\n"
      ]
     },
     "execution_count": 313,
     "metadata": {},
     "output_type": "execute_result"
    }
   ],
   "source": [
    "let print_char c = output_char stdout c;; (*Correcto*)"
   ]
  },
  {
   "cell_type": "code",
   "execution_count": 315,
   "id": "6aa5d4d7-2166-4c32-9222-1293fee82c12",
   "metadata": {},
   "outputs": [
    {
     "data": {
      "text/plain": [
       "- : char = 'a'\n"
      ]
     },
     "execution_count": 315,
     "metadata": {},
     "output_type": "execute_result"
    }
   ],
   "source": [
    "\"hola\".[3];; (* Devolve a letra 3 *) (*Visto ao principio de todo dos apuntes *)"
   ]
  },
  {
   "cell_type": "code",
   "execution_count": 317,
   "id": "148ceaa9-2f19-4425-af41-71fc64e03a5f",
   "metadata": {
    "tags": []
   },
   "outputs": [
    {
     "data": {
      "text/plain": [
       "val output_string : out_channel -> string -> unit = <fun>\n"
      ]
     },
     "execution_count": 317,
     "metadata": {},
     "output_type": "execute_result"
    }
   ],
   "source": [
    "let output_string canal s = (*Salida Correcta*) (*Deletrea a entrada mostrandoa polo canal indicado *)\n",
    "    let n = String.length s in\n",
    "    let rec loop i =\n",
    "        if i>= n then ()\n",
    "        else (output_char canal s.[i]; loop (i+1))\n",
    "    in \n",
    "        loop 0;;"
   ]
  },
  {
   "cell_type": "code",
   "execution_count": 343,
   "id": "eb6e65b3-0df3-40a1-a2f3-0ad975463c25",
   "metadata": {
    "tags": []
   },
   "outputs": [
    {
     "data": {
      "text/plain": [
       "- : unit = ()\n"
      ]
     },
     "execution_count": 343,
     "metadata": {},
     "output_type": "execute_result"
    },
    {
     "data": {
      "text/plain": [
       "- : unit = ()\n"
      ]
     },
     "execution_count": 343,
     "metadata": {},
     "output_type": "execute_result"
    }
   ],
   "source": [
    "output_string stdout \"hola\";; (*Expected --> hola- : unit = ()*)"
   ]
  },
  {
   "cell_type": "code",
   "execution_count": 319,
   "id": "4c3c039d-01be-4b3f-b54a-dc07828c1583",
   "metadata": {
    "tags": []
   },
   "outputs": [
    {
     "data": {
      "text/plain": [
       "val print_string : string -> unit = <fun>\n"
      ]
     },
     "execution_count": 319,
     "metadata": {},
     "output_type": "execute_result"
    }
   ],
   "source": [
    "let print_string s = output_string stdout s;; (* Mostrar por stdout un String *)"
   ]
  },
  {
   "cell_type": "code",
   "execution_count": 325,
   "id": "296c00ce-a37f-4c93-a5b9-25c1696455b3",
   "metadata": {},
   "outputs": [
    {
     "data": {
      "text/plain": [
       "val print_endline : string -> unit = <fun>\n"
      ]
     },
     "execution_count": 325,
     "metadata": {},
     "output_type": "execute_result"
    },
    {
     "data": {
      "text/plain": [
       "val print_newline : unit -> unit = <fun>\n"
      ]
     },
     "execution_count": 325,
     "metadata": {},
     "output_type": "execute_result"
    }
   ],
   "source": [
    "let print_endline s = print_string (s ^ \"\\n\");; (* Mostrar por stdout un String metendo un salto de linea  *)\n",
    "\n",
    "let print_newline () = print_endline \"\";; (*O mismo*)\n",
    "\n",
    "(*\n",
    "utop # print_endline \"Hi!\";;\n",
    "Hi!\n",
    "- : unit = ()\n",
    "*)"
   ]
  },
  {
   "cell_type": "markdown",
   "id": "7a7f1aac-0c3d-4c87-88a2-73a94f383e52",
   "metadata": {},
   "source": [
    "`input_line` : Read characters from the given input channel, until a newline character is encountered. Return the string of all characters read, without the newline character at the end."
   ]
  },
  {
   "cell_type": "code",
   "execution_count": 326,
   "id": "ed8e355c-d499-4033-bd0a-0091f37184db",
   "metadata": {},
   "outputs": [
    {
     "data": {
      "text/plain": [
       "val read_line : unit -> string = <fun>\n"
      ]
     },
     "execution_count": 326,
     "metadata": {},
     "output_type": "execute_result"
    }
   ],
   "source": [
    "let read_line () = input_line stdin;; (*Lee caracteres por entrada ata encontrar un \\n *)"
   ]
  },
  {
   "cell_type": "markdown",
   "id": "82174441-1cfd-4149-a1a6-77049928ac1c",
   "metadata": {},
   "source": [
    "Volcar a archivos. Como en C"
   ]
  },
  {
   "cell_type": "markdown",
   "id": "6a221631-e89f-46d0-83f6-ebf6692415a8",
   "metadata": {},
   "source": [
    "### 11.1.1 Open_Out"
   ]
  },
  {
   "cell_type": "markdown",
   "id": "eed725c1-eb4d-46a1-bafd-05c2a88cd432",
   "metadata": {},
   "source": [
    "`open_out`:Open the named file for writing, and return a new output channel on that file, positioned at the beginning of the file. The file is truncated to zero length if it already exists. It is created if it does not already exists."
   ]
  },
  {
   "cell_type": "code",
   "execution_count": 327,
   "id": "e40762ea-49be-4b60-a023-c51aabbc4ba3",
   "metadata": {},
   "outputs": [
    {
     "data": {
      "text/plain": [
       "- : string -> out_channel = <fun>\n"
      ]
     },
     "execution_count": 327,
     "metadata": {},
     "output_type": "execute_result"
    }
   ],
   "source": [
    "open_out ;;"
   ]
  },
  {
   "cell_type": "markdown",
   "id": "80dea0d6-1c03-4ebd-9cc0-ed2963252333",
   "metadata": {},
   "source": [
    "`close_out`: Close the given channel, flushing all buffered write operations. __Output functions raise a Sys_error exception when they are applied to a closed output channel, except close_out and flush, which do nothing when applied to an already closed channel__. Note that close_out may raise Sys_error if the operating system signals an error when flushing or closing."
   ]
  },
  {
   "cell_type": "code",
   "execution_count": 331,
   "id": "07cccd0b-e912-4c3a-943e-b43a35722dbb",
   "metadata": {},
   "outputs": [
    {
     "data": {
      "text/plain": [
       "- : out_channel -> unit = <fun>\n"
      ]
     },
     "execution_count": 331,
     "metadata": {},
     "output_type": "execute_result"
    }
   ],
   "source": [
    "close_out;;"
   ]
  },
  {
   "cell_type": "markdown",
   "id": "8a2e0837-14f0-4c4e-87a9-c9831469fb6a",
   "metadata": {},
   "source": [
    "`flush`:\n",
    "Flush the buffer associated with the given output channel, performing all pending writes on that channel. Interactive programs must be careful about flushing standard output and standard error at the right time.\n"
   ]
  },
  {
   "cell_type": "code",
   "execution_count": 354,
   "id": "56a1ad35-c6f3-45a8-9c5b-73005917653b",
   "metadata": {},
   "outputs": [
    {
     "data": {
      "text/plain": [
       "val s : out_channel = <abstr>\n"
      ]
     },
     "execution_count": 354,
     "metadata": {},
     "output_type": "execute_result"
    },
    {
     "data": {
      "text/plain": [
       "- : unit = ()\n"
      ]
     },
     "execution_count": 354,
     "metadata": {},
     "output_type": "execute_result"
    },
    {
     "data": {
      "text/plain": [
       "- : unit = ()\n"
      ]
     },
     "execution_count": 354,
     "metadata": {},
     "output_type": "execute_result"
    },
    {
     "data": {
      "text/plain": [
       "- : unit = ()\n"
      ]
     },
     "execution_count": 354,
     "metadata": {},
     "output_type": "execute_result"
    }
   ],
   "source": [
    "let s = open_out \"../Test/prueba.txt\";; (*Creou archivo prueba e meteu a salida dentro *)\n",
    "output_string s \"ABCDE\";;\n",
    "flush s;; (*Para forzar escritura*)\n",
    "close_out s;;"
   ]
  },
  {
   "cell_type": "code",
   "execution_count": 347,
   "id": "2f0ce7c6-05e6-45c1-902c-a0cd8d40ac1e",
   "metadata": {},
   "outputs": [
    {
     "data": {
      "text/plain": [
       "val output_string_list : out_channel -> string list -> unit = <fun>\n"
      ]
     },
     "execution_count": 347,
     "metadata": {},
     "output_type": "execute_result"
    }
   ],
   "source": [
    "let rec output_string_list c = function \n",
    "    [] -> ()\n",
    "  | h::t -> output_string c (h ^ \"\\n\");\n",
    "            output_string_list c t;;"
   ]
  },
  {
   "cell_type": "code",
   "execution_count": 351,
   "id": "dcf66a8f-a5a1-4549-af33-98449fe99859",
   "metadata": {},
   "outputs": [
    {
     "data": {
      "text/plain": [
       "- : unit = ()\n"
      ]
     },
     "execution_count": 351,
     "metadata": {},
     "output_type": "execute_result"
    }
   ],
   "source": [
    "output_string_list stdout [\"Welcome\";\"to\";\"utop\"];;\n",
    "\n",
    "(*\n",
    "\n",
    "utop # output_string_list stdout [\"Welcome\";\"to\";\"utop\"];;\n",
    "Welcome\n",
    "to\n",
    "utop\n",
    "- : unit = ()\n",
    "\n",
    "*)"
   ]
  },
  {
   "cell_type": "code",
   "execution_count": 349,
   "id": "1a1167fa-0a31-4bd6-9d9d-874ccc0c2fa7",
   "metadata": {},
   "outputs": [
    {
     "data": {
      "text/plain": [
       "val output_string_list : out_channel -> string list -> unit = <fun>\n"
      ]
     },
     "execution_count": 349,
     "metadata": {},
     "output_type": "execute_result"
    }
   ],
   "source": [
    "(*Outra forma --> Non recursiva *)\n",
    "let output_string_list c l =\n",
    "    List.iter (fun s -> output_string c (s ^ \"\\n\")) l \n",
    "    ;;"
   ]
  },
  {
   "cell_type": "markdown",
   "id": "fa5e2dd1-9575-4129-b202-e54c65c8e785",
   "metadata": {},
   "source": [
    "### 11.1.2 Open_In"
   ]
  },
  {
   "cell_type": "markdown",
   "id": "15699203-5005-4f5a-8768-c223b383774d",
   "metadata": {},
   "source": [
    "`open_in`: Open the named file __for reading__, and return a new input channel on that file, positioned at the beginning of the file."
   ]
  },
  {
   "cell_type": "code",
   "execution_count": 352,
   "id": "41117f73-5cf7-4ecd-a8ca-2f7971d95191",
   "metadata": {},
   "outputs": [
    {
     "data": {
      "text/plain": [
       "- : string -> in_channel = <fun>\n"
      ]
     },
     "execution_count": 352,
     "metadata": {},
     "output_type": "execute_result"
    }
   ],
   "source": [
    "open_in;;"
   ]
  },
  {
   "cell_type": "code",
   "execution_count": 361,
   "id": "2cd1c0a2-38c5-445b-b929-0ce82e7419d5",
   "metadata": {
    "tags": []
   },
   "outputs": [
    {
     "data": {
      "text/plain": [
       "val c : in_channel = <abstr>\n"
      ]
     },
     "execution_count": 361,
     "metadata": {},
     "output_type": "execute_result"
    }
   ],
   "source": [
    "let c = open_in \"../Test/prueba.txt\";; (*Con open_in temoslle que meter o nome dun ficheiro QUE EXITA *)"
   ]
  },
  {
   "cell_type": "code",
   "execution_count": 362,
   "id": "0013c086-3883-4c0a-98b3-30b6412de4fb",
   "metadata": {
    "tags": []
   },
   "outputs": [
    {
     "data": {
      "text/plain": [
       "- : char = 'A'\n"
      ]
     },
     "execution_count": 362,
     "metadata": {},
     "output_type": "execute_result"
    }
   ],
   "source": [
    "input_char c;;"
   ]
  },
  {
   "cell_type": "code",
   "execution_count": 363,
   "id": "927cab75-0d79-400c-b0bb-ce76b15055c5",
   "metadata": {
    "tags": []
   },
   "outputs": [
    {
     "data": {
      "text/plain": [
       "- : string = \"BCDE\"\n"
      ]
     },
     "execution_count": 363,
     "metadata": {},
     "output_type": "execute_result"
    }
   ],
   "source": [
    "input_line c ;;"
   ]
  },
  {
   "cell_type": "code",
   "execution_count": 367,
   "id": "03f47648-f01e-4e13-98bc-9135f716abb3",
   "metadata": {
    "tags": []
   },
   "outputs": [
    {
     "data": {
      "text/plain": [
       "- : unit = ()\n"
      ]
     },
     "execution_count": 367,
     "metadata": {},
     "output_type": "execute_result"
    }
   ],
   "source": [
    "(*input_char c;;*) (*Salta excepcion porque se acabou o contido do arquivo*) (*Exception: End_of_file.*)\n",
    "\n",
    "close_in c;; (*Temos que cerrar o archivo*)"
   ]
  },
  {
   "cell_type": "markdown",
   "id": "ef44d5a3-6d6c-4299-a26f-449662f1a6d4",
   "metadata": {},
   "source": [
    "input_string_list : in_channel -> string_list;;"
   ]
  },
  {
   "cell_type": "code",
   "execution_count": 365,
   "id": "1fe83885-f16d-4d8b-accc-ac3a9f0d8d35",
   "metadata": {},
   "outputs": [],
   "source": [
    "(*let rec input_string_list f = (*Ollo asi esta mal. Neste caso evaluase primeiro a cola e despois a cabza, polo que nos da un bucle infinito*)\n",
    "    try\n",
    "        input_line f :: input_string_list f (*Si se produce end of line e porque input_line o dou*)\n",
    "    with End_of_file -> []   (*Cando se acabe a lista ou si desde o principio o archivo estaba vacio  devolver unha lista vacia *)\n",
    "*)"
   ]
  },
  {
   "cell_type": "code",
   "execution_count": 371,
   "id": "49ba60fe-8365-424c-9cc2-10e7bffbe581",
   "metadata": {},
   "outputs": [
    {
     "data": {
      "text/plain": [
       "val f : in_channel = <abstr>\n"
      ]
     },
     "execution_count": 371,
     "metadata": {},
     "output_type": "execute_result"
    }
   ],
   "source": [
    "let f = open_in \"../Test/prueba.txt\";;"
   ]
  },
  {
   "cell_type": "code",
   "execution_count": 373,
   "id": "a67317a8-bbe1-4b70-9bb2-a60a74687bbe",
   "metadata": {
    "tags": []
   },
   "outputs": [
    {
     "data": {
      "text/plain": [
       "val input_string_list : in_channel -> string list = <fun>\n"
      ]
     },
     "execution_count": 373,
     "metadata": {},
     "output_type": "execute_result"
    }
   ],
   "source": [
    "let rec input_string_list f = (*Leemos o archivo e sacamos unha lista coas lineas *)\n",
    "    try\n",
    "        let s = input_line f in (*Usamos let in para asegurarnos de que primeiro se fai input_line e despois input_string_list. Xa que o fai ao reves teremos bucle infinito*)\n",
    "            s :: input_string_list f (*Si se produce end of line e porque input_line o dou*)\n",
    "    with End_of_file -> [];;"
   ]
  },
  {
   "cell_type": "code",
   "execution_count": 374,
   "id": "d48a5775-510b-48ce-b42a-8c85f08b932b",
   "metadata": {},
   "outputs": [
    {
     "data": {
      "text/plain": [
       "- : string list =\n",
       "[\"Defqon.1 Weekend Festival 2017 | Phuture Noize\"; \"\"; \"0\"; \"TweetShare\";\n",
       " \"Roundup January 23rd 2022\"; \"\";\n",
       " \"The sixty-nine installment of the 9to5Linux Weekly Roundup is here for the week ending on January 23rd, 2022, keeping\";\n",
       " \"you guys up to date with the most important things happening \"]\n"
      ]
     },
     "execution_count": 374,
     "metadata": {},
     "output_type": "execute_result"
    }
   ],
   "source": [
    "input_string_list f;;"
   ]
  },
  {
   "cell_type": "code",
   "execution_count": 375,
   "id": "6dca2c57-da88-4a58-b0e0-e3168ba49997",
   "metadata": {
    "tags": []
   },
   "outputs": [
    {
     "data": {
      "text/plain": [
       "- : unit = ()\n"
      ]
     },
     "execution_count": 375,
     "metadata": {},
     "output_type": "execute_result"
    }
   ],
   "source": [
    "close_in f;;"
   ]
  },
  {
   "cell_type": "markdown",
   "id": "5eb2741e-75ae-4ad2-a036-2f42b55dcee0",
   "metadata": {
    "jupyter": {
     "outputs_hidden": true
    }
   },
   "source": [
    "## 11.2 Variables (Variables != let )"
   ]
  },
  {
   "cell_type": "markdown",
   "id": "6f3e60ab-1c99-4d51-83b0-aa5f3d575ca4",
   "metadata": {},
   "source": [
    "Son especificas ao tipo de dato (como en C)\n",
    "\n",
    "Para calquera tipo de dato 'a exite a variable 'a ref  . Ex: char -> char ref"
   ]
  },
  {
   "cell_type": "markdown",
   "id": "8ca9d136-d197-4be2-9d66-fa0e5b5317e5",
   "metadata": {},
   "source": [
    "### 11.2.1 Creation"
   ]
  },
  {
   "cell_type": "markdown",
   "id": "899688a0-390c-4fb4-9556-1470931e2ebf",
   "metadata": {},
   "source": [
    "Crear variable, crease con `ref` e para facerlle referencia metese `let`"
   ]
  },
  {
   "cell_type": "markdown",
   "id": "3a5a7419-3b0d-42f2-ad19-31f5693dabe3",
   "metadata": {},
   "source": [
    "Para creala tes que inicializala"
   ]
  },
  {
   "cell_type": "code",
   "execution_count": 377,
   "id": "331fc2f8-27fc-44d0-ac71-ed42ad7effbd",
   "metadata": {
    "tags": []
   },
   "outputs": [
    {
     "data": {
      "text/plain": [
       "- : 'a -> 'a ref = <fun>\n"
      ]
     },
     "execution_count": 377,
     "metadata": {},
     "output_type": "execute_result"
    }
   ],
   "source": [
    "ref;;"
   ]
  },
  {
   "cell_type": "code",
   "execution_count": 378,
   "id": "a3e49fac-b5d8-4bae-b259-edf4048a8e14",
   "metadata": {
    "tags": []
   },
   "outputs": [
    {
     "data": {
      "text/plain": [
       "- : 'a ref -> 'a = <fun>\n"
      ]
     },
     "execution_count": 378,
     "metadata": {},
     "output_type": "execute_result"
    }
   ],
   "source": [
    "(!);; (*Aplicase as variables para devolver o seu contido*)"
   ]
  },
  {
   "cell_type": "code",
   "execution_count": 379,
   "id": "0c7a0ca5-95ca-4f94-b576-7898d6e0eb75",
   "metadata": {
    "tags": []
   },
   "outputs": [
    {
     "data": {
      "text/plain": [
       "val i : int ref = {contents = 0}\n"
      ]
     },
     "execution_count": 379,
     "metadata": {},
     "output_type": "execute_result"
    }
   ],
   "source": [
    "let i = ref 0;; (*Devolve unha variable donde podo almacenar ints. Neste momento conten un 0*)\n",
    "                (*i e unha caixa que conten ints*)"
   ]
  },
  {
   "cell_type": "code",
   "execution_count": 382,
   "id": "70b9c94e-0061-4fd4-96a4-25106dafe3e8",
   "metadata": {
    "tags": []
   },
   "outputs": [
    {
     "data": {
      "text/plain": [
       "- : int ref = {contents = 0}\n"
      ]
     },
     "execution_count": 382,
     "metadata": {},
     "output_type": "execute_result"
    }
   ],
   "source": [
    "i;;"
   ]
  },
  {
   "cell_type": "code",
   "execution_count": 383,
   "id": "0a389767-6973-4894-bcc3-8ac975986bda",
   "metadata": {
    "tags": []
   },
   "outputs": [
    {
     "data": {
      "text/plain": [
       "- : int = 0\n"
      ]
     },
     "execution_count": 383,
     "metadata": {},
     "output_type": "execute_result"
    }
   ],
   "source": [
    "!i;;  (*Asi accedemos ao seu contido*) "
   ]
  },
  {
   "cell_type": "code",
   "execution_count": 384,
   "id": "6ecf5492-deb0-4582-a620-77947d889a05",
   "metadata": {
    "tags": []
   },
   "outputs": [
    {
     "data": {
      "text/plain": [
       "- : int = 1\n"
      ]
     },
     "execution_count": 384,
     "metadata": {},
     "output_type": "execute_result"
    }
   ],
   "source": [
    "!i + 1;;"
   ]
  },
  {
   "cell_type": "markdown",
   "id": "e3d18f88-d23e-4ad3-a3be-47a54f563910",
   "metadata": {},
   "source": [
    "### 11.2.2 Modificar unha varible"
   ]
  },
  {
   "cell_type": "code",
   "execution_count": 385,
   "id": "cef18bde-12da-4f80-a0ec-f43101b5c4f2",
   "metadata": {
    "tags": []
   },
   "outputs": [
    {
     "data": {
      "text/plain": [
       "- : 'a ref -> 'a -> unit = <fun>\n"
      ]
     },
     "execution_count": 385,
     "metadata": {},
     "output_type": "execute_result"
    }
   ],
   "source": [
    "(:=);; (*Usase para modificar variable*)"
   ]
  },
  {
   "cell_type": "code",
   "execution_count": 387,
   "id": "17dbfa3f-ca6f-4b4c-af82-f8b5507d76b1",
   "metadata": {},
   "outputs": [
    {
     "data": {
      "text/plain": [
       "- : int = 3\n"
      ]
     },
     "execution_count": 387,
     "metadata": {},
     "output_type": "execute_result"
    }
   ],
   "source": [
    "!i;;"
   ]
  },
  {
   "cell_type": "code",
   "execution_count": 391,
   "id": "62685793-aab0-42fd-86c3-066cfab23d45",
   "metadata": {
    "tags": []
   },
   "outputs": [
    {
     "data": {
      "text/plain": [
       "- : unit = ()\n"
      ]
     },
     "execution_count": 391,
     "metadata": {},
     "output_type": "execute_result"
    }
   ],
   "source": [
    "i := 5+1;;"
   ]
  },
  {
   "cell_type": "code",
   "execution_count": 392,
   "id": "e5104831-1527-4799-8f02-bd6e24e3c751",
   "metadata": {
    "tags": []
   },
   "outputs": [
    {
     "data": {
      "text/plain": [
       "- : int = 6\n"
      ]
     },
     "execution_count": 392,
     "metadata": {},
     "output_type": "execute_result"
    }
   ],
   "source": [
    "!i;;"
   ]
  },
  {
   "cell_type": "code",
   "execution_count": 393,
   "id": "fb94ac56-6c7f-4609-8183-8216c857f708",
   "metadata": {},
   "outputs": [
    {
     "data": {
      "text/plain": [
       "- : int ref = {contents = 6}\n"
      ]
     },
     "execution_count": 393,
     "metadata": {},
     "output_type": "execute_result"
    }
   ],
   "source": [
    "i;;"
   ]
  },
  {
   "cell_type": "markdown",
   "id": "8d9aa2e3-c2b2-4e9f-af02-4e0201279d9b",
   "metadata": {},
   "source": [
    "## 11.3 Bucles"
   ]
  },
  {
   "cell_type": "markdown",
   "id": "252a3b14-b18b-4abc-bf2e-ad7038318740",
   "metadata": {},
   "source": [
    "### 11.3.1 Bucle FOR"
   ]
  },
  {
   "cell_type": "markdown",
   "id": "9db24155-b979-45dd-80b8-1c159f1cd13d",
   "metadata": {},
   "source": [
    "Exer: Redefinir o fact sin usar recursividade"
   ]
  },
  {
   "cell_type": "code",
   "execution_count": 394,
   "id": "1845932a-0a21-40fb-8eef-ecea150ee428",
   "metadata": {},
   "outputs": [
    {
     "data": {
      "text/plain": [
       "val fact : int -> int = <fun>\n"
      ]
     },
     "execution_count": 394,
     "metadata": {},
     "output_type": "execute_result"
    }
   ],
   "source": [
    "let fact n = \n",
    "    let f = ref 1 in \n",
    "    for i = 1 to n do \n",
    "        f := !f * i\n",
    "    done; (*Primeiro facemos o calculo*)\n",
    "    !f;; (*Despois devolvemos resultado*)"
   ]
  },
  {
   "cell_type": "code",
   "execution_count": 395,
   "id": "651a2a50-2a86-4056-bea2-bfb01a9a29ea",
   "metadata": {},
   "outputs": [
    {
     "data": {
      "text/plain": [
       "- : int = 720\n"
      ]
     },
     "execution_count": 395,
     "metadata": {},
     "output_type": "execute_result"
    }
   ],
   "source": [
    "fact 6;;"
   ]
  },
  {
   "cell_type": "markdown",
   "id": "a8698255-5469-41fb-9113-cd35427fbf17",
   "metadata": {},
   "source": [
    "### 11.3.2 Bucle WHILE"
   ]
  },
  {
   "cell_type": "code",
   "execution_count": 396,
   "id": "24675564-15b7-4a83-ba4d-53f57f849d02",
   "metadata": {},
   "outputs": [
    {
     "data": {
      "text/plain": [
       "val fact : int -> int = <fun>\n"
      ]
     },
     "execution_count": 396,
     "metadata": {},
     "output_type": "execute_result"
    }
   ],
   "source": [
    "let fact n = \n",
    "    let f = ref 1 and i = ref 1 in \n",
    "    while !i <= n do \n",
    "        f:= !f * !i;\n",
    "        i:= !i + 1\n",
    "    done;\n",
    "    !f (* En f queda gardado o resultado*)\n",
    "    ;;"
   ]
  },
  {
   "cell_type": "code",
   "execution_count": 397,
   "id": "198bdd8e-0683-43d7-8ec5-f55ae575b23b",
   "metadata": {},
   "outputs": [
    {
     "data": {
      "text/plain": [
       "- : int = 120\n"
      ]
     },
     "execution_count": 397,
     "metadata": {},
     "output_type": "execute_result"
    }
   ],
   "source": [
    "fact 5;;"
   ]
  },
  {
   "cell_type": "markdown",
   "id": "a6aafc51-7d8a-4ea9-a877-7ea454c3d759",
   "metadata": {},
   "source": [
    "## 11.4 Structs "
   ]
  },
  {
   "cell_type": "markdown",
   "id": "fea3ae98-bdab-46f8-8a96-1de28ef7809f",
   "metadata": {},
   "source": [
    "### 11.4.1 [ARRAY](https://ocaml.org/api/Array.html)"
   ]
  },
  {
   "cell_type": "markdown",
   "id": "9ea9ae87-0b03-48ef-bcb2-6d14d87997a9",
   "metadata": {},
   "source": [
    "Vacio"
   ]
  },
  {
   "cell_type": "markdown",
   "id": "98200d5d-3bcb-4f5b-bf91-12778e0675b9",
   "metadata": {
    "tags": []
   },
   "source": [
    "#### 11.4.1.1 Construction"
   ]
  },
  {
   "cell_type": "code",
   "execution_count": 398,
   "id": "e7f35484-c787-498e-8add-ef2c3983d1b0",
   "metadata": {},
   "outputs": [
    {
     "data": {
      "text/plain": [
       "- : 'a array = [||]\n"
      ]
     },
     "execution_count": 398,
     "metadata": {},
     "output_type": "execute_result"
    }
   ],
   "source": [
    "[||];; "
   ]
  },
  {
   "cell_type": "markdown",
   "id": "80667f6e-6ad8-4eea-a0cb-d12c0ebb8303",
   "metadata": {},
   "source": [
    "De tipo int"
   ]
  },
  {
   "cell_type": "code",
   "execution_count": 399,
   "id": "a93cd788-f9ff-401e-a01e-1b6fb0dd588d",
   "metadata": {},
   "outputs": [
    {
     "data": {
      "text/plain": [
       "val array : int array = [|8; 1; 4; 3|]\n"
      ]
     },
     "execution_count": 399,
     "metadata": {},
     "output_type": "execute_result"
    }
   ],
   "source": [
    "let array = [|8;1;4;3|];;"
   ]
  },
  {
   "cell_type": "markdown",
   "id": "32990b86-2778-4c60-9314-7e3aadbc2c0a",
   "metadata": {
    "tags": []
   },
   "source": [
    "#### 11.4.1.2 Related Functions"
   ]
  },
  {
   "cell_type": "code",
   "execution_count": 403,
   "id": "c1da6bb0-411f-40a1-b32c-ec7e06fa9cef",
   "metadata": {
    "tags": []
   },
   "outputs": [
    {
     "data": {
      "text/plain": [
       "- : int = 8\n"
      ]
     },
     "execution_count": 403,
     "metadata": {},
     "output_type": "execute_result"
    },
    {
     "data": {
      "text/plain": [
       "- : 'a array -> int -> 'a = <fun>\n"
      ]
     },
     "execution_count": 403,
     "metadata": {},
     "output_type": "execute_result"
    },
    {
     "data": {
      "text/plain": [
       "- : int = 8\n"
      ]
     },
     "execution_count": 403,
     "metadata": {},
     "output_type": "execute_result"
    }
   ],
   "source": [
    "array.(0);; (*Acceso a posicion 0*)\n",
    "\n",
    "Array.get ;;\n",
    "\n",
    "Array.get array 0;; (* Outra forma de acceder*)"
   ]
  },
  {
   "cell_type": "code",
   "execution_count": 404,
   "id": "440cfe58-153f-46d4-a386-ba8b02c342a9",
   "metadata": {
    "tags": []
   },
   "outputs": [
    {
     "data": {
      "text/plain": [
       "- : 'a array -> int -> 'a -> unit = <fun>\n"
      ]
     },
     "execution_count": 404,
     "metadata": {},
     "output_type": "execute_result"
    },
    {
     "data": {
      "text/plain": [
       "- : unit = ()\n"
      ]
     },
     "execution_count": 404,
     "metadata": {},
     "output_type": "execute_result"
    },
    {
     "data": {
      "text/plain": [
       "- : int array = [|8; 20; 4; 3|]\n"
      ]
     },
     "execution_count": 404,
     "metadata": {},
     "output_type": "execute_result"
    }
   ],
   "source": [
    "Array.set ;;\n",
    "\n",
    "Array.set array 1 20;; (*Insertar/SOBRESCRIBIR nunha posicion concreta*)\n",
    "\n",
    "array;;"
   ]
  },
  {
   "cell_type": "code",
   "execution_count": 405,
   "id": "9c77620d-7e2b-46e4-823f-d2ed90f833a0",
   "metadata": {},
   "outputs": [
    {
     "data": {
      "text/plain": [
       "- : int -> 'a -> 'a array = <fun>\n"
      ]
     },
     "execution_count": 405,
     "metadata": {},
     "output_type": "execute_result"
    },
    {
     "data": {
      "text/plain": [
       "- : int array = [|0; 0; 0; 0; 0; 0; 0; 0; 0; 0|]\n"
      ]
     },
     "execution_count": 405,
     "metadata": {},
     "output_type": "execute_result"
    }
   ],
   "source": [
    "Array.make ;;\n",
    "\n",
    "Array.make 10 0;; (* Crea array de 10 ceros*)"
   ]
  },
  {
   "cell_type": "code",
   "execution_count": 408,
   "id": "c76687d4-63b0-49e3-9a43-3ca9be027594",
   "metadata": {
    "tags": []
   },
   "outputs": [
    {
     "data": {
      "text/plain": [
       "val v : float array =\n",
       "  [|0.94674605093970754; 0.00118067198420759249; 0.535789075169210594;\n",
       "    0.949948072115459508; 0.625081654014535859|]\n"
      ]
     },
     "execution_count": 408,
     "metadata": {},
     "output_type": "execute_result"
    }
   ],
   "source": [
    "let v = Array.init 5 (fun _ -> Random.float 1.);; (*Como coas listas*)"
   ]
  },
  {
   "cell_type": "code",
   "execution_count": 409,
   "id": "3e02fadf-1cbc-48a4-bb2e-b92a7eb1e42c",
   "metadata": {
    "tags": []
   },
   "outputs": [
    {
     "data": {
      "text/plain": [
       "val w : float array =\n",
       "  [|0.94674605093970754; 0.00118067198420759249; 0.535789075169210594;\n",
       "    0.949948072115459508; 0.625081654014535859|]\n"
      ]
     },
     "execution_count": 409,
     "metadata": {},
     "output_type": "execute_result"
    }
   ],
   "source": [
    "let w = Array.copy v;;"
   ]
  },
  {
   "cell_type": "markdown",
   "id": "03cae584-f1c4-4aa3-a9df-495ddc0deb97",
   "metadata": {},
   "source": [
    "COIDADO !! SORT E DESTRUCTIVO"
   ]
  },
  {
   "cell_type": "code",
   "execution_count": 410,
   "id": "00ade363-7128-4750-be63-5424fe72b5c5",
   "metadata": {
    "tags": []
   },
   "outputs": [
    {
     "data": {
      "text/plain": [
       "- : unit = ()\n"
      ]
     },
     "execution_count": 410,
     "metadata": {},
     "output_type": "execute_result"
    },
    {
     "data": {
      "text/plain": [
       "- : float array =\n",
       "[|0.00118067198420759249; 0.535789075169210594; 0.625081654014535859;\n",
       "  0.94674605093970754; 0.949948072115459508|]\n"
      ]
     },
     "execution_count": 410,
     "metadata": {},
     "output_type": "execute_result"
    }
   ],
   "source": [
    "Array.sort compare v;; (*COMPARA*)\n",
    "\n",
    "v;;"
   ]
  },
  {
   "cell_type": "code",
   "execution_count": 412,
   "id": "b0a95bd0-bc75-4aab-aa5d-fd0c66641b5d",
   "metadata": {},
   "outputs": [
    {
     "data": {
      "text/plain": [
       "- : unit = ()\n"
      ]
     },
     "execution_count": 412,
     "metadata": {},
     "output_type": "execute_result"
    },
    {
     "data": {
      "text/plain": [
       "- : float array =\n",
       "[|0.00118067198420759249; 0.535789075169210594; 0.625081654014535859;\n",
       "  0.94674605093970754; 0.949948072115459508|]\n"
      ]
     },
     "execution_count": 412,
     "metadata": {},
     "output_type": "execute_result"
    }
   ],
   "source": [
    "Array.sort compare w;; (*COMPARA*) (*SE NON QUEREMOS DESTRUIR FACEMOS COPY*)\n",
    "\n",
    "w;;"
   ]
  },
  {
   "cell_type": "markdown",
   "id": "453df457-cf81-47f1-a04b-f8f23a78101d",
   "metadata": {},
   "source": [
    "__PRODUCTO ESCALAR__"
   ]
  },
  {
   "cell_type": "code",
   "execution_count": 413,
   "id": "7161d89f-e0e1-428d-8b11-eba8607709cc",
   "metadata": {},
   "outputs": [
    {
     "data": {
      "text/plain": [
       "val vprod : float array -> float array -> float = <fun>\n"
      ]
     },
     "execution_count": 413,
     "metadata": {},
     "output_type": "execute_result"
    }
   ],
   "source": [
    "let vprod v1 v2 = (*Forma 1*)\n",
    "    let l = Array.length v1 in \n",
    "        if Array.length v2 = l then \n",
    "            let p = ref 0. in \n",
    "                for i = 0 to l-1 do\n",
    "                    p:= !p +. v1.(i) *. v2.(i)\n",
    "                done; \n",
    "                !p\n",
    "        else \n",
    "            raise (Invalid_argument \"vprod\")\n",
    "    ;;"
   ]
  },
  {
   "cell_type": "code",
   "execution_count": 414,
   "id": "d62560f3-1dda-4e24-8acc-9df7fa982d70",
   "metadata": {},
   "outputs": [
    {
     "data": {
      "text/plain": [
       "- : float = 2.47652782592836962\n"
      ]
     },
     "execution_count": 414,
     "metadata": {},
     "output_type": "execute_result"
    }
   ],
   "source": [
    "vprod v w;; "
   ]
  },
  {
   "cell_type": "code",
   "execution_count": 415,
   "id": "c54e61f6-45d2-47e8-a981-4ed4dc2a8581",
   "metadata": {},
   "outputs": [
    {
     "data": {
      "text/plain": [
       "val vprod : float array -> float array -> float = <fun>\n"
      ]
     },
     "execution_count": 415,
     "metadata": {},
     "output_type": "execute_result"
    }
   ],
   "source": [
    "let vprod v1 v2 =  (*Outra forma*)\n",
    "    Array.fold_left (+.) 0. (Array.map2 ( *. ) v1 v2)\n",
    ";;"
   ]
  },
  {
   "cell_type": "code",
   "execution_count": 416,
   "id": "de9d3c9f-070a-4cf9-b54d-7c15513ca19f",
   "metadata": {},
   "outputs": [
    {
     "data": {
      "text/plain": [
       "- : float = 2.47652782592836962\n"
      ]
     },
     "execution_count": 416,
     "metadata": {},
     "output_type": "execute_result"
    }
   ],
   "source": [
    "vprod v w;; "
   ]
  },
  {
   "cell_type": "markdown",
   "id": "82215a9f-75cd-4f43-9bbe-1d265665dd7e",
   "metadata": {},
   "source": [
    "### 11.4.2 Records"
   ]
  },
  {
   "cell_type": "code",
   "execution_count": 417,
   "id": "840875e8-4951-4559-abeb-de41c5dff1ec",
   "metadata": {},
   "outputs": [
    {
     "data": {
      "text/plain": [
       "type persona = { nombre : string; edad : int; }\n"
      ]
     },
     "execution_count": 417,
     "metadata": {},
     "output_type": "execute_result"
    }
   ],
   "source": [
    "type persona = {nombre : string ; edad : int; };;"
   ]
  },
  {
   "cell_type": "code",
   "execution_count": 418,
   "id": "85863d59-08d7-4fa0-884f-f56bb4b85ba9",
   "metadata": {},
   "outputs": [
    {
     "data": {
      "text/plain": [
       "val p1 : persona = {nombre = \"Jose\"; edad = 17}\n"
      ]
     },
     "execution_count": 418,
     "metadata": {},
     "output_type": "execute_result"
    },
    {
     "data": {
      "text/plain": [
       "- : string = \"Jose\"\n"
      ]
     },
     "execution_count": 418,
     "metadata": {},
     "output_type": "execute_result"
    },
    {
     "data": {
      "text/plain": [
       "- : int = 17\n"
      ]
     },
     "execution_count": 418,
     "metadata": {},
     "output_type": "execute_result"
    }
   ],
   "source": [
    "let p1 = {nombre= \"Jose\" ; edad = 17};;\n",
    "\n",
    "p1.nombre;;\n",
    "p1.edad;;"
   ]
  },
  {
   "cell_type": "code",
   "execution_count": 419,
   "id": "67d17fd0-2828-4a1a-ac3c-8edb09648a24",
   "metadata": {},
   "outputs": [
    {
     "data": {
      "text/plain": [
       "val p2 : persona = {nombre = \"Hi\"; edad = 50}\n"
      ]
     },
     "execution_count": 419,
     "metadata": {},
     "output_type": "execute_result"
    },
    {
     "data": {
      "text/plain": [
       "- : string = \"Hi\"\n"
      ]
     },
     "execution_count": 419,
     "metadata": {},
     "output_type": "execute_result"
    },
    {
     "data": {
      "text/plain": [
       "- : int = 50\n"
      ]
     },
     "execution_count": 419,
     "metadata": {},
     "output_type": "execute_result"
    }
   ],
   "source": [
    "let p2 = {edad=50 ; nombre= \"Hi\"};; (*Orden da igual*)\n",
    "\n",
    "p2.nombre;;\n",
    "p2.edad;;"
   ]
  },
  {
   "cell_type": "code",
   "execution_count": 422,
   "id": "4a4d0dae-78f3-4867-a9ac-749cd04873fe",
   "metadata": {
    "tags": []
   },
   "outputs": [
    {
     "data": {
      "text/plain": [
       "val mas_vieja : persona -> persona = <fun>\n"
      ]
     },
     "execution_count": 422,
     "metadata": {},
     "output_type": "execute_result"
    },
    {
     "data": {
      "text/plain": [
       "- : persona = {nombre = \"Hi\"; edad = 51}\n"
      ]
     },
     "execution_count": 422,
     "metadata": {},
     "output_type": "execute_result"
    },
    {
     "data": {
      "text/plain": [
       "- : persona = {nombre = \"Hi\"; edad = 50}\n"
      ]
     },
     "execution_count": 422,
     "metadata": {},
     "output_type": "execute_result"
    }
   ],
   "source": [
    "let mas_vieja p = {nombre =p.nombre ; edad=p.edad+1};;\n",
    "\n",
    "mas_vieja p2;; (*Modifica en local, pero non o original*)\n",
    "\n",
    "p2;;"
   ]
  },
  {
   "cell_type": "code",
   "execution_count": 424,
   "id": "d1008c0a-14bc-4ef9-8042-06ad5df27f86",
   "metadata": {},
   "outputs": [
    {
     "data": {
      "text/plain": [
       "val mas_vieja : persona -> persona = <fun>\n"
      ]
     },
     "execution_count": 424,
     "metadata": {},
     "output_type": "execute_result"
    },
    {
     "data": {
      "text/plain": [
       "- : persona = {nombre = \"Hi\"; edad = 51}\n"
      ]
     },
     "execution_count": 424,
     "metadata": {},
     "output_type": "execute_result"
    },
    {
     "data": {
      "text/plain": [
       "- : persona = {nombre = \"Hi\"; edad = 50}\n"
      ]
     },
     "execution_count": 424,
     "metadata": {},
     "output_type": "execute_result"
    }
   ],
   "source": [
    "let mas_vieja p = {p with edad=p.edad+1};; (*Outra forma*)\n",
    "\n",
    "mas_vieja p2;;\n",
    "\n",
    "p2;;"
   ]
  },
  {
   "cell_type": "markdown",
   "id": "a2bb848a-db88-436b-b936-d719a7dabaa4",
   "metadata": {},
   "source": [
    "#### Pode ser mutable"
   ]
  },
  {
   "cell_type": "code",
   "execution_count": 425,
   "id": "c254910c-6b04-47db-b296-d7d4badd7f3a",
   "metadata": {},
   "outputs": [
    {
     "data": {
      "text/plain": [
       "type persona_mutable = { nombre : string; mutable edad : int; }\n"
      ]
     },
     "execution_count": 425,
     "metadata": {},
     "output_type": "execute_result"
    }
   ],
   "source": [
    "type persona_mutable = {nombre : string ; mutable edad : int; };;"
   ]
  },
  {
   "cell_type": "code",
   "execution_count": 426,
   "id": "53b5a7c2-2e12-42c6-92c6-2748e5156fc0",
   "metadata": {},
   "outputs": [
    {
     "data": {
      "text/plain": [
       "val p1 : persona_mutable = {nombre = \"Jose\"; edad = 17}\n"
      ]
     },
     "execution_count": 426,
     "metadata": {},
     "output_type": "execute_result"
    }
   ],
   "source": [
    "let p1 = {nombre= \"Jose\" ; edad = 17};;"
   ]
  },
  {
   "cell_type": "code",
   "execution_count": 427,
   "id": "95295af9-3cd9-4d46-84d2-9d73be3cd54b",
   "metadata": {},
   "outputs": [
    {
     "data": {
      "text/plain": [
       "val envejece : persona_mutable -> unit = <fun>\n"
      ]
     },
     "execution_count": 427,
     "metadata": {},
     "output_type": "execute_result"
    },
    {
     "data": {
      "text/plain": [
       "- : unit = ()\n"
      ]
     },
     "execution_count": 427,
     "metadata": {},
     "output_type": "execute_result"
    },
    {
     "data": {
      "text/plain": [
       "- : persona_mutable = {nombre = \"Jose\"; edad = 18}\n"
      ]
     },
     "execution_count": 427,
     "metadata": {},
     "output_type": "execute_result"
    }
   ],
   "source": [
    "let envejece p = p.edad <- p.edad +1;;\n",
    "\n",
    "envejece p1;;\n",
    "\n",
    "p1;;"
   ]
  },
  {
   "cell_type": "markdown",
   "id": "56157278-3bbd-4950-9ad7-c43059be22d4",
   "metadata": {},
   "source": [
    "# 12. Miscellaneous"
   ]
  },
  {
   "cell_type": "code",
   "execution_count": 428,
   "id": "5da26084-1228-4aff-8cb3-0e8a6a1c6615",
   "metadata": {},
   "outputs": [
    {
     "data": {
      "text/plain": [
       "val n : int ref = {contents = 0}\n"
      ]
     },
     "execution_count": 428,
     "metadata": {},
     "output_type": "execute_result"
    },
    {
     "data": {
      "text/plain": [
       "val turno : unit -> int = <fun>\n"
      ]
     },
     "execution_count": 428,
     "metadata": {},
     "output_type": "execute_result"
    },
    {
     "data": {
      "text/plain": [
       "val reset : unit -> unit = <fun>\n"
      ]
     },
     "execution_count": 428,
     "metadata": {},
     "output_type": "execute_result"
    }
   ],
   "source": [
    "let n = ref 0;;\n",
    "\n",
    "let turno () = (* Devolve o valor de n despois de incrementala *)\n",
    "    n:= !n + 1;\n",
    "    !n;;\n",
    "    \n",
    "let reset () =\n",
    "    n:=0"
   ]
  },
  {
   "cell_type": "code",
   "execution_count": 437,
   "id": "4a61bd2c-278e-41d1-871c-23bbf9bf2440",
   "metadata": {},
   "outputs": [
    {
     "data": {
      "text/plain": [
       "- : int = 1\n"
      ]
     },
     "execution_count": 437,
     "metadata": {},
     "output_type": "execute_result"
    }
   ],
   "source": [
    "turno ();;"
   ]
  },
  {
   "cell_type": "code",
   "execution_count": 437,
   "id": "570591bd-4252-48e9-8886-977aae7d5f4f",
   "metadata": {},
   "outputs": [
    {
     "data": {
      "text/plain": [
       "- : int = 1\n"
      ]
     },
     "execution_count": 437,
     "metadata": {},
     "output_type": "execute_result"
    }
   ],
   "source": [
    "turno ();;"
   ]
  },
  {
   "cell_type": "markdown",
   "id": "2f9e48a9-7d03-413a-b0f7-a627226f49ff",
   "metadata": {},
   "source": [
    "Executando neste orden, vemos como os let non son variables. Devolver 12  "
   ]
  },
  {
   "cell_type": "code",
   "execution_count": 429,
   "id": "3813cb95-f32a-428b-9544-0a9db632292a",
   "metadata": {},
   "outputs": [
    {
     "ename": "error",
     "evalue": "compile_error",
     "output_type": "error",
     "traceback": [
      "File \"[429]\", line 1, characters 18-19:\n1 | let suman x = x + n ;;                                                                           \n                      ^\nError: This expression has type int ref\n       but an expression was expected of type int\n"
     ]
    }
   ],
   "source": [
    "let suman x = x + n ;;                                                                           \n",
    "let n = 1000;;    "
   ]
  },
  {
   "cell_type": "markdown",
   "id": "740356ff-24a1-47c5-a8d1-dede34fa9341",
   "metadata": {},
   "source": [
    "Si a defino asi en local, non vou poder acceder nin modificar n fora da funcion turno"
   ]
  },
  {
   "cell_type": "code",
   "execution_count": 438,
   "id": "71241838-15d0-44a9-8001-cb97aa1ceba1",
   "metadata": {},
   "outputs": [
    {
     "data": {
      "text/plain": [
       "val turno : unit -> int = <fun>\n"
      ]
     },
     "execution_count": 438,
     "metadata": {},
     "output_type": "execute_result"
    }
   ],
   "source": [
    "let turno = function () ->\n",
    "    let n = ref 0 in \n",
    "    n:= !n + 1;\n",
    "    !n;;    \n",
    "    "
   ]
  },
  {
   "cell_type": "code",
   "execution_count": 439,
   "id": "0f57cceb-b138-4870-8cd0-7b3bc4f4d9aa",
   "metadata": {},
   "outputs": [
    {
     "data": {
      "text/plain": [
       "- : int = 1\n"
      ]
     },
     "execution_count": 439,
     "metadata": {},
     "output_type": "execute_result"
    }
   ],
   "source": [
    "turno ();;"
   ]
  },
  {
   "cell_type": "code",
   "execution_count": 440,
   "id": "0a9e1881-1ac4-49db-8681-2893e5d6f8c7",
   "metadata": {},
   "outputs": [
    {
     "data": {
      "text/plain": [
       "- : int = 1\n"
      ]
     },
     "execution_count": 440,
     "metadata": {},
     "output_type": "execute_result"
    }
   ],
   "source": [
    "turno ();;"
   ]
  },
  {
   "cell_type": "code",
   "execution_count": 452,
   "id": "4e038207-de4a-498c-b302-eb232bac3e85",
   "metadata": {},
   "outputs": [
    {
     "data": {
      "text/plain": [
       "val turno : unit -> int = <fun>\n"
      ]
     },
     "execution_count": 452,
     "metadata": {},
     "output_type": "execute_result"
    }
   ],
   "source": [
    "let turno = (*Asi si se modififica*) \n",
    "    let n = ref 0 in \n",
    "    function () -> \n",
    "        n:= !n + 1;\n",
    "        !n;; "
   ]
  },
  {
   "cell_type": "code",
   "execution_count": 453,
   "id": "9c4e251e-8aa2-40b2-b9be-cf2c391b7776",
   "metadata": {},
   "outputs": [
    {
     "data": {
      "text/plain": [
       "- : int = 1\n"
      ]
     },
     "execution_count": 453,
     "metadata": {},
     "output_type": "execute_result"
    }
   ],
   "source": [
    "turno ();;"
   ]
  },
  {
   "cell_type": "code",
   "execution_count": 454,
   "id": "0ee225e6-4050-43c9-852f-d82dc764ea20",
   "metadata": {},
   "outputs": [
    {
     "data": {
      "text/plain": [
       "- : int = 2\n"
      ]
     },
     "execution_count": 454,
     "metadata": {},
     "output_type": "execute_result"
    }
   ],
   "source": [
    "turno ();;"
   ]
  },
  {
   "cell_type": "markdown",
   "id": "c76491b1-a375-4b59-a03b-e18cb034ba1b",
   "metadata": {},
   "source": [
    "## 12.1 Como definir Modulo (o do .mli)"
   ]
  },
  {
   "cell_type": "code",
   "execution_count": 455,
   "id": "24cfeacb-2356-490d-a1b4-365de4985f15",
   "metadata": {},
   "outputs": [
    {
     "data": {
      "text/plain": [
       "module Counter : sig val turno : unit -> int val reset : unit -> unit end\n"
      ]
     },
     "execution_count": 455,
     "metadata": {},
     "output_type": "execute_result"
    }
   ],
   "source": [
    "module Counter : \n",
    "sig (*:sig para comezar a interfaz. O que se pode ver desde fora *)\n",
    "\n",
    "val turno: unit -> int\n",
    "val reset: unit -> unit\n",
    "\n",
    "\n",
    "end\n",
    "= struct (*=struct para comezar a implementacion*)\n",
    "\n",
    "    let n = ref 0\n",
    "\n",
    "    let turno () = (* Devolve o valor de n despois de incrementala *)\n",
    "        n:= !n + 1;\n",
    "        !n\n",
    "    \n",
    "    let reset () =\n",
    "        n:=0\n",
    "\n",
    "end;;"
   ]
  },
  {
   "cell_type": "code",
   "execution_count": 456,
   "id": "dce84950-b180-41f7-a439-dfdeab4acdbb",
   "metadata": {},
   "outputs": [
    {
     "data": {
      "text/plain": [
       "- : int = 1\n"
      ]
     },
     "execution_count": 456,
     "metadata": {},
     "output_type": "execute_result"
    }
   ],
   "source": [
    "Counter.turno ();;"
   ]
  },
  {
   "cell_type": "code",
   "execution_count": 457,
   "id": "a7eecc5c-300d-4e28-9571-fe8984f7462f",
   "metadata": {},
   "outputs": [
    {
     "data": {
      "text/plain": [
       "- : unit = ()\n"
      ]
     },
     "execution_count": 457,
     "metadata": {},
     "output_type": "execute_result"
    }
   ],
   "source": [
    "Counter.reset ();;"
   ]
  },
  {
   "cell_type": "code",
   "execution_count": 458,
   "id": "dd2ef8a1-1c5a-4f2d-848a-fdd22131815c",
   "metadata": {},
   "outputs": [
    {
     "data": {
      "text/plain": [
       "- : int = 1\n"
      ]
     },
     "execution_count": 458,
     "metadata": {},
     "output_type": "execute_result"
    }
   ],
   "source": [
    "Counter.turno ();;"
   ]
  },
  {
   "cell_type": "markdown",
   "id": "a6b25c36-2c99-43a2-86b1-51a15cfca640",
   "metadata": {},
   "source": [
    "#### 12.1.1 FUNCTOR"
   ]
  },
  {
   "cell_type": "markdown",
   "id": "1ba84818-4485-4187-be87-6ab91a63627e",
   "metadata": {},
   "source": [
    "Co Functor podo crear multiples instancias de un modulo"
   ]
  },
  {
   "cell_type": "code",
   "execution_count": 460,
   "id": "5935cfe5-4312-4a72-b590-b63c071cc74e",
   "metadata": {},
   "outputs": [
    {
     "data": {
      "text/plain": [
       "module Counter :\n",
       "  functor () -> sig val turno : unit -> int val reset : unit -> unit end\n"
      ]
     },
     "execution_count": 460,
     "metadata": {},
     "output_type": "execute_result"
    }
   ],
   "source": [
    "module Counter () : (* ASI SERIA UN FUNTOR *)\n",
    "sig (*:sig para comezar a interfaz. O que se pode ver desde fora *)\n",
    "\n",
    "val turno: unit -> int\n",
    "val reset: unit -> unit\n",
    "\n",
    "\n",
    "end\n",
    "= struct (*=struct para comezar a implementacion*)\n",
    "\n",
    "    let n = ref 0\n",
    "\n",
    "    let turno () = (* Devolve o valor de n despois de incrementala *)\n",
    "        n:= !n + 1;\n",
    "        !n\n",
    "    \n",
    "    let reset () =\n",
    "        n:=0\n",
    "\n",
    "end;;"
   ]
  },
  {
   "cell_type": "code",
   "execution_count": 461,
   "id": "08fbb3b9-dcf7-44c3-9a35-cd7009ffb35f",
   "metadata": {},
   "outputs": [
    {
     "data": {
      "text/plain": [
       "module A : sig val turno : unit -> int val reset : unit -> unit end\n"
      ]
     },
     "execution_count": 461,
     "metadata": {},
     "output_type": "execute_result"
    },
    {
     "data": {
      "text/plain": [
       "module B : sig val turno : unit -> int val reset : unit -> unit end\n"
      ]
     },
     "execution_count": 461,
     "metadata": {},
     "output_type": "execute_result"
    }
   ],
   "source": [
    "module A = Counter ();; (* Creamos un modulo A que actua como Counter *)\n",
    "\n",
    "module B = Counter ();;"
   ]
  },
  {
   "cell_type": "code",
   "execution_count": 463,
   "id": "d2e924c1-9d06-44a4-bec1-e2a2b4922a26",
   "metadata": {},
   "outputs": [
    {
     "data": {
      "text/plain": [
       "- : int = 2\n"
      ]
     },
     "execution_count": 463,
     "metadata": {},
     "output_type": "execute_result"
    }
   ],
   "source": [
    "A.turno ();;"
   ]
  },
  {
   "cell_type": "code",
   "execution_count": 464,
   "id": "3decfce6-92cd-49ea-bf85-55e844511fbe",
   "metadata": {},
   "outputs": [
    {
     "data": {
      "text/plain": [
       "- : int = 3\n"
      ]
     },
     "execution_count": 464,
     "metadata": {},
     "output_type": "execute_result"
    }
   ],
   "source": [
    "A.turno ();;"
   ]
  },
  {
   "cell_type": "code",
   "execution_count": 465,
   "id": "82421271-0b80-4e6b-b916-a26d77894927",
   "metadata": {},
   "outputs": [
    {
     "data": {
      "text/plain": [
       "- : int = 2\n"
      ]
     },
     "execution_count": 465,
     "metadata": {},
     "output_type": "execute_result"
    }
   ],
   "source": [
    "B.turno ();;"
   ]
  },
  {
   "cell_type": "code",
   "execution_count": 466,
   "id": "69b2a258-0c3e-4ba9-acd1-e6cd286b03c9",
   "metadata": {},
   "outputs": [
    {
     "data": {
      "text/plain": [
       "- : unit = ()\n"
      ]
     },
     "execution_count": 466,
     "metadata": {},
     "output_type": "execute_result"
    }
   ],
   "source": [
    "A.reset ();;"
   ]
  },
  {
   "cell_type": "code",
   "execution_count": 467,
   "id": "bd51c5fe-374a-496c-9296-b53b053e0da1",
   "metadata": {},
   "outputs": [
    {
     "data": {
      "text/plain": [
       "- : int = 1\n"
      ]
     },
     "execution_count": 467,
     "metadata": {},
     "output_type": "execute_result"
    }
   ],
   "source": [
    "A.turno ();;"
   ]
  }
 ],
 "metadata": {
  "kernelspec": {
   "display_name": "OCaml default",
   "language": "OCaml",
   "name": "ocaml-jupyter"
  },
  "language_info": {
   "codemirror_mode": "text/x-ocaml",
   "file_extension": ".ml",
   "mimetype": "text/x-ocaml",
   "name": "OCaml",
   "nbconverter_exporter": null,
   "pygments_lexer": "OCaml",
   "version": "4.12.1"
  }
 },
 "nbformat": 4,
 "nbformat_minor": 5
}
